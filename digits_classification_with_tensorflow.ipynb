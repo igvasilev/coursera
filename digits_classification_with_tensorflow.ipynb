{
  "nbformat": 4,
  "nbformat_minor": 0,
  "metadata": {
    "kernelspec": {
      "name": "python3",
      "display_name": "Python 3"
    },
    "language_info": {
      "codemirror_mode": {
        "name": "ipython",
        "version": 3
      },
      "file_extension": ".py",
      "mimetype": "text/x-python",
      "name": "python",
      "nbconvert_exporter": "python",
      "pygments_lexer": "ipython3",
      "version": "3.6.5"
    },
    "colab": {
      "name": "digits_classification_with_tensorflow.ipynb",
      "provenance": [],
      "include_colab_link": true
    },
    "accelerator": "GPU"
  },
  "cells": [
    {
      "cell_type": "markdown",
      "metadata": {
        "id": "view-in-github",
        "colab_type": "text"
      },
      "source": [
        "<a href=\"https://colab.research.google.com/github/igvasilev/coursera/blob/master/digits_classification_with_tensorflow.ipynb\" target=\"_parent\"><img src=\"https://colab.research.google.com/assets/colab-badge.svg\" alt=\"Open In Colab\"/></a>"
      ]
    },
    {
      "cell_type": "code",
      "metadata": {
        "id": "ZyrLeJDnk0EO",
        "colab_type": "code",
        "colab": {
          "base_uri": "https://localhost:8080/",
          "height": 355
        },
        "outputId": "58f918b5-3667-4e11-f085-3c1e643fcbf5"
      },
      "source": [
        "! shred -u setup_google_colab.py\n",
        "! wget https://raw.githubusercontent.com/hse-aml/intro-to-dl/master/setup_google_colab.py -O setup_google_colab.py\n",
        "import setup_google_colab\n",
        "setup_google_colab.setup_week2()"
      ],
      "execution_count": 1,
      "outputs": [
        {
          "output_type": "stream",
          "text": [
            "shred: setup_google_colab.py: failed to open for writing: No such file or directory\n",
            "--2020-02-14 12:02:10--  https://raw.githubusercontent.com/hse-aml/intro-to-dl/master/setup_google_colab.py\n",
            "Resolving raw.githubusercontent.com (raw.githubusercontent.com)... 151.101.0.133, 151.101.64.133, 151.101.128.133, ...\n",
            "Connecting to raw.githubusercontent.com (raw.githubusercontent.com)|151.101.0.133|:443... connected.\n",
            "HTTP request sent, awaiting response... 200 OK\n",
            "Length: 3636 (3.6K) [text/plain]\n",
            "Saving to: ‘setup_google_colab.py’\n",
            "\n",
            "setup_google_colab. 100%[===================>]   3.55K  --.-KB/s    in 0s      \n",
            "\n",
            "2020-02-14 12:02:15 (81.2 MB/s) - ‘setup_google_colab.py’ saved [3636/3636]\n",
            "\n",
            "**************************************************\n",
            "inception_v3_weights_tf_dim_ordering_tf_kernels_notop.h5\n",
            "**************************************************\n",
            "cifar-10-batches-py.tar.gz\n",
            "**************************************************\n",
            "mnist.npz\n"
          ],
          "name": "stdout"
        }
      ]
    },
    {
      "cell_type": "code",
      "metadata": {
        "id": "dfnWQFDekuPe",
        "colab_type": "code",
        "colab": {}
      },
      "source": [
        "# set tf 1.x for colab\n",
        "%tensorflow_version 1.x"
      ],
      "execution_count": 0,
      "outputs": []
    },
    {
      "cell_type": "markdown",
      "metadata": {
        "id": "3WbiZFN3kuP0",
        "colab_type": "text"
      },
      "source": [
        "# MNIST digits classification with TensorFlow"
      ]
    },
    {
      "cell_type": "markdown",
      "metadata": {
        "id": "3qEEvRZskuP7",
        "colab_type": "text"
      },
      "source": [
        "<img src=\"https://github.com/hse-aml/intro-to-dl/blob/master/week2/v2/images/mnist_sample.png?raw=1\" style=\"width:30%\">"
      ]
    },
    {
      "cell_type": "code",
      "metadata": {
        "id": "_PKikDAokuQC",
        "colab_type": "code",
        "colab": {
          "base_uri": "https://localhost:8080/",
          "height": 55
        },
        "outputId": "11152d0d-ef09-4a19-a078-7e44cb450716"
      },
      "source": [
        "import numpy as np\n",
        "from sklearn.metrics import accuracy_score\n",
        "from matplotlib import pyplot as plt\n",
        "%matplotlib inline\n",
        "import tensorflow as tf\n",
        "print(\"We're using TF\", tf.__version__)\n",
        "\n",
        "import sys\n",
        "sys.path.append(\"../..\")\n",
        "import grading\n",
        "\n",
        "import matplotlib_utils\n",
        "from importlib import reload\n",
        "reload(matplotlib_utils)\n",
        "\n",
        "import grading_utils\n",
        "reload(grading_utils)\n",
        "\n",
        "import keras_utils\n",
        "from keras_utils import reset_tf_session"
      ],
      "execution_count": 3,
      "outputs": [
        {
          "output_type": "stream",
          "text": [
            "We're using TF 1.15.0\n"
          ],
          "name": "stdout"
        },
        {
          "output_type": "stream",
          "text": [
            "Using TensorFlow backend.\n"
          ],
          "name": "stderr"
        }
      ]
    },
    {
      "cell_type": "markdown",
      "metadata": {
        "id": "REPOcNxQkuQQ",
        "colab_type": "text"
      },
      "source": [
        "# Fill in your Coursera token and email\n",
        "To successfully submit your answers to our grader, please fill in your Coursera submission token and email"
      ]
    },
    {
      "cell_type": "code",
      "metadata": {
        "id": "fxmE5qzykuQV",
        "colab_type": "code",
        "colab": {}
      },
      "source": [
        "grader = grading.Grader(assignment_key=\"XtD7ho3TEeiHQBLWejjYAA\", \n",
        "                        all_parts=[\"9XaAS\", \"vmogZ\", \"RMv95\", \"i8bgs\", \"rE763\"])"
      ],
      "execution_count": 0,
      "outputs": []
    },
    {
      "cell_type": "code",
      "metadata": {
        "id": "PMkWsqiXkuQh",
        "colab_type": "code",
        "colab": {}
      },
      "source": [
        "# token expires every 30 min\n",
        "COURSERA_TOKEN = \"kYGZPpkPplNfzFy6\"\n",
        "COURSERA_EMAIL = \"#\""
      ],
      "execution_count": 0,
      "outputs": []
    },
    {
      "cell_type": "markdown",
      "metadata": {
        "id": "rxOZ36dGkuQs",
        "colab_type": "text"
      },
      "source": [
        "# Look at the data\n",
        "\n",
        "In this task we have 50000 28x28 images of digits from 0 to 9.\n",
        "We will train a classifier on this data."
      ]
    },
    {
      "cell_type": "code",
      "metadata": {
        "id": "s8l91t9RkuQv",
        "colab_type": "code",
        "colab": {
          "base_uri": "https://localhost:8080/",
          "height": 55
        },
        "outputId": "3cdde31f-2f54-4797-d04b-75740620adc2"
      },
      "source": [
        "import preprocessed_mnist\n",
        "X_train, y_train, X_val, y_val, X_test, y_test = preprocessed_mnist.load_dataset()"
      ],
      "execution_count": 6,
      "outputs": [
        {
          "output_type": "stream",
          "text": [
            "Downloading data from https://s3.amazonaws.com/img-datasets/mnist.npz\n",
            "11313152/11490434 [============================>.] - ETA: 0s"
          ],
          "name": "stdout"
        }
      ]
    },
    {
      "cell_type": "code",
      "metadata": {
        "id": "jQgtkcMckuQ4",
        "colab_type": "code",
        "colab": {
          "base_uri": "https://localhost:8080/",
          "height": 701
        },
        "outputId": "9e69c139-3513-497a-b7be-6a97500fe0cd"
      },
      "source": [
        "# X contains rgb values divided by 255\n",
        "print(\"X_train [shape %s] sample patch:\\n\" % (str(X_train.shape)), X_train[1, 15:20, 5:10])\n",
        "print(\"A closeup of a sample patch:\")\n",
        "plt.imshow(X_train[1, 15:20, 5:10], cmap=\"Greys\")\n",
        "plt.show()\n",
        "print(\"And the whole sample:\")\n",
        "plt.imshow(X_train[1], cmap=\"Greys\")\n",
        "plt.show()\n",
        "print(\"y_train [shape %s] 10 samples:\\n\" % (str(y_train.shape)), y_train[:10])"
      ],
      "execution_count": 7,
      "outputs": [
        {
          "output_type": "stream",
          "text": [
            "X_train [shape (50000, 28, 28)] sample patch:\n",
            " [[0.         0.29803922 0.96470588 0.98823529 0.43921569]\n",
            " [0.         0.33333333 0.98823529 0.90196078 0.09803922]\n",
            " [0.         0.33333333 0.98823529 0.8745098  0.        ]\n",
            " [0.         0.33333333 0.98823529 0.56862745 0.        ]\n",
            " [0.         0.3372549  0.99215686 0.88235294 0.        ]]\n",
            "A closeup of a sample patch:\n"
          ],
          "name": "stdout"
        },
        {
          "output_type": "display_data",
          "data": {
            "image/png": "[encoded data removed]",
            "text/plain": [
              "<Figure size 432x288 with 1 Axes>"
            ]
          },
          "metadata": {
            "tags": []
          }
        },
        {
          "output_type": "stream",
          "text": [
            "And the whole sample:\n"
          ],
          "name": "stdout"
        },
        {
          "output_type": "display_data",
          "data": {
            "image/png": "[encoded data removed]",
            "text/plain": [
              "<Figure size 432x288 with 1 Axes>"
            ]
          },
          "metadata": {
            "tags": []
          }
        },
        {
          "output_type": "stream",
          "text": [
            "y_train [shape (50000,)] 10 samples:\n",
            " [5 0 4 1 9 2 1 3 1 4]\n"
          ],
          "name": "stdout"
        }
      ]
    },
    {
      "cell_type": "markdown",
      "metadata": {
        "id": "iGdie1DpkuQ9",
        "colab_type": "text"
      },
      "source": [
        "# Linear model\n",
        "\n",
        "Your task is to train a linear classifier $\\vec{x} \\rightarrow y$ with SGD using TensorFlow.\n",
        "\n",
        "You will need to calculate a logit (a linear transformation) $z_k$ for each class: \n",
        "$$z_k = \\vec{x} \\cdot \\vec{w_k} + b_k \\quad k = 0..9$$\n",
        "\n",
        "And transform logits $z_k$ to valid probabilities $p_k$ with softmax: \n",
        "$$p_k = \\frac{e^{z_k}}{\\sum_{i=0}^{9}{e^{z_i}}} \\quad k = 0..9$$\n",
        "\n",
        "We will use a cross-entropy loss to train our multi-class classifier:\n",
        "$$\\text{cross-entropy}(y, p) = -\\sum_{k=0}^{9}{\\log(p_k)[y = k]}$$ \n",
        "\n",
        "where \n",
        "$$\n",
        "[x]=\\begin{cases}\n",
        "       1, \\quad \\text{if $x$ is true} \\\\\n",
        "       0, \\quad \\text{otherwise}\n",
        "    \\end{cases}\n",
        "$$\n",
        "\n",
        "Cross-entropy minimization pushes $p_k$ close to 1 when $y = k$, which is what we want.\n",
        "\n",
        "Here's the plan:\n",
        "* Flatten the images (28x28 -> 784) with `X_train.reshape((X_train.shape[0], -1))` to simplify our linear model implementation\n",
        "* Use a matrix placeholder for flattened `X_train`\n",
        "* Convert `y_train` to one-hot encoded vectors that are needed for cross-entropy\n",
        "* Use a shared variable `W` for all weights (a column $\\vec{w_k}$ per class) and `b` for all biases.\n",
        "* Aim for ~0.93 validation accuracy"
      ]
    },
    {
      "cell_type": "code",
      "metadata": {
        "id": "X8-Z0TwNkuRA",
        "colab_type": "code",
        "colab": {
          "base_uri": "https://localhost:8080/",
          "height": 55
        },
        "outputId": "992e0262-1e59-4538-cf20-aa095ccf6d2f"
      },
      "source": [
        "X_train_flat = X_train.reshape((X_train.shape[0], -1))\n",
        "print(X_train_flat.shape)\n",
        "\n",
        "X_val_flat = X_val.reshape((X_val.shape[0], -1))\n",
        "print(X_val_flat.shape)"
      ],
      "execution_count": 8,
      "outputs": [
        {
          "output_type": "stream",
          "text": [
            "(50000, 784)\n",
            "(10000, 784)\n"
          ],
          "name": "stdout"
        }
      ]
    },
    {
      "cell_type": "code",
      "metadata": {
        "id": "jEucBJDukuRM",
        "colab_type": "code",
        "colab": {
          "base_uri": "https://localhost:8080/",
          "height": 92
        },
        "outputId": "8b8ead7f-074f-4956-98d9-bc4da3c94223"
      },
      "source": [
        "import keras\n",
        "\n",
        "y_train_oh = keras.utils.to_categorical(y_train, 10)\n",
        "y_val_oh = keras.utils.to_categorical(y_val, 10)\n",
        "\n",
        "print(y_train_oh.shape)\n",
        "print(y_train_oh[:3], y_train[:3])"
      ],
      "execution_count": 9,
      "outputs": [
        {
          "output_type": "stream",
          "text": [
            "(50000, 10)\n",
            "[[0. 0. 0. 0. 0. 1. 0. 0. 0. 0.]\n",
            " [1. 0. 0. 0. 0. 0. 0. 0. 0. 0.]\n",
            " [0. 0. 0. 0. 1. 0. 0. 0. 0. 0.]] [5 0 4]\n"
          ],
          "name": "stdout"
        }
      ]
    },
    {
      "cell_type": "code",
      "metadata": {
        "id": "4bRUB1W6kuRV",
        "colab_type": "code",
        "colab": {}
      },
      "source": [
        "# run this again if you remake your graph\n",
        "s = reset_tf_session()"
      ],
      "execution_count": 0,
      "outputs": []
    },
    {
      "cell_type": "code",
      "metadata": {
        "id": "wvXtlgp3kuRd",
        "colab_type": "code",
        "colab": {}
      },
      "source": [
        "# Model parameters: W and b\n",
        "W = tf.get_variable(\"w\", shape=(784, 10), dtype=\"float32\") # tf.get_variable(...) with shape[0] = 784\n",
        "b = tf.get_variable(\"b\", shape=(1, 10), dtype=\"float32\") # tf.get_variable(...)"
      ],
      "execution_count": 0,
      "outputs": []
    },
    {
      "cell_type": "code",
      "metadata": {
        "id": "mIT_sAZ9kuRk",
        "colab_type": "code",
        "colab": {}
      },
      "source": [
        "# Placeholders for the input data\n",
        "input_X = tf.placeholder(shape=(None, 784), name=\"x\", dtype=\"float32\")  # tf.placeholder(...) for flat X with shape[0] = None for any batch size\n",
        "input_y = tf.placeholder(shape=(None, 10), name=\"y\", dtype=\"float32\") # tf.placeholder(...) for one-hot encoded true labels"
      ],
      "execution_count": 0,
      "outputs": []
    },
    {
      "cell_type": "code",
      "metadata": {
        "id": "I2ep5DRykuRx",
        "colab_type": "code",
        "colab": {}
      },
      "source": [
        "# Compute predictions\n",
        "logits =  input_X @ W + b # logits for input_X, resulting shape should be [input_X.shape[0], 10]\n",
        "probas =  tf.nn.softmax(logits) # apply tf.nn.softmax to logits\n",
        "classes =  tf.argmax(probas, axis=1) # apply tf.argmax to find a class index with highest probability\n",
        "\n",
        "# Loss should be a scalar number: average loss over all the objects with tf.reduce_mean().\n",
        "# Use tf.nn.softmax_cross_entropy_with_logits on top of one-hot encoded input_y and logits.\n",
        "# It is identical to calculating cross-entropy on top of probas, but is more numerically friendly (read the docs).\n",
        "loss = tf.reduce_mean(tf.nn.softmax_cross_entropy_with_logits(logits=logits, labels=input_y))  # cross-entropy loss\n",
        "\n",
        "# Use a default tf.train.AdamOptimizer to get an SGD step\n",
        "step =  tf.train.AdamOptimizer().minimize(loss) # optimizer step that minimizes the loss"
      ],
      "execution_count": 0,
      "outputs": []
    },
    {
      "cell_type": "code",
      "metadata": {
        "scrolled": false,
        "id": "tlcS6P0gkuR4",
        "colab_type": "code",
        "colab": {
          "base_uri": "https://localhost:8080/",
          "height": 309
        },
        "outputId": "563b85a1-55d3-42dd-e996-e59d40e7f58d"
      },
      "source": [
        "s.run(tf.global_variables_initializer())\n",
        "\n",
        "BATCH_SIZE = 512\n",
        "EPOCHS = 40\n",
        "\n",
        "# for logging the progress right here in Jupyter (for those who don't have TensorBoard)\n",
        "simpleTrainingCurves = matplotlib_utils.SimpleTrainingCurves(\"cross-entropy\", \"accuracy\")\n",
        "\n",
        "for epoch in range(EPOCHS):  # we finish an epoch when we've looked at all training samples\n",
        "    \n",
        "    batch_losses = []\n",
        "    for batch_start in range(0, X_train_flat.shape[0], BATCH_SIZE):  # data is already shuffled\n",
        "        _, batch_loss = s.run([step, loss], {input_X: X_train_flat[batch_start:batch_start+BATCH_SIZE], \n",
        "                                             input_y: y_train_oh[batch_start:batch_start+BATCH_SIZE]})\n",
        "        # collect batch losses, this is almost free as we need a forward pass for backprop anyway\n",
        "        batch_losses.append(batch_loss)\n",
        "\n",
        "    train_loss = np.mean(batch_losses)\n",
        "    val_loss = s.run(loss, {input_X: X_val_flat, input_y: y_val_oh})  # this part is usually small\n",
        "    train_accuracy = accuracy_score(y_train, s.run(classes, {input_X: X_train_flat}))  # this is slow and usually skipped\n",
        "    valid_accuracy = accuracy_score(y_val, s.run(classes, {input_X: X_val_flat}))  \n",
        "    simpleTrainingCurves.add(train_loss, val_loss, train_accuracy, valid_accuracy)"
      ],
      "execution_count": 108,
      "outputs": [
        {
          "output_type": "display_data",
          "data": {
            "text/html": [
              "<img src=\"data:image/jpeg;base64,/9j/4AAQSkZJRgABAQEASABIAAD/2wBDAAIBAQEBAQIBAQECAgICAgQDAgICAgUEBAMEBgUGBgYFBgYGBwkIBgcJBwYGCAsICQoKCgoKBggLDAsKDAkKCgr/2wBDAQICAgICAgUDAwUKBwYHCgoKCgoKCgoKCgoKCgoKCgoKCgoKCgoKCgoKCgoKCgoKCgoKCgoKCgoKCgoKCgoKCgr/wAARCAEgA2ADASIAAhEBAxEB/8QAHwAAAQUBAQEBAQEAAAAAAAAAAAECAwQFBgcICQoL/8QAtRAAAgEDAwIEAwUFBAQAAAF9AQIDAAQRBRIhMUEGE1FhByJxFDKBkaEII0KxwRVS0fAkM2JyggkKFhcYGRolJicoKSo0NTY3ODk6Q0RFRkdISUpTVFVWV1hZWmNkZWZnaGlqc3R1dnd4eXqDhIWGh4iJipKTlJWWl5iZmqKjpKWmp6ipqrKztLW2t7i5usLDxMXGx8jJytLT1NXW19jZ2uHi4%2BTl5ufo6erx8vP09fb3%2BPn6/8QAHwEAAwEBAQEBAQEBAQAAAAAAAAECAwQFBgcICQoL/8QAtREAAgECBAQDBAcFBAQAAQJ3AAECAxEEBSExBhJBUQdhcRMiMoEIFEKRobHBCSMzUvAVYnLRChYkNOEl8RcYGRomJygpKjU2Nzg5OkNERUZHSElKU1RVVldYWVpjZGVmZ2hpanN0dXZ3eHl6goOEhYaHiImKkpOUlZaXmJmaoqOkpaanqKmqsrO0tba3uLm6wsPExcbHyMnK0tPU1dbX2Nna4uPk5ebn6Onq8vP09fb3%2BPn6/9oADAMBAAIRAxEAPwD9/KKKKACiiigAooooAKKKKACiiigAooooAKKKKACiiigAooooAKKKKACiiigAooooAKKKKACiiigAooooAKKKKACiiigAooooAKKKKACiiigAooooAKKKKACiiigAooooAKKKKACiiigAooooAKKKKACiiigAooooAKKKKACiiigAooooAKKKKACiiigAooooAKKKKACiiigAooooAKKKKACiiigAooooAKKKKACiiigAooooAKKKKACiiigAooooAKKKKACiiigAooooAKKKKACiiigAooooAKKKKACiiigAooooAKKKKACiiigAooooAKKKKACiiigAooooAKKKKACiiigAooooAKKKKACvPfjt%2B1J8FP2b5NGsfil4g1Maj4ilnTQNB8OeF9R1zVNR8lVed4bHTbee5kjiVkMkixlI96biu5c%2BhV4N%2B0P8D/j5/wANJ%2BDv2tv2bLLwfrWueH/B2seFNX8KeOdcutLtLywv7mwuxcQXtraXj288U2noCpt3WVJSCUKK1ABpf/BTL9izWLvxPb2nxXv0h8FWsk/jLUrvwXrEFjoIS0iu9l5dy2iwWsrQzRskMjrJIWKorMrKL2n/APBQ/wDZK1HwBrXxFTx/q9vB4f1ay0vVdE1DwNrNrrkV5ebfscC6PNaLqEr3AYGER27eaAxTcFYjy2b9gH4y%2BMf2a/jn8NfGHinwppHin4o/FS38daHc6U1xeWFpeW0OiywQ3IkihkkiN3pRRwoyYHGDuJVaPi79i/8AaV%2BLmr/Ef45fG34S/CjWvFnjWx8KaPp/gKy%2BI2s2Wm6fY6Hcaldw3qa7b6al5DqDXOqTOksVoPJSKNFZiWcgHsviH9vv9mzwv4a8OeI9XvvG3meK0v5NE8P2vwm8SXGuSRWUscV3NJpMWntf28MLzQq8s0CIpmiy37xM%2Bmaz8RPBHhv4e3XxX8T%2BJbbSvDljo76rf6vqrfZYbSySIzPPMZdvlKsYLNvxtAOcYNfGHin9hH9s/WPgX4X8Nay3hfxV470a58RHRfGV/wDHbxNpGr%2BCLW%2BuUktLO11q1sJLzXIYkjhEy3qw/aTbReYCFGPUfjR/wTotfj1%2Bzb4n%2BHHxD%2BOfjW78d%2BMPhfH4Z17xS3jbWho818tpDE2oJoS3y2FuzzQLK3kRRSEPIBIrSM5AOkg/4KUfsZf8K58V/FbWPite6Jo3giysr7xQ/ifwdq%2Bk3NlZXkxhtb37LeWsVxJaSyK6pcxxtC3luQ%2BEYjj/AI3f8FZP2d/hn8ENU%2BMfgPRfFXiqbQfiD4X8L674Y/4QXXbHU7A6zqVrax3T2cmnNdeV5Fw88DeT5d48aW8MhknjB8r1T/gmJ8ZPHfwq8faR4i8DeG9G8Y%2BI9D0fR7DxDqv7RfjPxut3aWusW%2BoTRyf27AfsEZ8likUSzHe%2BGkxknv8A9qH9gz40/GD4g/F/4g%2BBfEPheOTxfB8LbzwlZ6tfXMSvf%2BE/EdzrUsN40dvJ5ENwGt4VljEzrl2MfyKrgHqFh/wUE/Zb1H4m2XwZh8T%2BJo/Fd5oun6xLoF38N9egudO0%2B9adILu/SSyU6dDut5VeS68pYiFEhQum6j4a/wCCmH7FPi3wZ4s%2BIWkfGC4TR/Bfgi68Zaxe6h4S1W0Fx4et0Z5tWsVntUbVLNVQ4nsxPGxZArEugbB0P9kP4ofEP4mfG74g/G9fD2gxfGj4O%2BHfCF1Y%2BE9duNRl0u4tE11Ltlnns7XzYwNViMT7FZikm6OPA3fN37Y37Kn7UOj/ALDHxS%2BJv7TF34AtIfhD%2BxT8QfBHhePwFqF5cNrzXukWxn1G6W5toBYqE0i3CWcbXAVppCZ22oKAPrPw9/wUl/Yy8TaHrHiPT/i1dQWehppU1/JqnhLVbJmtNSu1s7HUIUuLVGubCWdgovoQ9qoDO0qorMPT9E%2BLvw88R/FLX/gvofiH7T4k8LaXp%2Boa/YR2k22zgvmuBa7pinlF3%2ByzHy1cyKoRmVVkjLfJOofsz%2BIPFegeKfjb/wAFIvF/wz8J%2BBbf9nu5%2BHUlx4f8QTLay6beyQyXmq3k17BbpYOTBbCG2QzCAmT/AEiQsuOw/wCCPngP4u2f7I9r8f8A9pDUDf8AxJ%2BL15H4n8V6g9nJbtJCLSCy01fKl%2BeH/iX2lpI0TYKSzTZAYtkA%2BqqKKKACiiigAooooAKKKKACiiigAooooAKKKKACiiigAooooAKKKKACiiigAooooAKKKKACiiigAooooAKKKKACiiigAooooAK8R0j/AIKMfse6ld69Z6n8Urzw83hzw5c%2BINQk8a%2BEdV0GObSbd0jnv7WTUrWBb63R5IlaW2MqAyxjOXXPtN7FczWcsNndCCZ4mWKYx7/LYjhtp64POO9fmJq//BHL9uX4v6t4X1z43fHHQ31vw14P1Cz1DxRqHxW8TeJx4h1v7ZpV9a6idLvoobLSbaS50xfPsLIBRHJtWWQKgUA%2B2X/b/wD2YbX4aN8WNY8QeKtK0ttcg0axs9c%2BGWv2GqanfzIZIYLLTbixS9v2kQM6/Z4ZAyo7AkIxHReA/wBqz4H/ABH1%2By8J%2BHPEOqQ6vf8AhSfxJDpGteFdS0y7TTYbv7JLLLDeW8UkDrP8hhkVZe%2BzbzXk3xO%2BDn7bvxib4e/G3XPBvwq0P4h/Cjx1NrHh/wAM2vjjUr/Rdcs7jSbvTLmO4vn0qGaxmKXskkbpa3AjMQU%2BYJGxV%2BJPwG/bg1/4y%2BHf2mvA%2BjfCu08WX3ww1XwX4x0LUvFepSWGkLcX8N1a39lcJpwk1AxCN1kt5YrQSlxiWLHIB3Gk/wDBRv8AZA8R694F8LeFfiNqus6n8SfBuleLfBunaJ4H1m9nvND1F9lrqMiQWjNa2%2B7HmSTiNbcMpm8oMCdj4a/tufs3fFf4jXPwn8M%2BL9Ws9ft9LudThsvE/gzVtEW/sbeRI57uyl1G1gjv4I3liDy2zSIvmISQGUnyj9hT9hL4sfsw6/8ADjWfHniDw1dnwd%2Byl4R%2BGN%2B%2BkXM8rNq2lvM1zNF5kEe61bemxmKu235o0wK8a%2BGn/BKv9sbxP8UfC/ib9qb4w2eqRaf4A8V%2BF/GniaD4v%2BJNavPEUur2KW39p2umX0Men6EcqWNpaKUXKgTOI1WgD6l8J/8ABRf9kfxrosfirQfHeuf2Hcarpen6f4lvfh/rdrpWoy6lex2VlJaX09mlteQS3M0UYuIJHhBlQs4VgT6X4W%2BLvw88a/EDxT8LvC/iH7XrnguSzj8T2iWkwWxkuoPtEEZlZBG7tCVkKIzMiyRlgokTd8w%2BOPAnxF8K/wDBPbxp8CP%2BChnif4VeCPAWg/DSLQLb4meHfFt2GadI0trXUntLqzgTTZlmFvJDBHcXTGcoiOTtDdr/AMEr/h98WPDf7ImlfFX9oqwS3%2BJ3xYvpfHXxEhW3aL7Pf36xmG02N8yfZbGOys9pyQLXBoA%2BjaKKKACiiigAooooAKKKKACiiigAooooAKKKKACiiigAooooAKKKKACiiigAooooAKKKKACiiigAooooAKKKKACiiigAooooAKKKKACvF/j14/8A2i/%2BGi/AvwI%2BAvjPwV4fTX/BXiXXtX1Pxf4Lu9aJOnXeh28MMMdvqVj5Yb%2B1JWZmZ8%2BWgAXkn2ivCviLrSWX/BSr4Q6LIoxe/BP4hsjZ53R6t4NOPyZj%2BFJtLcuEJVHaPZv7tWX/APhB/wDgoX/0dB8Gf/DD6t/81FH/AAg//BQv/o6D4M/%2BGH1b/wCaivZqKZB4z/wg/wDwUL/6Og%2BDP/hh9W/%2Baij/AIQf/goX/wBHQfBn/wAMPq3/AM1FezUUAeM/8IP/AMFC/wDo6D4M/wDhh9W/%2Baij/hB/%2BChf/R0HwZ/8MPq3/wA1FezUUAeM/wDCD/8ABQv/AKOg%2BDP/AIYfVv8A5qKP%2BEH/AOChf/R0HwZ/8MPq3/zUV7NRQB4z/wAIP/wUL/6Og%2BDP/hh9W/8Amoo/4Qf/AIKF/wDR0HwZ/wDDD6t/81FezUUAeM/8IP8A8FC/%2BjoPgz/4YfVv/moo/wCEH/4KF/8AR0HwZ/8ADD6t/wDNRXs1FAHjP/CD/wDBQv8A6Og%2BDP8A4YfVv/moo/4Qf/goX/0dB8Gf/DD6t/8ANRXs1FAHjP8Awg//AAUL/wCjoPgz/wCGH1b/AOaij/hB/wDgoX/0dB8Gf/DD6t/81Feo%2BMxv0MQMTsmvrSKUA43I9zGrL9CpIPsa8x1/9qD/AIJ%2B%2BFNdvfC3in9oj4Oabqem3clrqOnah4u0qGe1njYpJFJG8oZHVgVZWAIIIIyKyq16FBJ1JqN%2B7S/No7sDleZ5pOUMFh6lVxV2qcJ1GltdqEJtK%2Bl2kr6XvoM/4Qf/AIKF/wDR0HwZ/wDDD6t/81FH/CD/APBQv/o6D4M/%2BGH1b/5qKr/8Nf8A/BOD/o6L4I/%2BFto//wAdq3oH7UH/AAT98V67ZeFvC37RHwc1LU9Su47XTtO0/wAW6VNPdTyMEjijjSUs7sxCqqgkkgAZNZLHYFuyqw/8Dj/8kehPhXimnBznl%2BISSbbdCukktW23QSSSTbbaSSbbSTYz/hB/%2BChf/R0HwZ/8MPq3/wA1FH/CD/8ABQv/AKOg%2BDP/AIYfVv8A5qK0f2q/iX8Kv2UP2b/Gv7SXin4XLq2n%2BCvD1xqt1pukaIJri5WJc7EWONiMnGXI2ouXcqqsw5/Sf2s/2P8AXPG8vw10vw1r8viG28OLr2oaL/wprXVutPsHju3iluo208NatL9huVijmCSTPGI41d3RW6jwS/8A8IP/AMFC/wDo6D4M/wDhh9W/%2Baij/hB/%2BChf/R0HwZ/8MPq3/wA1FUtM/ac/Zg8TSeHf%2BEV0ywQ6z46m8K3th4l8Jajo%2Bo2N9Ho11q5hayubATJKbW3WZVuFt43hk8xZWYxRzN%2BCn7X/AOwv%2B0Fo03iP4beJtL/s6Lw/p%2Bupf%2BIvCN3osFzpd8zLa3sEmo20C3NvI6lBLEXUPhCQxAoAv/8ACD/8FC/%2BjoPgz/4YfVv/AJqKP%2BEH/wCChf8A0dB8Gf8Aww%2Brf/NRTf2jfiI3wr1/wf8ADT4QfADw14u8Z%2BNr28TStL1rVV0ixgtbO1a4ubme6SzunQD9zEqrC5aS4jzsQO6zeBfiFYfG/wDZa8P/ALQnwE%2BBOg6lqnijQrHUdK8M%2BJ71NMjhacx%2BbDc3UVtcmIwBpNxjil3NEQoO4GgCP/hB/wDgoX/0dB8Gf/DD6t/81FH/AAg//BQv/o6D4M/%2BGH1b/wCaivEfHX/BQ/QfA/gvwrf658BvhToWta18VNc8Ca1P42%2BJ0ek%2BHdPvdMgupZJYdVOlytcpI1t5KK1tC/msyMFaMg9p4p/as0nw/wDtk%2BH/ANkIfC/4N2l7qfg3Qdfu7zxH8TV0%2B6vBqF7qNvLb6PZ/2XIdVeBdOeTJkt9/nxAiPJYAHdf8IP8A8FC/%2BjoPgz/4YfVv/moo/wCEH/4KF/8AR0HwZ/8ADD6t/wDNRXD/AAO/av8ADfxp%2BPvxI%2BD9t8MPhNaW/wAO9Y1KwubKD4hpc%2BJZha%2BWFuZdHGmqLe3kL4EhuWxgcNnjP/ZJ/bf%2BF37QH7I1z%2B2J8QPA3wq0vQYfD9jqjad8PPHS%2BKry1kuLZJv7OukGnWhhvw0sUK2qea8kr7Bg7QwB6R/wg/8AwUL/AOjoPgz/AOGH1b/5qKP%2BEH/4KF/9HQfBn/ww%2Brf/ADUV5Ta/tmeK7z9k3wp%2B1CP2KvDNs%2BofEpvCfjXw5feMo1k0Db4obw800M0enut84mAl8rbCu3I83gM3WfEb9qX4d%2BGv2ttN/ZN8I%2BBvhg%2BpeXpsutzeM/HEGiXMgvJZAtvpVoLOeTVLqOGFpnizAgEtuvmkyN5YB1X/AAg//BQv/o6D4M/%2BGH1b/wCaij/hB/8AgoX/ANHQfBn/AMMPq3/zUVwHwm/bM8CfED4yaZ4G8U/A3wroHhzxXrvi3RvBGtHX4p9QvLvw7dy21%2BLywNpGtkhFvPLGyzzkIiiVYXdUqh8Pv2zpvjR8JfjF8Tfg/wDsjaBdv8ONZij8MWfiDxEthH4n0qTTbTUYtTeRLCZrFJba582OLy5nZBGW2NIyRgHp3/CD/wDBQv8A6Og%2BDP8A4YfVv/moo/4Qf/goX/0dB8Gf/DD6t/8ANRXm/wAWv24Phh8PPAfwn1S1%2BG/w107xB8V/CTeI7K2%2BI3jm38O6NptlHDYtOJdRaznZ5fO1G0hiiS3LSl2bCLG5HRfFf9qDwR8Nf2ifhb%2Bzlp/wF0nWtR8c6lFbeK9StLuJbbwss9hf3NoSfIJu3uH066VEHl/JBJIzL%2B7SUA6b/hB/%2BChf/R0HwZ/8MPq3/wA1FH/CD/8ABQv/AKOg%2BDP/AIYfVv8A5qK53SPi98RU%2BOtz%2Bzx4z/ZS8Badr%2BqeBtY8TeBnsPGzXlvdxWF3Z2vk6m39lI2mtK9/blWiW8UqlzgsYQr%2Be3X7eX/CE%2BCvH%2BufGf8AZo%2BG2gX/AIT%2BJll4F0Ka1%2BIgl0XVtTlsYL25km1G70q1%2BxW1pFM5nl8mUg2twqK7oEcA9k/4Qf8A4KF/9HQfBn/ww%2Brf/NRVDwP44/as8HftWeHPgj8bviP8PfE2jeJvh74h1yGbwr8PL7Rbq0utNvtEt0VnuNXvkljdNUlJUIjBokIbGQem%2BHupaT8QPgDb/FSXw34Jtr%2B90ee9trvwHr66xp3G8xS2uoC2tzcIyqj7/KTklcHGTkeOP%2BUhfwv/AOyM%2BPP/AE7eEKAPZqKKKACiiigAooooAK%2BcfhN4q/bv%2BOuj69478L/G/wCEmgaXb/ELxVoel6Vf/B/VL%2B4itdL16/0yFpbhPEUCyyPHZq7MsUa7nICgAV9HV4z%2Bwf8A8kQ1z/ss3xH/APU11ugA/wCEH/4KF/8AR0HwZ/8ADD6t/wDNRR/wg/8AwUL/AOjoPgz/AOGH1b/5qK9mooA8Z/4Qf/goX/0dB8Gf/DD6t/8ANRR/wg//AAUL/wCjoPgz/wCGH1b/AOaivZqKAPGf%2BEH/AOChf/R0HwZ/8MPq3/zUUf8ACD/8FC/%2BjoPgz/4YfVv/AJqK9mooA8Z/4Qf/AIKF/wDR0HwZ/wDDD6t/81FH/CD/APBQv/o6D4M/%2BGH1b/5qK9mooA8Z/wCEH/4KF/8AR0HwZ/8ADD6t/wDNRR/wg/8AwUL/AOjoPgz/AOGH1b/5qK9mooA8Z/4Qf/goX/0dB8Gf/DD6t/8ANRR/wg//AAUL/wCjoPgz/wCGH1b/AOaivZqKAPGf%2BEH/AOChf/R0HwZ/8MPq3/zUUf8ACD/8FC/%2BjoPgz/4YfVv/AJqK9mooA8Z/4Qf/AIKF/wDR0HwZ/wDDD6t/81FH/CD/APBQv/o6D4M/%2BGH1b/5qK9mooA8Z/wCEH/4KF/8AR0HwZ/8ADD6t/wDNRR/wg/8AwUL/AOjoPgz/AOGH1b/5qK9mooA8Z/4Qf/goX/0dB8Gf/DD6t/8ANRR/wg//AAUL/wCjoPgz/wCGH1b/AOaivZqKAPGf%2BEH/AOChf/R0HwZ/8MPq3/zUUf8ACD/8FC/%2BjoPgz/4YfVv/AJqK9mooA8Z/4Qf/AIKF/wDR0HwZ/wDDD6t/81FH/CD/APBQv/o6D4M/%2BGH1b/5qK9mqK5v7Gyx9svYod33fNkC5/OjYG0jx7/hB/wDgoX/0dB8Gf/DD6t/81FH/AAg//BQv/o6D4M/%2BGH1b/wCaivUNa8e%2BBvDdkdS8ReM9JsLZfvXF7qMUSD/gTMBXmPi//goh%2Bwl4Ed4vEv7Xnw8ilj/1kFv4rtbiVfYpC7MPyrCrisLQV6tSMfWSX5tHNXxuDwyvWqxj6yivzkhv/CD/APBQv/o6D4M/%2BGH1b/5qKP8AhB/%2BChf/AEdB8Gf/AAw%2Brf8AzUVwN7/wWn/4JiWF6bCf9qvT2derQ%2BH9TkT/AL7S2Kn86mi/4LM/8Ey5k3p%2B1dpIH%2B1pGoKfyNvXH/bWT3/3mn/4HH/M4P8AWHIL2%2Bt0v/BkP/kjuP8AhB/%2BChf/AEdB8Gf/AAw%2Brf8AzUUf8IP/AMFC/wDo6D4M/wDhh9W/%2BaivO9f/AOC2f/BMnQbbz/8AhpmC%2Bkb/AFdvpnhvUp5HPp8ttgfiRXmPi3/g4v8A2E/D9z9i0Twj8RNZkY4ikt9BtraJvctc3UZUe%2B2savEORUfjxMP/AAJP8rnVhMywWYVPZ4KXtpdqUZ1n91GnVf4H0l/wg/8AwUL/AOjoPgz/AOGH1b/5qKP%2BEH/4KF/9HQfBn/ww%2Brf/ADUV8deIf%2BDkf4U6VGbvTP2ZNXuoMZQv420wSEe8cTSEVVtP%2BDivxBrVst74W/4J3%2BMtRhkGY5YteYq30KWTA1yPi7h1Oyr39Iyf5RZ78Mj4nqU1UjlWMcX1%2Bp4tL75UIH2f/wAIP/wUL/6Og%2BDP/hh9W/8Amoo/4Qf/AIKF/wDR0HwZ/wDDD6t/81FfIWg/8F9fixqVxt1H/gl98REizw9hqM9wxH%2B6dPQfrXZ2f/Bab4ka7AB4T/4JbfHjUZ8fNFF4cmKg%2Bm5IWP44rWHFGSVF7tR/%2BAVP/kDhxWHzPAy5cVg8RTfaeHrx/On%2BqPor/hB/%2BChf/R0HwZ/8MPq3/wA1FH/CD/8ABQv/AKOg%2BDP/AIYfVv8A5qK%2Beov%2BCsH7aV4d1h/wRr%2BLJQ/dNzdTQn8Q1hxV60/4KPf8FG/EiGPwt/wRu8WRv2k1nx9DaAH6S2aZ/MVouIcsl8PO/SlV/wDkDinipU1rRq/%2BCan/AMie7/8ACD/8FC/%2BjoPgz/4YfVv/AJqKt/srfEb40%2BMNY%2BKHgT46a/4X1bVPAPxCi0Oz1Xwn4audJt7q1l0HR9TVnt7i9vGWRZNRlQsJdpWNDtU5z4A37Vf/AAWr1aLzNG/4Jf8AhewDfdbUvifYPj6qtwh/QV3n/BM7xD8d/Fc3x01/9pnwBpnhfxvcfGaL%2B2tC0a9W5trXb4S8OLDskV3DboBE5%2BY4ZyOMYHXhMyo4yo4QhNaXvKEor75Ja%2BRVHExrPl5JRf8Aei4/jqvle59PUUUV6B0BRRRQAUUUUAFFFFABRRRQAUUUUAFFFFABRRRQAUUUUAFFFFAHMfGjQ/FviP4W63pHgX4lal4P1WSzL2niPSLK0uLmyKMHYxx3kM0DMyqyfvI3A35wSBXnn7NHiz4lfH3/AIJ8/DP4heJPi1d6J4q8XfCjQNW1nxnYafY%2BfDd3Gn289zcpDNC1qjFmkIDRGJd33CBtr0/4jfD/AMP/ABU8E6h8PvFVzq8OnapCIruTQfEN7pV2FDBsR3djLFcQkkAExyKSCVOQSD5np37AP7Mmm/s63P7JsWieLZ/h9d%2BGD4dl8O33xQ8QXKrpZK/6Kk0t800aBVEQ2OCIsxAiMlCAVf2CPiN8SPil8Ldf8V%2BL/H2oeMPDjeM7uL4aeN9Y021tL3xHoCwW4S%2Bljs4YIGVrv7asMsUMaT2sdtMFPm728u%2BLfxl8Oa7/AMFkPgH4C0iw8QQXenfDj4kWOoS6r4T1GwtZ2d/Dcy/Zbm5gjgvlH2c7mtnlVPl3Fdy5%2BmPg98GvBnwL8Jt4K8B3viOawNyZ1HibxnqeuTRnYkexJ9SuJ5Y4gsa4iVhGp3EKCzE/Lf7Z2rnSP%2BCxn7F25sR3fh/4n20hz/esNHKj/vpVrlxk/Z0Obzj%2BMor9T3eHMN9bzT2XenWf/gNCtL/20%2BzqKKK6jwgooooAKKKKACiiigAooooAKKKKACiiigDL8Yf8gmH/ALCtj/6VxVwuv/sTfsZeK9dvfFPin9kf4Y6lqepXcl1qOo6h4B06ae6nkYvJLJI8JZ3ZiWZmJJJJJya7rxh/yCYf%2BwrY/wDpXFXzt4//AOCyn/BNz4X%2BO9b%2BGnjr9o77Drfh3V7nTNYsv%2BEQ1iX7PdW8rRSx747Rkfa6MNysVOMgkc1w46tltGEXjJQSb05%2BW1/LmT1t2KjxJU4b/ewxrw3PpdVZUua2trxqU723s27b26non/DA/wCwr/0ZZ8Jf/Dc6Z/8AGKt6B%2BxN%2Bxl4U12y8U%2BFv2R/hjpup6bdx3Wnajp/gHToZ7WeNg8csciQhkdWAZWUgggEHIrxn/h%2Bb/wSy/6Oi/8ALJ1z/wCQq1/AP/BZT/gm58UPHei/DTwL%2B0d9u1vxFq9tpmj2X/CIaxF9ouriVYoo98loqJud1G5mCjOSQOa8%2BGN4Yc0ozo3urW9ne/S2m97WK/4ibia/7p55OXNpb63Vd76Wt9Yd73tazve1nez9l/aa%2BCdl%2B0n%2Bzp47/Z71DX5dJh8b%2BEdQ0N9VggEr2f2q3eETBCQHKFw20kBtuMjOa8v8RfsTfELx/oPxdl8e/H21i8SfFv4d6b4Zvta8J%2BFZtNh02SzGohbmKKS%2BnkZHF%2BA0RmBxE2JB5g2eufHX4w%2BHP2ffg94j%2BN/jLTNRutG8K6VLqesppUKSTxWcQ3TzBXdAyxxh5WGc7Y22hmwp8v8AjP8A8FEPg78FtL8Xa5qnhvU9QsfBXi2z8N6xqI8QaDpVo9/cabFqISG41fUrOGTZBPAGAffvmCor7JCnvGZ518Ef%2BCU0Xwi8RQ%2BJofiT4QsNvxcHjl9B8BfC%2BPQNIgYeEbzw4bO2tUvJTCG%2B1C7aVnkZnRlI%2BcOnoXwN/Yo8Q/AKPwJd%2BEfi5ZXN/wCBvgbpXw6t5dQ8Lu0N39jkgY3zRpdqy71hYCEOdhcHzG27W5S1/wCCjuk%2BKfH0d/4JuLS48Ba54M%2BEmu%2BEdVi0KSe8uv8AhMPEGraaVmR7uFY4xFZ2ZVgC8DSTOyXOFgqx4N/4KNH4mftFeD/BHhD4P%2BJrLwD4j8FeLNftPFmqaEs7eIYdJuNOhjn0uOyuZpzG/wBqlbyp7dJ5g0DQoQTkA9P/AGjfgF44%2BKniDwf8TPg/8T9O8I%2BM/BN7ePpWqa14afV7Ge1vLVre5tp7VLq1dwf3MqssyFZLePO9C6Nzlz%2Byl8XvBX7Hyfsn/s4/tHQ%2BDZtO8D6doPh/xte%2BE21DUbO4jci91CQJeQJJJPDwgQReRMzS7pRtiXd/ak%2BNHxA%2BHujeBfC3wcTSIfFHxJ8b2/h3QtQ8T6XPcWWm5srzUJ7me1jmt5ZttrYXAWISxEyMgLKM1F%2Bzz8Yfiz8e/wBmu%2B8TxJ4d0zx5p2ueIvDNzO9jPLpP9q6Tq15pT3SwCYTG2klszOsPnbwkgQybgXoAxPCX7Nf7RPw2/Z50H4GfC/4sfCfRTo0E9i8n/CnL%2B4097B0AVEtZdeMnn7i7yTy3EwmMjF49xLHC139gjxrefBDwD%2ByXoPxx0i3%2BF3g3QvDGm3VtqHgd7rxFfDRZoJYpItTF8kFszm2h5Fk7RkyGNlLIY%2BJ8R/tn/teaV8N/FMXhy38MeJdV8KfGyz8G3fjzwh8JNd1nTriwNjDPf3Uei2N/LePLZ3EklnL5d1IgkgfJVlkij2P2l/2zfi98K/2QtE/at%2BD/AMUfBnjCzXRJp7qOy%2BEetz2viG8QEiL7TDqBTwxBujkiludR86K1YkzMvlMrAHo2v/syfF/x1%2B0DoPxk8ffGfwxLp3ga91i88BaPonw/ltLq3nvrSa0Av7uTUZhexJFO5McUVqJJFjkbmNQOct/%2BCfFv8T/F3if4gftdfEO18U6t4isvDtpCvw4stT8GQWKaLdXl5ZTI9rqk121ytxeyN5n2kKBHEFjXazPl6R%2B3bqHi39tnXfgLa/EDw34c8O%2BFfGNr4Vns9W8Batez69qc2k2%2Bo7ItZini0/TZCLtI4rWZJp5zbysoCvGa5z4g/trftL/s3%2BLPjZqHxf8AFHw68YeFvhF8LLPXLifw/wCDL7QJBrt/POLPT5p59Uvk8tYLdZZ3Easi3lu4BGVIBo3P/BNDx74O/ZAH7KHwK/aSt9NSf4qXHjLUdf8AH2har4nkkz4i/tu3tIln1qKSLZJHBFJIZWE22aYok1w7jd%2BL3/BPvxF8W/iDf%2BN7n4u6Dpy%2BNtO8KwfFWO18CM1xqs%2BhXr3lvNps73xOmb3kZCJVvCiLGY2SRWlfifFP7e/xk8NfBjR9W0v4k%2BFvEPiTUPirF4Y1%2B8034C%2BJ4bnwzbyaPPqCBvCz3x1fUZ3eGIKYWjH2e7F15flW8rNg2f8AwVT8aeINK%2BHun6r4v8E%2BA7zUfhfa%2BNvHXiDUvA%2Br%2BIdPgtZ76eziASwuYv7JhBtLmS4ub2cx2RMUMgdi7KAeq%2BI/%2BCbHw/8Aiv8AHnxJ8WvjrZ%2BB9R0zWtJ1nTU0zwb4Cfw/qV7BqVs1nK%2BqarFeyXF/NHZSTW8ckYtgguZX2lvLMbPCP/BOeX4M6B8bLb4AfG/VbPU/i49klldfEPUdd8V2%2BiW8OnW1hIjRXmsLJdSOkUzLKJomTzIUPmR26RntNF%2BLvxvtP28NR%2BAXiu98KXHgq%2B%2BHT%2BIvDa6fo1zFqlrLFd21rIlzcPdPFOrtK7KEgiKAKCz815x%2Bxh%2B09%2B09%2B0n8LdV07xn4/wDBfh/4qnw/p2op4L1v4KeINCfw2J5JFklnh1DUhJrFv8jIk1s0ERkiYGT5sIAWZv8Agn/8WJPh38MY/wDhe3gmTx98NvAGreB4vFF58KZbjTL3Q9Qjso5k/s2TVS8Vzt02z/fG5dDicGEpMUWA/wDBIv8AZ/0rxD8MfFXgvxx470u/%2BH/iLRNU1KUfEPXfJ8Qf2XoLaNb%2Bbaw38VpDOYUtd86Q5kSB4nVknkznyft7/Gaw/Zm8V67p%2Bm%2BEvFHxCg8a634Z%2BHuqaPp11baF4k/s%2BDzrnWPs7XMssVnabLuOdRcsJJbFo45g1xCKgP7cvx1HxH%2BGEnjHXvDfgnwL4r%2BGXhPXtX8Saj8JNd1Wxu9X1O5mjuNNXVbe9is9Hwq26xNeeZ890n%2Bs4UgHpn7Mf7Lvx1%2BDXxn8cfF34u/Hjwn44uPG95JLc3tt8O7rTdUtreOUmw09Ll9WuIVsrWF5UWCO3j3ySyTsxlklaTKH7AK2/wCzR4T%2BEsHxJsLnxp4S8f8A/Ce23jbVvC/2m1vPE8l/cX11eTWAuVZopZby6URLcK8SyJslBjVq43wN%2B3n8bvE37dX/AAznqOj6BBoVx451zw7FZv4R1KFoIbHS5LyG9j157g6dqVxK6IH0q3iF1bxyyPIcWkpMi/tmftL%2BDP2YfiL44%2BJUngKfxT4J%2BMNv4OufEeneHr620LTNPmutNil1e7tnvZZmhtIr2WaXFxGrLb5Z7dCzoAex/Bb4Dy/s6fs56z4Av/Fcet6he33iHXtY1K20z7DbyX2p3t1qFwLe28yT7PAJbl1SMySMFA3PI5Z2o%2BOP%2BUhfwv8A%2ByM%2BPP8A07eEKx/2UP2on/an/Z88b67d%2BIdA1y88KeIdX8OXniPwnaywaVrXkQpNFe2kcs0zLDLBcQsB50q53FJJEKudjxx/ykL%2BF/8A2Rnx5/6dvCFAHs1FFFABRRXHfHj42eGv2fvh1L8RPE2kanqm7UrHTNM0XRIY5L3VNQvbqK0tLSBZZI4/MknmjXdI6RoCXd0RWYAHY0V47D%2B2x8Ml/Z31X9oXVvCfiXT10TX28P6r4PurO3bWINb/ALQTTo9M2RTvA00t1LDHG6zGBxPHIJfLbfUGmftj3niPwlqGreC/2WfiVrfiHQfE0mheLPAlg2hrqmg3a2kN6PtMk2qR2TK9tdWkyGG5lLrdR4GdwUA9prxn9g//AJIhrn/ZZviP/wCprrdehfBz4seDPjx8JfDPxs%2BHV7NcaB4t0G01fRpri3aKR7a4iWWMvG3zI21hlTyDkHpXnv7B/wDyRDXP%2ByzfEf8A9TXW6APZqKKKACiiigAooooAKKKKACisXx/8SPh78KfDc3jH4neOdI8O6Tbj9/qWt6jFawJ3wXkYLn2zXzFq/wDwVg8O/EvWZvB/7B/7OvjL436nDMYptV0m3Ol6DbuOCsupXahFPphCrAcNXHiswweDajVmlJ7JayfpFJyf3fM8/GZpl%2BAko16iUntFXlJ%2BkIqUn/4DbzPreivkhvF3/Bar4jjbofwi%2BBvw3t5Pvt4j1%2B%2B1e7hB7p9kAiZh/tcU1f8Agn/%2B2J8VW%2B0/tM/8FP8A4gNG5ydJ%2BFWm23hmKH/YE8YeSVfdgCRxXL/adap/Aw1SXnJKC%2B%2Bbv/5Kcn9sYirph8JVl5yUaa%2B%2Bcr/%2BSn1zXO%2BM/i78J/hxG03xD%2BJ/h3QUQZdta1qC1Cj1JldcV80z/wDBHD9mS9hab4jfGP4xeKIlUmc%2BJfihdurL33GPZx69K4TXP2ev%2BCAP7MMrHxjb/CtLyBszWuseKpdaui3ctbyTzucn/YxWVbH5lRjzVKdOmu86v%2BUV%2BZ6OW5fxxntf2OW5d7SfaLqVX/4DRoy/Fr1PafHv/BWr/gnF8N2ZPEH7W/ha5ZOCNAkl1XJ9vsUcua5P/h8d8AfEXy/Bn4DfGv4hs3ELeD/hjdSJJ6HdOYsD3x0rk/A//BRv/gnH4Ob7H%2Bxl%2By34l8YzxnZbx/CT4MPEpYcY3PFAAM9T%2BPNdUP2of%2BCpHxcP/Flf%2BCfeieCrJ/8AUaz8WvGyAt/v2VmPOjx6EmvP/tXE1v4eIjLypUp1P/Jm1H72fYLwn8U4rmzOVDAR713Totf9u16/tX8sPfyY4fty/t%2BeNT5nwi/4JO%2BKWtjyLrxx8QNO0R1HbMEiuxPsDS/8Lz/4LDav/wAg79hT4b6Rnp/avxOFxt%2BvkIM/hSf8M/f8Fc/iXz8Rf27/AAJ4Bhk/19l8N/h2L7I7qk2oMHT/AHhzR/w6Y0Pxt%2B9/aI/bS%2BOfj8P/AK/Tb7xy1lpz%2BuLa3RdufZ6OXOa3we2/7edGmvuUakv1D/iHuQ4XXM%2BLE31jhqNSs/lL2NCn8%2Bdo4z4k/tbf8FOfheryfEzxL%2ByB4F2DJh8X%2BPNRST6BVZSx9gMmvDfEX/BYv9sZNUfw7oHx8/Zs1y9H37fwD4L8YarKg7EMYRC34Oa%2B2fhr/wAEqf8Agnj8KXSbwx%2Byf4VuZkO4T%2BIbZ9Wfd/ezetLznnI/Cvc/DfhTwv4N0xdF8IeG7DSrNPuWmm2aQRL9FQAD8qP7Jz2t8WKcPSUpv/0mC/AP7J8LMDtWzPFvvKvh8LB/9u06OIqfLmXqflKv7dX/AAVs%2BIHy%2BGT8UoYnHF94Q/ZcW4gX6Pf3S/qKP7S/4K9eN/n%2B3ftOahdv9w/2DoPheE/UbpAn9K/Wmij/AFaxE/4uNqP8P/bv0F7bw5p/DkUp/wDX3McfP71B0I/dY/Jlv2RP%2BC1vxQg%2Bwa94g%2BKOiWkh%2BeHW/wBoeyVZB6SDTrXftPdQaWy/4IU/tQ%2BMN1/8SdF%2BBxvZv9Zqd94g8V6resP9tpLlIy3%2B6oFfrLRT/wBT8snrWnUn/il/wH%2BFgWccNUX/ALPw9l686lGriWvR4rF1f/ST8rNG/wCDcnxe18uoXn7RHgfRGHWPTfhm%2BpJ9Nt9eMp%2BpFen%2BEv8AghGnhza7/tavbSjG6fw38JtC0yQ/8DSJm/U1%2BglFbUuEsgou8aX/AJNL/NHTR4yxmDd8HgsDR/695fgYv73hqkvxPjqw/wCCP2my2i6d4o/b4/aDu7Neun6b43hsLZvYxxW%2BMfiKt2v/AARD/YMu5BL8QNB8ZeMGzlm8S%2BPtQk3H1Pkyx5r66ortWQZN1oRf%2BK8v/SpS/I7J%2BJnHko8sMdKmv%2BncKNL7vZYem/xPnbw//wAEmP8AgnF4aiWHTv2RvCsgTodQiluz%2BJnkcn8a6zSP2Af2F9CwdM/Y5%2BGCMvSR/Atg7j/gTRE/rXrtFdMMsy2n8NCC/wC3I/8AyJ5VXjTjKtHlnmWIa7e3rJfcqsV%2BByvhT4FfBHwHMLnwP8HPCujSL92TSfD1tbsPxjQV1VFFdcKdOmrQSS8kl%2BSR4OIxeKxlT2mIqSnLvKUpP75Sk/xCiiirMAooooAK8Z/Zf/5Lf%2B0d/wBlmsf/AFCvC9ezV4z%2By/8A8lv/AGjv%2ByzWP/qFeF6APZqKKKACiiigAooooAKKKKACiiigAooooAKKKKACiiigAooooAKKKKACiiigAr4M/wCCluqf2F/wVX/Yg1TdjdqnjG1z/wBdxocWP/Hq%2B86/Ov8A4LHXkukf8FB/2JdfThLPx5qJuG/uxPqnhuNj/wCP15mcS5MtnLtyv/yemfceG9BYnjTC0X9tV4/fhcX/AJI/RSiiivTPhwooooAKKKKACiiigAooooAKKKKACiiigDK8Yf8AIJh/7Clj/wClcVatQ39haanaPY30AkikGGUkjvkHI5BBwQRyCKof8IfpP/P3qn/g8u//AI7QBq0Vl/8ACH6T/wA/eq/%2BDy7/APjtH/CH6T/z96r/AODy7/8AjtAFnXtC0fxRod74Z8RabFeafqNpJa31ncJujnhkUo8bDurKSCPQ186%2BCf8AgmD8KPhp8I/Afww%2BHnxq%2BI%2Blah8Ptb1PVNL8crqen3Ot3kt%2Bk0V0LqS5spIJN0U3lK6wpLGkMQjdNpJ%2Bgf8AhD9J/wCfvVf/AAeXf/x2j/hD9J/5%2B9V/8Hl3/wDHaAPBvA3/AATE%2BAfw/wDDXh7wroni3xhJbeGvDXw80Owa71K2eR7bwbqt3qmltI32cbpJZ7yVbhuA6KgjELAu1r4bf8E7vAvwp%2BIml/EDwl8dfiIq%2BF/Deu6F4D0K4vNNksPC1nqs1tNMlohsd8pie0g8k3T3GxU2Hcny17f/AMIfpP8Az96r/wCDy7/%2BO0f8IfpP/P3qv/g8u/8A47QBzHxz%2BAeifHfwbpfhzV/Gmu6Jqmga1a6x4e8WaA9quo6ZqEAZVuYhPBLbsWjkmidJIXjeOaRSmDxg6H%2ByZp3g/wCBVx8BPAPxu8daBZXmi6zbXmvaVd2I1WbUtUuWu7rW/tElo2zUDcS3MqsirCHupD5J2xeX6L/wh%2Bk/8/eq/wDg8u//AI7R/wAIfpP/AD96r/4PLv8A%2BO0AeTfDH9jTW/g58B9O%2BAXw2/a5%2BJGlWGjTw/2Lq1rpPhdbuxtY4mT7GqDRfs0kblvMd5IXmaT5vN5IOdr3/BPzwrqvwTg/Zz0f9oL4kaL4LudL1Gx8W6Npl5pbN4pGoXE1xqEt5cT2ElxFLcSXNyXezktiPPbZs2pt9q/4Q/Sf%2BfvVf/B5d/8Ax2j/AIQ/Sf8An71X/wAHl3/8doA8o1b9hT4X6p8Xv%2BFnQ%2BNPFFlpc3irTvE%2BpeArKezXRtQ1ywtYLWz1CXNsbsSRxWlniOO4SFmtImaJm3Ftaf8AY7%2BEWp%2BBfin4A8SPquq2vxh1i71HxldXt2guGkms4LJEhkjRPKWC2tbaOE8snkqxZmyx9B/4Q/Sf%2BfvVf/B5d/8Ax2j/AIQ/Sf8An71X/wAHl3/8doA8Ok/4J3eFJ7lfGtz%2B0T8SZPiDH4ti8Qw/FBptHGrRzx6ZLpawCAaaNONv9jnmj8s2Zy0rSk%2BbiQUvEP8AwS%2B%2BCGs%2BALb4baT8RfHOi6dceEbzwv40fS9RszP4y0m7uZrq6t9RlntJGUyz3V5IZbQ20qm9nCOgYBffv%2BEP0n/n71X/AMHl3/8AHaP%2BEP0n/n71X/weXf8A8doA81uf2S55/wBrSD9rOH9o3x7BNbeH20OHwNDb6GNEWwYRs0OTphveZ4kuN32rcHG0ERfuq5vXf%2BCf9t4u0PxhH40/a1%2BLep%2BJPF3hBfC6%2BOhfaNZaromlGYzSwWP2LTIbeJpWPzzPDJNgLtdSiFfbv%2BEP0n/n71X/AMHl3/8AHaP%2BEP0n/n71X/weXf8A8doA8ck/4J1/s5%2BLPgLYfs9fHrw3p3xR0jQ7Oaz8K3fjvwT4ekm8O2r28duIbCO0023t7ZUWNSpWHfkDLMFVVgu/%2BCevw6b4X%2BFf2fdC%2BK3jDRPhj4Y0PTdLm%2BGuhwaPbaXrMVnKJQ9066f9rVpnC%2BcLeeBJMH5Rvfd7V/wh%2Bk/8/eq/%2BDy7/wDjtH/CH6T/AM/eq/8Ag8u//jtAHkvhf9hL4d%2BFfjLZ/Fa3%2BJPjG507SfGuq%2BMNB8CXd3ZnRtL17UobuG8v4ttqt2zOL%2B%2BbypbmSFHu5GSNSEKQfB79ijxF8GPD3jvSND/bR%2BK2oXvj3XBrN1rmqWfhj7Vpd%2BfLEs9qsOixw5lSKON0nimjCr8ioxZj7D/wh%2Bk/8/eq/wDg8u//AI7R/wAIfpP/AD96r/4PLv8A%2BO0AcZ4E%2BCPhr4CfBXXfCOg61qmr3N%2BdS1XXfEGuzRSX2r6hc75Jrqdoo449zEhQkcaRxoiRxoiIqjA8cf8AKQv4X/8AZGfHn/p28IV6ifBmhvhZ2vpkyCYrjVrmRG9mVpCrD2IIry7xx/ykL%2BF//ZGfHn/p28IUAezUUUUAFeX/ALW/wb8Z/Gf4YWFj8NbzTIvE3hrxhoviXQI9bnkisrq40%2B/huTazyRRyPEk0aSQ%2BaschiMgkCSbNjeoUUAfNvg79mD4rr8CfiL4H%2BLnwz8BeJ9T%2BI2uah4m1XRR4zv7fT01Ge4TyLFLpNP8APijgt7e0K6gkYm%2B0I0i28WFx5tbfsN/tgfDP4BeKfA/wKn8I2Gt/Fr4nnX/ihDefFXWzNZaR/Zlpp7WOn65Pp91eT3c0Wn24kvp4UkT7RcNEI2ELR/bdFAHF%2BF/hbptx8BdK%2BD2u%2BEoPCVnB4ettNfQvAXii8todJiijVFt7K%2Bt1tLhI41QIkiLC21R8q9K8/wD%2BCdPh6w8Jfs3X3hbSri%2BlttO%2BLfxDtreXU9Unvbl0TxnrSgy3Fw7zTuQOZJHZ2OSzEkmvdK8Z/YP/AOSIa5/2Wb4j/wDqa63QB7NRRRQAUUV87ftH/wDBSr4I/BLxf/wpf4daVqnxQ%2BJ05KWnw98Bw/a7qNxwTdSrmO0RcgsXJZVO7YRzXPicXhsHT560lFfm%2ByWrb8km/I5cZjsJgKXtMRNRW2u7fZJXbb6JJt9j6D1HUdP0iwm1XVr6G1tbaJpbi5uJQkcSKMszMcBQACSTwK%2Ba/iX/AMFc/wBirwTr58D%2BAfGmp/E7xMciHw18K9Gl1u4mI4wskX7gnPGPMz7VxunfsTftO/tu6hB41/4KT%2BPl0nwqJVn074E%2BBtReOwTByv8Aad5Gd95IOMqjbAwyrKCUr6p%2BGfwe%2BE/wX0BfC3wi%2BGuheGNOUD/QtB0qK1jYjuwjUbj7nJPrXAq2a43WjFUodHNXm/NQulHy5m33S2PLVfOsw1oRVCn0dROVR%2BappqMfLnk5d4rY%2BbD%2B33%2B2t4x4%2BD//AASd%2BIFyH/1cnjXxXp%2BgY92WbeR9OtRHwh/wWS%2BOoI8SfFb4W/BDSpukPhnR5PEOrxKequ9yRbZ7BkIx1r6z1bV9J0DTLjW9d1S3srK1iaW6u7udY4oUAyWd2ICgDqScV8qeNP8AgqDB8SvFN18J/wDgnp8G9R%2BM/iS2l8m/1%2Bzk%2ByeGdJb1n1BxslIHzBIshwCFfPFcuLp08Ol9cxc3faMbRcvJRpx538nbu0fSZD4e8TcVzn7CrVqU6etSfNChRprvUq2hGC7KVW72jGT0LvgH/gkd%2BzTb%2BI4fiL%2B0frPif41%2BK4/m/tj4n6y99BETyVis%2BIEj4GEZXxjANe1fEL42fs2/sveFoIPiR8SvCPgfSrWDbY2V9qFvZKIx0WGHILeyop9hXz9/wyH/AMFEv2iD9o/at/bo/wCEK0mbmbwd8DNPNjtU/wAP9p3ANx04K7WU84Ndp8I/%2BCU/7CPwg1P/AISW1%2BBVj4l1x3Elx4g8cTyazdzSf89Cbouiv7oq0YWGIpJrBYWNNPeVR2b82o883/29M%2BwwfB3hrwwmsXmPtp/ahgqXPd/3sVifZwfrGnV8r6HIXv8AwVw8B/Ea5l0X9i39nP4j/Gi8VzGmo6DoEmn6MjjjbLf3aqIueN2wjrzUSfDD/grR%2B0s4ufih8cPCfwH8PynP9geAbAaxrTJ/zzmvZz5UTf7cHHHSvrmzs7TT7WOxsLWOCCFAkUMKBURRwAAOAB6CpK6v7OxOI/3qvKS/lh%2B7j%2BDc385o7f8AXPJMp0yDKaVKXSriH9bq%2BqVSMcPB/wCHDzt0Z8lQ/wDBHD9nHxXKt5%2B0d8V/it8WptweRPHnxCupIN3X5Y7YxbVHZckDpXrvwv8A2Ef2MvgyI3%2BGv7MHgjTJ4sbL4eHoJroY/wCm8qtIfxavWKK3o5TlmHlzQoxv3au/vlzP8TzMy8QeOc3oewxWZVnT/kjUdOn8qdL2NNf%2BAfeNiiigiWGCNURFAREXAUDsB2p1FFegfH7hRRRQAUUUUAFFFFABRRRQAUUUUAFFFFABRRRQAUUUUAFFFFABRRRQAV4z%2By//AMlv/aO/7LNY/wDqFeF69mrxn9l//kt/7R3/AGWax/8AUK8L0AezUUUUAFFFFABRRRQAUUUUAFFFFABRRRQAUUUUAFFFFABRRRQAUUUUAFFcx8aND8W%2BI/hbrekeBfiVqXg/VZLMvaeI9IsrS4ubIowdjHHeQzQMzKrJ%2B8jcDfnBIFeAp%2B018Zbb/gkv4D/aRXxLBL498V/Dfwe0/iC60%2BLy4NT1gafbSag0CKsREct41wYgqx/JtwF4oA%2Bpa/OX/guX/wAS/wCOPwE8X9P%2BEeh1XUd/93b4i8Hpn/yJX1h%2ByJ41%2BJd34r%2BLHwU%2BJvxGvvGU3w38eW2l6X4r1Wxs7e9vrS60TTNTVLpbGCC386OS9ljzFDGDEsJK7izN8Zf8FyfiJoPjO7u9E8PaX4hi1PwR8KdeurmbVfCOo2NpK/8AwlvgbBtbq5t44L0BQ%2B5rd5AvG4jcM%2BVnv/ImxD7Qb%2B6z/Q%2B/8Kmv%2BIl5PB7TxFOH/gxyp/8AuQ/Teio7S6hvbWK9t23RzRq6H1BGRUleqfAtNOzCiiigQUUUUAFFFFABRRRQAUUUUAFFFFABRRRQAUUUUAFFFFABRRRQAUUUUAFFFFABRRRQAUUUUAFFFFABRRRQAUUUUAFeM%2BOP%2BUhfwv8A%2ByM%2BPP8A07eEK9mrxnxx/wApC/hf/wBkZ8ef%2BnbwhQB7NRRRQAUUUUAFFFFABXjP7B//ACRDXP8Ass3xH/8AU11uvZq8Z/YP/wCSIa5/2Wb4j/8Aqa63QB7NRRXgn/BQT9q/W/2afhVZeHPhRpa6v8UPH%2BoDQvhroCgM09/JgG5dTx5MCsJHY/LnYrFQ2RhisTSwmHlWqPSK%2BfkkurbskuraRzYzF0MBhZ4iq7Rir%2Bb6JJdW20kuraRwP7afx%2B%2BJ3xz%2BK6f8E5v2O/EDWXinU7RZ/if46tcsngvRnxuAZSP9NmU7Y0BDKGB%2BXcJI/cP2Zf2SPgD%2ByH4Ei8B/Av4e2WkxeUi6hqXlB73U5FHM1zORvlcnJ5O1ckKFGAMT9iH9kLw7%2Bx/8IF8LHU31vxdrlwdU8feLrti9zrmqyfNLM7t8xQMzBFPReTlmdm9W8S%2BJfD3g3w9feLfFut2um6XptrJc6hqF9OsUNtCilnkd2ICqACST0xXBg8LNzeNxaXtGtF0px/lT79Zy0u%2BvLFI4Mry3EYjErGYqHNiJ2UYpc3s03pThZO8m2udpXnJ2XuqKd6vlr44/8FH0ufiDc/s3/sMfDw/Fz4lwnZqBsZ9uheHMkgy6heg7BtIP7pG3EqULI2AeD1b4hfHj/grHq1z4K%2BBOq6x8Pf2eYZ3t9e%2BIKxNb6t42VWKyW2nK4zBanBVpmGW5BBw8VfWHwM%2BAHwc/Zq%2BH9r8L/gf8P9P8O6LaAEW1jFhpnwAZZZDl5pDgZdyWOOtZ/WcVmjthHyUv%2BfltZf8AXtPS39%2BSa/li/iP2Z5LkHAkVPP6f1nH7rCKVqdHt9bnB8zn1%2Bq0pRklpXq023TXzjpP/AATR%2BIH7Qmp2/jX/AIKUftEaj8RZY5Vnt/h14bkk0vwtYuDkKYoyst2VI4kkKkjIYMK%2BqvBPgTwV8NPDFp4J%2BHfhLTdC0ewj8uy0vSLJLe3gX0WNAFH5Vq0V24XL8Jg25U4%2B895NuUn6yd2/TRdkj5fP%2BL%2BIOJIQo4ytajD4KMIxp0af%2BCjTUYRfeTUpv7VSQUUUV2nzIUUUUAFFFFABRRRQAUUUUAFFFFABRRRQAUUUUAFFFFABRRRQAUUUUAFFFFABRRRQAUUUUAFeM/sv/wDJb/2jv%2ByzWP8A6hXhevZq8Z/Zf/5Lf%2B0d/wBlmsf/AFCvC9AHs1FFFABRRRQAUUUUAFFFFABRRRQAUUUUAFFFFABRRRQAUUUUAFFFFAGJ8Rvh/wCH/ip4J1D4feKrnV4dO1SERXcmg%2BIb3SrsKGDYju7GWK4hJIAJjkUkEqcgkHgvBH7En7OfgD4It%2Bzfo3hrXbzwOfDL%2BH18OeIfHWsatBHppAUQJ9uu5WQIoCxspDRKqrGyqAB6xRQByPwY%2BBfw0%2BAHhq68K/DLSr6GHUNTk1HVLzV9dvNUvtQu3REae5vL6aa4uZPLiijDSyMVSKNBhUVR8e/8FpNG/t7S7yx2bvL/AGcPHtxj/rjrngubP/jlfeFfHf8AwU50b/hIPEOp6WE3M/7JfxYeNfV0uPCzr%2BqiuHM4e0yyvHvCf/pMj6ngXE/U%2BN8qr/y4nDv/AMr0v8z6b%2BBmtf8ACSfBPwd4i37vt/hbT7nd677aNs/rXU15T%2BwlrP8AwkP7Enwf1pn3NcfDHQWkP%2B3/AGfAG/8AHga9WrbCT9phKc%2B8Yv74xf6nm8QYb6ln%2BMw/8latH/wGrVj/AO2hRRRXQeQFFFFABRRRQAUUUUAFFFFABRRRQAUUUUAFFFFABRRRQAUUUUAFFFFABRRRQAUUUUAFFFFABRRRQAUUUUAFFFFABXjPjj/lIX8L/wDsjPjz/wBO3hCvZq8Z8cf8pC/hf/2Rnx5/6dvCFAHs1FFFABXO/Ff4r%2BAfgj4CvfiZ8TdcbT9HsHgjmmis5rmWSWaZIIIIoIEeWeaWaWOKOKNGkkkkREVmYA9FXkH7a/w38ffEP4T6RffDLwy2u6x4T8f%2BHfE8Ph1LuGB9Wi0/U7e4nto5J3SJZjCkhi810jMqxh3RSXUA27L9q34CX3wLuv2kU8dND4QsZJ4b69vNIu7e5trmG5NpJaSWUsS3SXQuVMH2VohMZcRhC5CnHv8A9uX9mvTfh1a/E268U679kvPET6Db6PF4E1mTXG1RIXuHszpC2h1BZlt43uChtwRAvnHEfz15X4V%2BBPjvxP8As7fFDw98ZP2fvGdtd%2BO/G95440/QPDmv6MupaXcJfwSadbwzte/Zl1KI2Freks5tBLJs86UBs%2BffCz9l39qb4OeMbb9rrU/hx418da3qPxk1XxJq/gjWfEOgf8JGmnXPhWy0KKZ5YprbSftSyaZDI0MEqRR290yIzvFtkAPtzwL438I/EzwVpHxG8AeILbVtC17TINR0bVLOTdFd2s0ayRSoe6sjKw9jXl37B/8AyRDXP%2ByzfEf/ANTXW6X9lr4C/EP4Y/sV%2BE/gX4k8Z3XhnxRa%2BHVTUtU8Mm1uH0m8lczSx2xu4JoJVieRolaSFlZUB2DIAof8E6dJv9B/ZuvtE1XxPfa3c2fxb%2BIcNxrGpxwJc3zr4z1oGaVbeKKEO5G4iONEyTtVRgAA9p17XNJ8MaHe%2BJNevktbHT7SS5vbmU4WKKNS7ufYKCfwr5B/YD8J%2BIv2vPjFqv8AwVD%2BMWlyQQ6rBNo/wU8PXWCdF0BHZHvGXkLc3TBySOQhYAlHUL1X/BXX4i%2BIPDX7Hl78JfAc2PFHxa12x8DeHIwTl5dQl2TZA5x9nWcZ7FhX0D8K/h14f%2BEPwy8PfCnwpD5emeGtEtdL09cYPkwRLEmffCgn3ryKqWNzZU38FFKTXecr8t/8MU5Jd2n0R4NaKzDPI0Za06EVNro6km%2BS/wDgipSS/mkn0Rravq%2BleH9Jute13UoLOysrd57y7upRHFBEilnd2bhVVQSSeABXw%2BqeMP8AgsR8QRLKuo6J%2By/4Z1X5EO%2B3ufiVfQP1PRk06N19i7D%2B/wD6jf8A22PFniT9tT492f8AwTO%2BD2tXFrocMMOrfHjxJYSbTp%2BlZDQ6Sjj7s91xkdRGQcMvmKPrjwl4T8NeA/C2neCfBui2%2Bm6TpFlFZ6bp9pHtit4I1CJGo7AKAB9KyqJ5viZUb/uIO0v78lvH/BHTm/ml7uykn%2B34KcfDrJqOYqP/AAq4qPPRv/zC0JJqNe3TEVvedBv%2BDSXtkvaVKUoWNG0XSPDmkWvh/wAP6Xb2NhY26W9lZWkKxxQRIoVI0RQAqgAAADAAqzRRXtpJKyPzCUpTk5Sd29W3q23q229W2%2BoUUUUyQooooAKKKKACiiigAooooAKKKKACiiigAooooAKKKKACiiigAooooAKKKKACiiigAooooAKKKKACvGf2X/8Akt/7R3/ZZrH/ANQrwvXs1eM/sv8A/Jb/ANo7/ss1j/6hXhegD2aiiigAooooAKKKKACiiigAooooAKKKKACiiigAooooAKKKKACiiigAooooAK%2BaP2wdG/4SP9orSfD2zd9v/Zo%2BJ9vt9d934UXH619L14j8T9Oh1f8Ab1%2BHGk3H%2Bruvgj4/hf6NqnhFT/Ooqw9pSlDumvvTX6nVgcQ8HjqOIX2Jwl/4DKMv/bTL/wCCU2tf29/wTp%2BEN9vz5fg6C2z/ANcWeHH/AI5X0FXyn/wRK1Ga%2B/4Jk/DaC64nsf7XtJ1/umPVrxQP%2B%2BQtfVlcGTT9pk%2BHl3pw/wDSV/kfWeJWHWE8Rc5or7OKxC/8rVH/AO3BRRRXpHxIUUUUAFFFFABRRRQAUUUUAFFFFABRRRQAUUUUAFFFFABRRRQAUUUUAFFFFABRRRQAUUUUAFFFFABRRRQAUUUUAFeM%2BOP%2BUhfwv/7Iz48/9O3hCvZq8Z8cf8pC/hf/ANkZ8ef%2BnbwhQB7NRRRQAUUUUAFFFFABXjP7B/8AyRDXP%2ByzfEf/ANTXW69mrxj9hJ0j%2BB2uySMFVfjL8RyzE8Af8JrrdAHlHxP/AOMkP%2BCuXgX4Zp%2B/0H4FeC7nxVrK9YzrOoEW9pC4/vpCBcIe3New/tz/ALTtn%2ByL%2BzP4i%2BMKWgvNYjiWw8KaUELvqGrXB8u1gVBy/wA53MBzsRyOleQ/8EkYJvir4V%2BJv7cmrRk3Xxn%2BIt7eaVJIPnTRLB3srGFs85Ty5h9COKo6v/xnR/wUxt/D6/6T8N/2bCt3fd4dS8Yzr%2B6T0b7JGC3HKSgg8PXy9LEVVl7rUn%2B9xM3yeSekZekKcef5ruex4TZPgc2xlXOczjfB0ufFVunNSi1CjRT6OvJUqUetqlSS%2BFnq3/BP39lSf9lr4FRWnjW8bU/iB4tuTr3xJ8QXDh5r/V5/nlUuOqRFjGgGBhS2AXbPudFFfQ4bD0sJh40aatGKsv8AN923dt9W2zPO85x/EOb18yxsuarVk5S6JX2jFbRjGKjCEVZRhGMUkkFFFFbnlhRRRQAUUUUAFFFFABRRRQAUUUUAFFFFABRRRQAUUUUAFFFFABRRRQAUUUUAFFFFABRRRQAUUUUAFFFFABXjP7L/APyW/wDaO/7LNY/%2BoV4Xr2avGf2X/wDkt/7R3/ZZrH/1CvC9AHs1FFFABRRRQAUUUUAFFFFABRRRQAUUUUAFFFFABRRRQAUUUUAFFFFAHmH7afxe8VfAP9kz4h/GPwNHanW/D/hS8utHe%2BiL28N0IyIpZVBBaJHKu65GVVhkZyPMvBfxi%2BMPwk0j9oL4e/EL45xeKLn4VeHYNc0Lx943020tRDFcaTJcGPUF0y3giaOCe2lkLRQq/kTIpDsu9/onxp4N8K/EXwdq3w%2B8daBa6romu6bPp%2BsaXexB4by1mjaOWGRTwyOjMpHcE1wXgP8AY1/Z7%2BHPhrVPCGg%2BFdVu9P14XQ8RxeIfF%2Bqas2ti4tYrSRb5765me%2BAtoIoUE5kEUaBI9gJBAPH/APgm78bf2kvH/jLxl8Pf2lNS8YxX%2BmeEfC2t2GjfEbTNEt9ZiOoLqC3Fyh0NFtG0%2BSW02QJIftkclvci4VA0IPU3/wATvDfjH/gpt4L8GaTpviGG88PfB7xxHfzar4R1GxtJS%2BreEsG2urmCOC9A2nLW7yBcjcRuXPovwL/Zb%2BCv7OEmpXXwq0DVIrvV7a0ttQ1HXvFOo6zdyW1qJBa2wuNRuJ5Ut4fOmMcCsI0M0hVQXYnm/HH/ACkL%2BF//AGRnx5/6dvCFAHmP/BGP/QP2SNX8IdP%2BEe%2BKHiXTtn93bfu%2BP/IlfWlfJf8AwSb/AOJbp37QXhBuP7H/AGnPFcUK%2BkLG2dD%2BOTX1pXk5FplFFdk190pr9D9A8Vfe8RMyqfz1Iz/8GUsPU/8AcjCiiivWPz8KKKKACiiigAooooAKKKKACiiigAooooAKKKKACiiigAooooAKKKKACiiigAooooAKKKKACiiigAooooAKKKKACvGfHH/KQv4X/wDZGfHn/p28IV7NXjPjj/lIX8L/APsjPjz/ANO3hCgD2aiiigAoornfiv8AFfwD8EfAV78TPibrjafo9g8Ec00VnNcyySzTJBBBFBAjyzzSzSxxRxRo0kkkiIiszAEA6KivPLL9qz4C3/wKu/2kk8cvF4Q09riO/vbzSLuC5triC4a1ltZLKSJbpLpbhTB9maITebiMIWIU86/7fn7LyeE4vFieKfEUrTeI5tAHh62%2BHeuS66mpRWovJbd9ISyOoRstsyXBLQACKSOTOyRGIB7LXzJ8I/F3/Cv/ANgX4t%2BPPN2f2J4x%2BLl/vz93yfFXiCTP/jtfQfw%2B8feDfir4E0b4m/DvxFb6voHiHS4NR0XVLRiYru1mjEkUqk4OGVgecHnmviv44%2BLv%2BEJ/4I7fHrWfN2ed44%2BJlhnP/P3451e1x%2BPnY/GuTH1fYYCrV/ljJ/dFnDmdf6rllet/LCb%2B6Mn%2Bdjtf2P8AxZa/sof8EZ/C3xPulSMeHvhHL4hiSQcSSywyXsae5d5VA9SwrsP%2BCV/wZf4OfsQ%2BDJNZjkfxD4wsv%2BEq8WX1ySZ7zUNQxcPJMT1cI0cZ/wCuYryP/goHoF7o/wDwT4%2BEH7E%2BiSPBf/EfW/CPgYJCcPDaxrDJPJ7Kq2wVj6P719u6dp9lpOnwaVptskNvbQrFbwxjCxooAVQPQAAV5OXUf9thDpQpQj/29NJv/wAlil6M/Q8LReQeD2Bwi0njKzlLzpYSlCjBPy9vWqyS25o36XU1FFFfQnxQUUUUAFFFFABRRRQAUUUUAFFFFABRRRQAUUUUAFFFFABRRRQAUUUUAFFFFABRRRQAUUUUAFFFFABRRRQAUUUUAFeM/sv/APJb/wBo7/ss1j/6hXhevZq8Z/Zf/wCS3/tHf9lmsf8A1CvC9AHs1FFFABRRRQAUUUUAFFFFABRRRQAUUUUAFFFFABRRRQAUUUUAFFFFABRRRQAV4z44/wCUhfwv/wCyM%2BPP/Tt4Qr2avnD41/EKDwj/AMFTP2fvCd1IAPFXwn%2BJFhAhxzNFd%2BFLsEfRLeXj39qmc4043l5fi7fmyKlSNOPNLbRfe0l%2BLRzX/BOb/iUftKftVeEOnkfGMajs9Ptdmj5/HZX1pXyX%2BxxnRv8Agpn%2B1v4ZPCS3XgvUYB/e83SZfMP/AH0AK%2BtK8vJdMDy9p1F91Sf%2BZ%2Bh%2BJvvcVqt/z8w%2BDn/4FgsM/wD20KKKK9Y/PwooooAKKKKACiiigAooooAKKKKACiiigAooooAKKKKACiiigAooooAKKKKACiiigAooooAKKKKACiiigAooooAK8Z8cf8pC/hf/ANkZ8ef%2BnbwhXs1eM%2BOP%2BUhfwv8A%2ByM%2BPP8A07eEKAPZqKKKACvIP21/hv4%2B%2BIfwn0i%2B%2BGXhltd1jwn4/wDDvieHw6l3DA%2BrRafqdvcT20ck7pEsxhSQxea6RmVYw7opLr6/RQB8Za98Af2iPGv7IPxd8D3fwHvbPXfiX42uPFY8NXutaZvt7CTU7ZX02O5iunjg1VrC0adJ1Jt4Lq5jZbhjEXHnR/Yv%2BOCaTb6tqv7NnxLuvB3/AAuLV/EFn4S0z4tW8HxDs7S48OWthHPP4gGsRvNuvEvS6f2pJL9lks4i7xwm2X9EqKAPIP2ZPg58U/BP7EfgT4GeNvFjeFfFej%2BBNO0q%2B1PwhbWBbTJ4YETFusts9oxQKEz9nMRIJVFBAHxp%2B0lpWoR/8Enbj4Iap4ovtcuvF/7T3iDw3PqmpxwJc6i7fETVZGllW3iihDuYCzCONEyTtRRgD9Kq/OP4kf8AFU6X%2Bz38KR839oftx%2BNtZkiH8ceneLvEEzA%2Bo/eDNeVnmuU1YfzJR/8AApRj%2BTZ4nEeuSV4fzpQ/8DlCH5SZ7H8XwPjX/wAFe/hX8NIx5unfCP4d6r4w1FB/q/tl862Fujf7agCVR2BJ9a%2Bua%2BRv%2BCeH/F3P2ov2lP2r5v3tvqnxCh8HaDKeVFpo1uIXeP8A2JJJA2ehK/Wvrmlk/wC8pVMR/wA/Jya/wp8kfwhf5n674i/7FmGCyZbYLC0KbX/TycfrNb5%2B0xKT/wAHyRRRRXrH56FFFFABRRRQAUUUUAFFFFABRRRQAUUUUAFFFFABRRRQAUUUUAFFFFABRRRQAUUUUAFFFFABRRRQAUUUUAFFFFABXjP7L/8AyW/9o7/ss1j/AOoV4Xr2avGf2X/%2BS3/tHf8AZZrH/wBQrwvQB7NRRRQAUUUUAFFFFABRRRQAUUUUAFFFFABRRRQAUUUUAFFFFABRRRQAUV5F%2B318QvGnwo/Yo%2BKfxI%2BHmsyaZrOi%2BBtRurLV4Ywz6aVgbdeKGBUmBd0w3ArmPkEZFeU/Drxj45%2BBGm/tM%2BDPhP4n8ReNdP8AhroVrq3glPFXiS8166j1SXQTdyacbu7lluJkLpbXAjeRiv8AaBC7UMaqAfWdfn7/AMFW/Gdz8L/%2BClX7FfxOh3LBp%2Bt%2BJrHUJx0gtb%2B48P2MjseygT4P1r1D/gmd4%2B1i5n1H4c/EGz8Sy%2BKrv4e%2BGPGV3rWr/Fu%2B8VW%2BqWepi%2BSG4CXASHSrhpbS4aS0s4xagGLyXkVMR%2BHf8FmU8afFPxPeaXD8I/EWgT%2BA/gx4s17w74l1O406S11RrPxD4MuJJrVba7lnQJFHIG%2B0RQH94NobDY83OOdZXWlDeK5l/wButS/9tZ5Gf%2B0WTV50/ijHmX/bjjP8eRr5nt/wU/4kn/BYn426X0/tz4YeG9Rx/e8lnt8/rivrSvirVfHdn4W/4KW/A/8AaasmC%2BHvj78IpvDjyE5jgu4gmqWrE9mkWQRKO%2BD9a%2B1axyecXCtBdKk38p8s4v5qVz9W49lHFxyjMabvTr4HDWfd0Y1KE16xlTivRp9Qooor2D4AKKKKACiiigAooooAKKKKACiiigAooooAKKKKACiiigAooooAKKKKACiiigAooooAKKKKACiiigAooooAKKKKACvGfHH/ACkL%2BF//AGRnx5/6dvCFezV4z44/5SF/C/8A7Iz48/8ATt4QoA9mooooAKKKKACiiigAr80dA8QQv%2B2D8F4pyGt/BHjb4%2BeKb6I9CP8AhJdZhjY/R1OK/S6vyP0vxQU%2BPH7QfjBZP3XgH4JfF2ODn7l/d%2BP/ABCyH2ym0V4mf1fZ4KP%2BOD/8B5p/%2B2HNPBPNczy7Ll/zEYrDU/8AwKtC/wCR9mf8EYPDkmgf8E3Ph1eXoLX2tR6hq2oXL/fuJbjULmQSMe52FBn0UV9SV5B/wT78L/8ACG/sMfCDw80eySL4b6NJOmOkslnFI4/76dq9frryml7HK6FPtCH/AKSv8z7fxAx39pceZtiltPE4hr09tUS%2BVoq3lboFFFFegfIhRRRQAUUUUAFFFFABRRRQAUUUUAFFFFABRRRQAUUUUAFFFFABRRRQAUUUUAFFFFABRRRQAUUUUAFFFFABRRRQAV4z%2By//AMlv/aO/7LNY/wDqFeF69mrxn9l//kt/7R3/AGWax/8AUK8L0AezUUUUAFFFFABRRRQAUUUUAFFFFABRRRQAUUUUAFFFFABRRRQAUUUUARXtlZ6lZy6dqNpFcW9xE0c8E0YdJEYYZWU8EEEgg8EGuU%2BHP7PPwB%2BD2n2Gk/CP4HeD/C1rpctzJplt4c8M2tjHaPcBRcNEsMaiMyhE3lcF9i7s4FdhRQBy3wv%2BBvwU%2BCFtqFl8F/g/4W8IQ6teG71WLwv4fttPW8uCMGaUQIokfH8TZPvXj/7TXgCz%2BLH7V/hj4W6gF8jxL%2Bzt8SdKm3jjZcX/AIThOfwevomvGfHH/KQv4X/9kZ8ef%2BnbwhUzhGpBxls00/np%2BpFSEatNwkrppp%2BjTT/Bs%2BKnvfFHxM/4IY/DT47%2BHrVj4x%2BAmq2WsWUDHDwyaJfyWksbEdFFopcjoQq59v0m8CeMtC%2BI3gjRviF4XufP0zXdKt9R06b/AJ6QTxLJG34qwNfI/wDwTz8HaFJdftSfsX%2BLLXzdM0/4saq/2E8bNI1u2EkUQHoUEuD33Gum/wCCP/jHXbj9kp/gT41ujJ4i%2BD/izU/BOs7uCfsc5MDAH%2BDyJIlU9D5ZxXy%2BSzlRrUlL/l5T5X/joNwfzcPyPreHpyzvwWoKetXLK/I%2B/ssQnTfyjicKvR1fM%2Bp6KKK%2BqPlQooooAKKKKACiiigAooooAKKKKACiiigAooooAKKKKACiiigAooooAKKKKACiiigAooooAKKKKACiiigAooooAK8Z8cf8pC/hf/2Rnx5/6dvCFezV4z44/wCUhfwv/wCyM%2BPP/Tt4QoA9mooooAKzfGHjLwh8PPC9/wCOPH/ivTdD0XS7ZrjU9Y1i%2BjtrWzhUZaSWWQhI0A6sxAFaVeIft/eG/EWu/BPRtW0TwpqWv2nhv4l%2BFdf8QaHo%2BnSXl1eabY61aXNwYraJWkuXhWP7SIUVpJPs%2B1FdyqkA9M034w/CPWfhkPjXo/xT8OXfgw6e9%2BPFttrlvJpn2RAS9x9qVzF5ShWy%2B7aNpyeKx0/al/Zkl%2BE7/HqP9ozwI3gWOfyZPGi%2BL7I6SsnmeXsN55vkhvMITG7O4468V8m%2BI/CvjTxh%2Bwz8afD%2Bi/B7xrEfGvxJvPFXhrQX8IX9tqOn6NPrlsZNRhtpIVJvlaC71aPTnHnyM8ayw5mZD57afCf44walp3xiPiX4wQeErP8AaM1XXLz4gP8ACJpvGWqwT%2BDrewttZk0I6WViaK7SbTFdNLT/AEdUm8hd73ZAP0h8M%2BJvDfjTw5YeMfB3iCx1bSNVsorzS9V0y7Se2vLeRA8c0UqErJG6sGV1JDAggkGvxeg1a6074Xf8FFviDc5C2PxAu/DGmsOpW78YaoZlH/Ap1496/Vr4Ban%2B0l42/ZE8L6r48Gl%2BGPiZf%2BGIHvn1rw481va3ZUYe4sYbmFlZlwzwLOnluxQN8tflt4Q8I%2BJH/ZE%2BOuh%2BNdQsr3WviH/wUE1DwxqN3p2nva299JDr7yO8UDyzNFG0glKxtLIVAwXcjcfmuKIylgVbpz/f7OUV%2BM0fTeH%2BFji/FXhxTV4QxkKkv8NKE6j/AAgz9hPht4ZXwV8OtA8GqgUaTotrZBR28qFUx/47W1RRX0cYqEVFbLQ%2Ber1p4ivOrN3lJtv1bbf4thRRRVGQUUUUAFFFFABRRRQAUUUUAFFFFABRRRQAUUUUAFFFFABRRRQAUUUUAFFFFABRRRQAUUUUAFFFFABRRRQAUUUUAFeM/sv/APJb/wBo7/ss1j/6hXhevZq8Z/Zf/wCS3/tHf9lmsf8A1CvC9AHs1FFFABRRRQAUUUUAFFFFABRRRQAUUUUAFFFFABRRRQAUUUUAFFFFABRRRQAV4z44/wCUhfwv/wCyM%2BPP/Tt4Qr2avGfHH/KQv4X/APZGfHn/AKdvCFAHktrqEf7N3/BYfVW8Sxm00T9oPwFZro%2BoHiKfXdIBjNsx7P8AZWDL6l1UZJqtaawP2KP%2BCoeuDxbAbTwH%2B0lBYtouqhsW9l4ps4jE1rJ2RrmNgwYn55CqjOG2%2Bo/8FF/2Zdc/aY/ZyurT4c3DWfj7wffw%2BJfh1qcJAlttXtCZIlVj0Eg3Rc8AurHO0Vy%2BlxfDH/gr3/wTxtJdbQ6Xe67YhpJIVIuPDPiO1JVnTJDo0U6nAyrPE%2BOBJXy9bD1qWJnQpfHGTrUr7O%2BlSD%2BbfopxfRnqeHWdZfw9xFi8mzW/1LHQlGbSvKMJzhJ1IrrPDYiMKyj9unKcftJn1BRXzr/wTt/ah8YfGfwJq/wV%2BPsaWPxd%2BF18NF8faezDN2VH7jUo%2Bm6K4jAcMAAW3YAUrn6Kr6DCYqljMPGtT2ffdPZpro00013RrxBkWO4azitluLS56b3TvGcWlKE4S%2B1CpCUZwktHGSe90iiiiug8YKKKKACiiigAooooAKKKKACiiigAooooAKKKKACiiigAooooAKKKKACiiigAooooAKKKKACiiigAooooAK8Z8cf8pC/hf/2Rnx5/6dvCFezV4z44/wCUhfwv/wCyM%2BPP/Tt4QoA9mooooAKKKKACiiigAr8wW8DGxi%2BEHgRzGz%2BK/wDgoT478VyxxnO5bHxPrQG7jsqLmv0%2Br85fAX/FUftsfs6eDx80WkfFz4763eR/TxJq8ULfhJmvHzuEZ4JJ7ucF/wCBVIJ/gj73wzhGPFyxb/5cUMZVXk44PEpfjNL5n6NUUUV7B8EFFFFABRRRQAUUUUAFFFFABRRRQAUUUUAFFFFABRRRQAUUUUAFFFFABRRRQAUUUUAFFFFABRRRQAUUUUAFFFFABRRRQAV4z%2By//wAlv/aO/wCyzWP/AKhXhevZq8Z/Zf8A%2BS3/ALR3/ZZrH/1CvC9AHs1FFFABRRRQAUUUUAFFFFABRRRQAUUUUAFFFFABRRRQAUUUUAFFFFAHkX7fXxC8afCj9ij4p/Ej4eazJpms6L4G1G6stXhjDPppWBt14oYFSYF3TDcCuY%2BQRkV518DfHOpfs/a1%2B0J4U8O3/jz4i%2BFvhnaadq%2BgabPrV94l1qW6l0YXdzpNtPcyTXN1I%2By3njhZ3YNqAVdsZjRfp29srPUrOXTtRtIri3uImjngmjDpIjDDKyngggkEHgg1ynw5/Z5%2BAPwe0%2Bw0n4R/A7wf4WtdLluZNMtvDnhm1sY7N7gILholhjURmUIm8rgvsXdnAoA%2BZf8AglH8bfHvxR8ffHbRPif408e6xrNn420vUJoPF3hHXdKs9IN5oWnzS6fp8WrWsBgtop2mWOEKsjR7J5FJuPMk9Dv/ABp4k8Q/8FNvBfh3VvhH4h0Kz0n4PeOEsNe1W5057TWg2reEsvbLbXcs6BNoz9oigPzjaG%2BbHvGleFfC%2BhatqevaJ4bsLO%2B1u5juNZvbWzSOW/mSFIUkmdQDK6xRxxhmJISNVHCgDyjxx/ykL%2BF//ZGfHn/p28IUAezV8Q%2BN9T17/glf%2B1B4n%2BNd54cnu/2fvi3rcN94qudNjZ28Ea/IBHJevEoJNrcttLsMkNgDBVEl%2B3qpeI/Dnh/xh4fvfCnivRbXUtM1K1e21DT76BZYbmF1KvG6MCGUgkEHgg1w47ByxUIypy5akHeMt7O1mmusZLSS7arVI87MsBLGQjKlLkq03zQla9nazTXWMlpJdtU00mfO37Vf7HMPx/1HRv2vP2RviRaeFPi1pOnJL4a8ZafKJLDxBZModbK%2BCZW5tpFxtfDFQQRuAC1d/ZD/AG//AA18ctauPgR8cdBT4d/GbQm8jxD4B1acIblwuftNg7HF1buvzrsLMq9dy7ZG8rtPhx%2B1b/wS01G/k/Z/8D33xa%2BAUt495/wgtrdM/iLwcrktKthvJ%2B2WwJLCHO/J/h%2BeV%2B%2ButL/4J7f8FefhdDq9leWWuXumYNtqFlKbDxH4YuAc4zxNbsr84YNE7KDhxg14tOpVWKcqKVOu9Z0pNqNS32oS7/3op6WVSF1c%2B74e48ybPMvp8PcXQnGVJWo1YpSrUFd3jDmcVisK2%2Bb2TmqlJtuk6bcqc/p%2Bivje0b/gp/8AsQxnTF0m3/aT%2BHlmf9GuReCx8YWNuO0m/MV%2BVHQjMshzkqMAd/8ABT/gqb%2Bxl8ZdU/4Q%2B%2B%2BJR8DeK4pBFe%2BDfiNbHRtRtpv%2BeRWciN3/ANmN2NepSzfCuap170pv7M9L/wCGXwy%2BUvkj0sd4d59DDSxuVOOPwsdXVwzdTlX/AE9pW9vRfdVKVk7pVJbv6JopsM0VxEs8EqujqGR0bIYHoQR1FOr1D4NpphRRRQAUUUUAFFFFABRRRQAUUUUAFFFFABRRRQAUUUUAFFFFABRRRQAUUUUAFFFFABRRRQAUUUUAFeM%2BOP8AlIX8L/8AsjPjz/07eEK9mrxnxx/ykL%2BF/wD2Rnx5/wCnbwhQB7NRRRQAUUVm%2BMPGXhD4eeF7/wAceP8AxXpuh6Lpds1xqesaxfR21rZwqMtJLLIQkaAdWYgCgDSornNN%2BMPwj1n4ZD416P8AFPw5d%2BDDp7348W22uW8mmfZEBL3H2pXMXlKFbL7to2nJ4qlon7QvwC8TfCq8%2BO3hv44%2BD9Q8EadbXFxqHjKx8TWsulWsMAJnkku1kMKLGFYuxYBNpzjFAHYV%2Bb/7H1/aav8A8FPRFfTBbXwh4a%2BKOovIQSEmuvibrVuFwOdxQDAHJr9GdL1TTNc0y21rRdRgvLO8gSe0u7WZZIp4nUMroykhlIIIIOCCCK/Nf/gmV/xVf7fv7R2vfe/4RTxrqOibv7n2rx9rN5t/HGa8nNPenhod6sf/ACVTl%2Bh%2BgcB/ucPnWK/594CuvnVnhqK/9La%2BZ%2BjX/CYaT/z6ap/4I7v/AONUv/CYaT/z6ar/AOCO7/8AjVfO3j7/AILI/wDBN74X%2BO9a%2BGnjn9o37Drfh3VrnTNYsv8AhENYl%2Bz3VvK0Use%2BO0ZH2ujDcpKnGQSOayf%2BH5f/AAS0/wCjof8Ayydb/wDkKqlnmSwk4yxNNNf34/5mdHwt8TMRRjVpZJi5Rkk01h6rTTSaaahZpppp9U0%2Bp9P/APCYaT/z6ar/AOCO7/8AjVH/AAmGk/8APpqv/gju/wD41Xzt4B/4LI/8E3vih470X4aeBv2jft2t%2BItWttM0ey/4RDWIvtF1cSrFFHvktFRNzuo3MQozkkDmu%2B/b%2B%2BMHxM/Z9/Ym%2BKfxx%2BDdpps3ifwl4H1DVdHXV5mS3WWCFpN77Y5N21QzBNuHZQhZAxdevC43B42Llh6kZpb8rTt62Pn884Z4k4YrQpZxgquGlNNxVWnOm5JOzaU0m0no2uuh6X/wmGk/8%2Bmq/wDgju//AI1R/wAJhpP/AD6ar/4I7v8A%2BNV896n%2B258bfCvxD8c%2BC/iF8CvAmhaf8Mvh5aeJvHPie7%2BKl0bG3e7i1Rre2tsaOJZ1D6fGJZXSIolwWjjmdBFJzPw2/wCClWr/ABV1TwzoerfCfV/C%2BtxfGiXwd4h0hZby2hkQ%2BD9Q1%2BGfbrGj2l68LpDEm37PaSCVAyyyQqVuOk8M%2Bqv%2BEw0n/n01X/wR3f8A8ao/4TDSf%2BfTVf8AwR3f/wAar55/ZK/b5%2BJP7Q%2Bn6JceOf2YP%2BEfu/Fnwm0X4g%2BE9L8PeNYdVnutOvmCPBObiCyit7iEvExUPIjo%2BQ4ZTHXU/tV%2BLPirqXxa%2BF/7PHwt%2BK%2BoeBG8bXWsXWreK9G02xur2K3sLISLbQLf29xbq0k00LMzxOfKglVdrMJEAPXf%2BEw0n/n01X/wR3f/AMao/wCEw0n/AJ9NV/8ABHd//Gq%2BcoP2hP2kfif/AMEyPCHx/wDh9aXP/Cc67pHh2bxDd%2BFdDW9uLe0lv7SLWNQ06ykWQTypZm8ubeArLuZY12TnEb8X4C%2BOP7Svxo/Zq%2BIOoeBfF3xt1DXfhn8Sr/Q9KufDvhTwvpniTxRZixtLy3lvLPXrOG0g2C9CMkcVtM3kD92rloqAPsH/AITDSf8An01X/wAEd3/8ao/4TDSf%2BfTVf/BHd/8AxqvhaD9tD9pnxl4Ch/aC0n446fHZeBvAnw01XVvD3hvRLZtK8Z3GuyI%2BpSl7y3N5DC0Mgjs1ieB45VZphMD5S2NZ/bJ/aQ8E6HcftCar8c9OTR/Fd98UtMsvDHiTR7WPR/CH/COf2q1hftNbW4vXUJpDfbBLLMGe6PlLF5aqwB9wf8JhpP8Az6ap/wCCO7/%2BNVfsL%2B01O0S%2BsZxJFIMqwBHfBGDyCDkEHkEV8v8A/BOr4yftG%2BNvGXjz4a/tI3/jOHU9D0Tw3qthonxK03RINdt4r%2BK8WS4LaEi2TWMk9nLHApJuke1uhOF/divpHwf/AMgmb/sKX3/pXLQBq0UUUAFFFFABRRRQAUUUUAFFFFABRRRQAUUUUAFFFFABRRRQAUUUUAFFFFABXjP7L/8AyW/9o7/ss1j/AOoV4Xr2avGf2X/%2BS3/tHf8AZZrH/wBQrwvQB7NRRRQAUUUUAFFFFABRRRQAUUUUAFFFFABRRRQAUUUUAFFFFABRRRQAUUUUAFeM%2BOP%2BUhfwv/7Iz48/9O3hCvZq8Z8cf8pC/hf/ANkZ8ef%2BnbwhQB7NRRRQAV8//tFf8E0f2Xf2h/FbfFKXQdS8GePFbzLf4geANTfStVSTGPMZ4/kmboN0iM2BgEV9AUVz4nC4bGU/Z14KS81%2BK6p%2BaafmcuLwWEx9L2eIpqcd7NXs%2B66p%2BaafmfIEPg//AIK9fsyr9l8F%2BOvA37QPhu2P7i08VKdC8RGMdIxcJm2kIHBklJZjg4HIrjfjH%2B2/%2Byt4/wBI/wCEX/4KZf8ABPHxt4O8hCk2q%2BKvAf8AbGmW3qbfUrVWfjn5o1U8%2B9feNBAIwRkHqDXnVMqqqDhRrPl/lqJVY/8Ak1pf%2BTM5sFh85yXExxGUY%2BrRnHWN25cv%2BGXNCrH5VH8z85Phj8H/APgn/rGy9/4J5/8ABVrXfhfNK26y8LW3j9LnT1J550rU2WV%2BfVu%2BO9ev2mn/APBZf4V2yXGhePfgv8Z9JC7kuNSsbjQtTul7Ffs5NqufckV7P8T/ANhj9jb4zvLcfE39mHwPqtzPnzb%2BXw5Al02ev7%2BNVk/8eryG4/4Iu/sY6RcPefB66%2BIPw3ndi3neBPiHf2xVj3UTPKB%2BAx7V5n9k4/D/AMGKX/XupOn/AOSTVSH3WR9z/wARQ8RaumcYfB5ku9enF1H/ANxeSnVv5uvLvdsjH/BQ39q74eDZ%2B0H/AMEsvihZCPia6%2BHeoWfiZCP74WBoyB3weRVjTv8AgtN%2BwhbXaaV8TfFfirwFfyHaLDxr4G1G1kDdwSkUiLj3bFQD/gnT%2B1F4PG34P/8ABVr4u2QT/UjxpaWXiHHpu89U31DqH7P/APwV60ezfTrP9tP4WeObdhhofGnwwFksw/21s2YflT9rxDQ6TfrClP8AGFSm/wDyUP8AXXg/E/8AIw4WrUn1eExjt8oV1WXyv5XR634K/wCCg37DXxCCDwn%2B1v8AD2eST7ltP4rtYJm/7ZSur/pXqWgeK/C/iu1%2B3eFvElhqUBGRNp94kyY%2BqEivgTxp%2ByJ%2B3Trhd/iX/wAE/f2NfHDn711o2mXVjcyD/rpPFlSfY4ry/X/2CPGMV1/aGr/8EJNJNypJGp%2BAv2jf7PaP3SJpAD9MUf21m1L%2BJQv/ANuVo/8AttRfiL%2B1vCLEfFLM8M/7%2BEo10vnRq05W87X8j9WqK/Jb/hR/xX8Hf8gj9lL9tfwRs6J4B%2BNEF8iewBVtw9u9H/Cy/wBqbwZ8ml%2BPP2/NF2dJvEHwistehX/edpV3flzR/rPKH8TDyXo3/wC3U4hy%2BF1b%2BFxF7PyrYDHU/vcI1o/cfrTRX5Lf8N3/ALZfhH/j5/bf%2BJ21ekPjX9kiK22%2BzPayOT9aP%2BHxP7T3hUf6b%2B1z8G59vX/hL/g/4rss/wC99kt3x%2BFH%2Bt%2BWx/iRlH/wF/8At6D%2By%2BDKn8HifLn/AI6uIo/%2BnsHGx%2BtNFflNp3/Bd746W%2BPtfxC/Zt1r1/s4%2BKbDd9PtloMfjW5Yf8F%2BPihBj7V8E/hRq/r/AGf8Z4bHd9PtUAx%2BNaR4wyKW82v%2B3f8AKTNI8M4Ot/u%2BdZZU/wAOY4Vf%2BnHS/Q/T2ivzf0//AIOBLsKG1/8AZV8N2/8Ae%2Bw/tBeH7j8s7M1qWv8AwcKfB6I7da/Z81ZW7rpPjrQr0/gFuhmtlxXkD/5fW9VJfobx4Hzir/Br4Sp/gx%2BXy/LGI/QyivgnT/8Ag4U/ZYuHEN7%2Bz58YEY9Xs/D1hcxj/gUd9/Sug0//AILx/sc3oBuvh58VrMHr9p8DE4/79ytW0eJchntiI/j/APImj8POMfs4ZS/w18JP/wBIxsvyPtaivj%2B2/wCC5P7A7gHUte8Zaf6/bPAd/wAf98RtV2D/AILjf8ExnYR337RNxZOeiXfgrWFP5i0I/WtVn2SP/mJh/wCBJfnYcfDfj%2Bp/DyuvP/DDn/8ASJzPrOivmGx/4LM/8Ey9Qx9n/at0pc/899H1CL/0O3FbFl/wVh/4Jy3%2BPI/a68JLn/nvcyRf%2BhoK0jnGUS2xFP8A8Dj/AJk1PDnxCpK88nxS/wC5et%2BlNn0NRXiFl/wUs/4J/X%2BPI/bH%2BHa5/wCe3ii3j/8AQ2Fatp%2B3z%2Bwxf4Fr%2B2Z8K2J6KfiDpwP5GbNbLMcvltWh/wCBx/8AkjgqcG8Y0fjyzEr1w9f/AOUnrVFec2n7YX7JF/j7B%2B1J8OZ89PJ8b2DfymrTtP2jf2e7/H2H47%2BDJs9PK8UWjfykrVYrCy2qRf8A29H/AOSOCpkOfUf4mDrR9aVVfnSR2dFc/a/Fr4V33/Hj8TPD82f%2BeWswN/J60bXxT4Yvv%2BPLxHYTZ6eVeI38jWiqU5bSX3r/ADOKpg8ZS%2BOlJesZL84ov0UiSRyrvjcMD0KnNLVnOFFFFABXjPjj/lIX8L/%2ByM%2BPP/Tt4Qr2avGfHH/KQv4X/wDZGfHn/p28IUAezUUUUAFeIft/eG/EWu/BPRtW0TwpqWv2nhv4l%2BFdf8QaHo%2BnSXl1eabY61aXNwYraJWkuXhWP7SIUVpJPs%2B1Fdyqn2%2BigD4S8R%2BFfGnjD9hn40%2BH9F%2BD3jWI%2BNfiTeeKvDWgv4Qv7bUdP0afXLYyajDbSQqTfK0F3q0enOPPkZ41lhzMyHz3xV%2Bz1%2B1/8Uf2cvirp/w48C3HjfwrrHxH1rxFqVx8XFvvCfiXx2IvDmmRafcS6fb6MwPkX8MsaW4tLHz/AOyLFsFZJXn/AEvooA8r/Z/0j41x/sb%2BCdBubXRfCPjiHwLptu8Oo2lzq1np1yltGpWWImxmmwBhkzCwbIz8uT8Z/wDBF7wx4ks/iF%2B1j4v8Y6lY3%2BrXX7TF5pup6hpmnvaW1zcWuv3pkeKF5ZmhQtcErG0shUMAXYjcf0gr4o/4JSeGDovw9/aB1yRPn1n9tHxzcK5HVE8SCAD6AxN%2BZrgxVP2mKw7/AJZSf/kjX6n1eQ4xYTIc3jfWrSow%2BTxVOb/9No%2B16K%2BYvH//AAU1/wCEC8d634F/4d8/tPa1/Yur3Nh/bGgfCf7TYX/kytH59tL9pHmwvt3o%2BBuVlOBmsj/h7D/1jU/a0/8ADN//AHVWUs6yyMnF1NV/dn/8rPzuXEOTQk4yq6rT4anTT/n0fWlYvxH%2BHngz4ufD7XPhV8RtBi1Xw/4l0i50vXNMnZlS6tLiJopoiUIYBkZhlSCM5BB5r588A/8ABTX/AIT3x3ovgX/h3z%2B09ov9tavbWH9sa/8ACf7NYWHnSrH59zL9pPlQpu3u%2BDtVWODivZv2k/GHxO%2BHnwC8X/EH4M%2BHLTWfE%2Bg6Bc6lo%2Bi3sLumpSQIZTagI6EPKqNGjbsK7qxDAFT14bGYbGRcqMrpb6SX/pUY/qduDx%2BDzCLlh5cyWj0kvP7UY/hcxoP2Nf2eF8K%2BKfB2p%2BENS1ez8a%2BG7fQfFUviLxXqep3WpWEH2nyY5Lm7uZJ96fa58ShxKNy/P8ibc7wP%2BwV%2By18PdSXXPD/gLUptSHi4eKJdW1rxjq2pXlxq40ibRhdzXF5dSyzsNPnlt8SMy7SpxuRGXw3xH/wUf%2BJvxI8LXPjH9lxtD1Ww8R%2BO5tI%2BFEsXhJdUbxBp1hpC3Wq3sjXOt6VbQxxXfnwB2uF2izcBJWkHl8T4N/bq%2BI3xc8R6J8eLL7Ta6d48%2BGX7O%2Bqx%2BFG1%2B9%2Bw6VP4i8Xa7bX8kH2aeLc5i8lGY5SdbWFZkliXyj0nYfYfhj9k74EeCbHRLDwd4TvdKXw54GtPB2iTad4j1CGa00W1eN4LVZUnDnaYo8yFjIwBDOwZgdH43/s9fCn9onRNP0P4paPqMw0jUTfaRf6J4ivtIvrG4MMsDPDeWE0NxFuhmmicJIA6SMrAqSK%2BTfgn%2B1T%2B1B8bv2pPhB4w1PxV4R/sTx38LfH%2Bt%2BHPh7pV1e6e1rJZ3%2BjQW0GrSma4S6lj80o1wltEbaR7hFikzk%2B3ftv6t4kn0z4UfDeXxVqvh3SPHfxXsND8Z6l4b1240%2B6hszp9/dJBDe27RT2/n3trZ2vmRtHIy3BVSpcUAehSfs7/AAsTwGPhho1jrGi6BF4csNCstM8M%2BK9R0qPT7GzJNulp9juIjZuoO0ywFJXRERnZY0Vedu/2Jf2fp/h5p3wtsbDxbpekabdXlyDoHxL17Tbu9nu3MlzLe3drex3F%2B8rku7XMkpZjuJJ5ry/4Raj%2B0L8U/wDgm3430P4T/Em7n8aWepeO/DngHxZrGqlri4t9P17VNP0y4kvJQ5aU2ttAPtbhy7YnbfuOeK/Z9s/ir8WdO%2BN/wLPgvx9YWHhLxTox8E%2BHvHH7QmrWmqw38ulRT3en3fiDSbq%2BukjG5LoQrNdbVuk3KqssUQB9Can%2Bwv8Asran4l8L%2BKG%2BFKWkvg7TdJ0/QrDS9YvbPTxa6XMZ9MhnsYJktrxLOUmW3FxHIIHJePYxzSxfsNfssr4z8SeOrn4VreXXiyx1Sz1qx1LWL2601odTKnUhDYTTNaWrXZQNcPBFG07ZMhcsSfhSf41fFzxf%2BzRqWv8AjD9pLxlpmr/C79mvxF4p8NX%2Bl%2BLLu2F74n07WNRs5muHhmH9uwWb2FlbL9o82K7S8EskZe4Xb9I/F9PiP8P/ANtX4LfEiw1nVtH0Dxz4pfSvFG34q6vqCXt82hak40oeHZ/%2BJfaQK9tFcG%2Bt2M6yW5VoQks0wAPdPgd%2BzH8G/wBnVtUuPhfouqrd6yltHqeqeIPFOo61ezw2yutvAbrUbieYQxCSTy4Q4jQyyFVBdier8H/8gmb/ALCt9/6Vy1qVl%2BD/APkEzf8AYVvv/SuWgDUooooAKKKKACiiigAooooAKKKKACiiigAooooAKKKKACiiigAooooAKKKKACvGf2X/APkt/wC0d/2Wax/9QrwvXs1eM/sv/wDJb/2jv%2ByzWP8A6hXhegD2aiiigAooooAKKKKACiiigAooooAKKKKACiiigAooooAKKKKACiiigAooooAK8Z8cf8pC/hf/ANkZ8ef%2BnbwhXs1fOH7R%2Br/GvR/28PhPP8Dvh/4W8Rak3wj8drd2nivxhc6LBHB/anhIl0lt9PvWd920bDGowSd%2BQFIB9H0V4z/wnH/BQv8A6Nf%2BDP8A4fjVv/mXo/4Tj/goX/0a/wDBn/w/Grf/ADL0AezUV4z/AMJx/wAFC/8Ao1/4M/8Ah%2BNW/wDmXo/4Tj/goX/0a/8ABn/w/Grf/MvQB7NRXzjpP7R37dusfGfX/gdb/sofCRdU8O%2BF9I128uX%2BOuqeRJBqNzqVvCiEeGNxdW0ucsCoADx4LEsF6j/hOP8AgoX/ANGv/Bn/AMPxq3/zL0AezUV4z/wnH/BQv/o1/wCDP/h%2BNW/%2BZej/AITj/goX/wBGv/Bn/wAPxq3/AMy9AHs1FeM/8Jx/wUL/AOjX/gz/AOH41b/5l65fwD%2B0d%2B3b8RPFfjfwho/7KHwkhuPAfiiLQtVkufjrqgSeeTStP1MPFt8MElPJ1GFSWCnejjGAGYA%2BjqK8Z/4Tj/goX/0a/wDBn/w/Grf/ADL0f8Jx/wAFC/8Ao1/4M/8Ah%2BNW/wDmXoA9morxn/hOP%2BChf/Rr/wAGf/D8at/8y9H/AAnH/BQv/o1/4M/%2BH41b/wCZegD2aivnH4RftHft2/GXwpd%2BL/Dn7KHwktrez8Ua3oUkd78ddUVzPpeq3WmTuNvhhhsaa0kZDnJRlJCnKjqP%2BE4/4KF/9Gv/AAZ/8Pxq3/zL0Aeraj4T8Lavn%2B1vDWn3Wev2izR8/wDfQNYd/wDAX4Garn%2B1Pgx4Tuc9ftHhy1fP5pXC/wDCcf8ABQv/AKNf%2BDP/AIfjVv8A5l6P%2BE4/4KF/9Gv/AAZ/8Pxq3/zL1nKlSn8UU/VL/IzlRoz%2BKKfqk/zTOhvv2QP2S9Tz/aX7Lvw6uM9fP8E2D5/OKsm8/YD/AGFb/Juv2MvhUxPVh8PtOU/mIc1U/wCE4/4KF/8ARr/wZ/8AD8at/wDMvXL/AAR/aO/bt%2BPHwY8IfHHwr%2Byh8JLXS/GfhfT9d0221D466os8MF3bR3EaSBPDDKHCyAMFZhkHBI5rKWCwUt6UX/27H/5E55Zdl0/iowf/AG5D/wCQN67/AOCaX/BPy9z537G/w7XP/PHwtbx/%2BgqKzbv/AIJTf8E6LzPnfsheDRn/AJ5WDR/%2BgsK3P%2BE4/wCChf8A0a/8Gf8Aw/Grf/MvR/wnH/BQv/o1/wCDP/h%2BNW/%2BZesnleWS3oQ/8Aj/APImMsmyeW%2BGp/8AguH/AMiclc/8Ef8A/gmtd5839kvw8M/88rm6T/0GYVn3H/BFv/gmLdf639lPThn/AJ569qSf%2Bg3Irvf%2BE4/4KF/9Gv8AwZ/8Pxq3/wAy9cv8bv2jv27fgP8ABjxf8cfFX7KHwkutL8GeF9Q13UrbT/jrqjTzQWltJcSJGH8MKpcrGQoZlGSMkDms3k2TvfD0/wDwCP8AkZPh/IZb4Sl/4Lh/8ic7P/wQ6/4Jb3By/wCy4in1j8Y6yv8AK8qtL/wQu/4JjuMQfAC9h/65%2BN9Y/rdGvU/%2BE4/4KF/9Gv8AwZ/8Pxq3/wAy9H/Ccf8ABQv/AKNf%2BDP/AIfjVv8A5l6h5Fkj/wCYan/4BH/IhcOcPJ3WEpr/ALcivySPIbj/AIIO/wDBNWf7vwi1mP8A3fGmpH%2Bcxqhcf8EAv%2BCa85yPht4gQ/7Pi67P83Ne2/8ACcf8FC/%2BjX/gz/4fjVv/AJl6P%2BE4/wCChf8A0a/8Gf8Aw/Grf/MvUPh7Invhaf8A4CjeGTZVT%2BCil6XX5TR4RL/wb4/8E4JPueEPFUf%2B54rm/qDVaX/g3j/4J1Sfc0rxnH/ueKD/AFjNesfF39o79u34NeFLTxf4j/ZQ%2BElzb3nijRNCjjsvjrqjOJ9U1W10yBzu8MKNizXcbOc5CKxAY4U9R/wnH/BQv/o1/wCDP/h%2BNW/%2BZeofDeQP/mFh/wCA/wDBOiOCw8Ph5l6Tqr8qyPneX/g3W/4J5P8AcPjtP93xMn9YDVeT/g3L/wCCfb/d1f4hp/u%2BJIP62xr6Q/4Tj/goX/0a/wDBn/w/Grf/ADL0f8Jx/wAFC/8Ao1/4M/8Ah%2BNW/wDmXqXwxw8/%2BYWH3f8ABNo0nH4alRelauvyxCPmr/iHF/YJVt9t4w%2BJkJ9YvElqP52hqWL/AIN3P2M7b/jy%2BMvxht8dPJ8WWYx/5JV9If8ACcf8FC/%2BjX/gz/4fjVv/AJl65fx9%2B0d%2B3b8O/FfgjwhrH7KHwkmuPHniiXQtKktvjrqhSCePStQ1MvLu8MAhPJ06ZQVDHe6DGCWU/wBWOHlthYfc/wD5Ipqs1rWq/wDg/E//ADUeQw/8G/37MVof9C/aZ%2BO0GOnk%2BNrRf/bGrkP/AAQm%2BCVoMWH7ZH7REGOnl/EG2H8rIV71/wAJx/wUL/6Nf%2BDP/h%2BNW/8AmXo/4Tj/AIKF/wDRr/wZ/wDD8at/8y9UuG8iW2Hj/wCTf/JmM8LGfxVKj/7j4j/5pPD4v%2BCJfgO1/wCPL9vH9pKLHTb8R4h/K1FWP2ev2MrP9kT/AIKE%2BD1sv2h/iZ49XxB8GfGOR8RfEo1H7B5GreFv%2BPfEaeXv875%2Bu7y06ba9o/4Tj/goX/0a/wDBn/w/Grf/ADL1Q8D%2BB/2rPGP7Vnhz43fG74cfD3wzo3hn4e%2BIdDhh8K/EO%2B1q6u7rUr7RLhGZLjSLFIo0TS5QWDuxaVAFxkjow%2BT5ZhKqq0afLJbO8vTrNr8CKeBw9KoqkXK671KsvwlVmn80z3WiiivTOwKKKKACiiigAr5y/Yh8M6d4X/Z48WXlj5hF7%2B0N4/1K%2BZhnB/4TzVC7cD7qpGPwWvo2vkr9krxZ%2B2dp/wAPfFFn8MfgH8MNX0JPjT8Rf7P1HXvi7qOm3cy/8JnrJYyW0WgXKRENuAAmfIAOQTtCaTafYuNScYSgnpK1/Ozuvuep9Qf8Jz4J/wChw0v/AMGEf/xVL/wnPgn/AKHDSv8AwYR//FV5b/wnH/BQv/o1/wCDP/h%2BNW/%2BZej/AITj/goX/wBGv/Bn/wAPxq3/AMy9Mg9S/wCE58E/9DhpX/gwj/8AiqP%2BE58E/wDQ4aV/4MI//iq8t/4Tj/goX/0a/wDBn/w/Grf/ADL0f8Jx/wAFC/8Ao1/4M/8Ah%2BNW/wDmXoA1L74GfsUap8ONJ%2BDup/B34W3HhHQL37ZoXhWfw9pr6bptzukbzoLYp5UMm6WU70UHMjnPzHOhp/w4/ZR0m1tbLSvAfw9tobK00m0sobfS7FFt4NLnkuNMiQBQES0nlllt1GBBJI7xhWYk%2BZ/BH9o79u348fBjwh8cfCv7KHwktdL8Z%2BF9P13TbbUPjrqizwwXdtHcRpIE8MMocLIAwVmGQcEjmuo/4Tj/AIKF/wDRr/wZ/wDD8at/8y9AGrY/A/8AYq0vxTrfjnTPhB8LrfW/EsF1D4j1iDw/pqXWqx3WPtKXMoTfOsu1fMDkh8DdnFdB430r4AfEzwRc/DL4kab4O8QeG7yFIrvw9rkNpd2M8aMrIjwSho2VWVSAVwCoI6CuK/4Tj/goX/0a/wDBn/w/Grf/ADL0f8Jx/wAFC/8Ao1/4M/8Ah%2BNW/wDmXoA6oeCf2YR4et/CI8I%2BAxpNp4bn8PWul/YLL7PDpE4jWbTkj27VtZBDEHgA8thEgKnaMYd1%2Bz5%2BwxffC21%2BB178EPhPN4Ksr831n4Pl8NaY2lwXR35nS0MfkpJ%2B8f5wob5255NcT8bv2jv27fgP8GPF/wAcfFX7KHwkutL8GeF9Q13UrbT/AI66o080FpbSXEiRh/DCqXKxkKGZRkjJA5rqP%2BE4/wCChf8A0a/8Gf8Aw/Grf/MvQBu%2BIPhN%2ByB4ssfDGl%2BKvhp8NtTtvBMscvgy31DRtPmj0B0CBGsldCLUqI0wYtpGxcdBT9K%2BFv7I%2BhfFW7%2BO2ifDr4cWfje/VlvvGVrpFhHqtwrKqMJLtVEzgqqqcschQOgFc/8A8Jx/wUL/AOjX/gz/AOH41b/5l6P%2BE4/4KF/9Gv8AwZ/8Pxq3/wAy9AHqP/Cc%2BCf%2Bhw0v/wAGEf8A8VR4MO/QzOoOya%2Bu5YiRjcj3MjK30KkEexry7/hOP%2BChf/Rr/wAGf/D8at/8y9cv8Xf2jv27fg14UtPF/iP9lD4SXNveeKNE0KOOy%2BOuqM4n1TVbXTIHO7wwo2LNdxs5zkIrEBjhSAfR1FeM/wDCcf8ABQv/AKNf%2BDP/AIfjVv8A5l6P%2BE4/4KF/9Gv/AAZ/8Pxq3/zL0AezUV4z/wAJx/wUL/6Nf%2BDP/h%2BNW/8AmXo/4Tj/AIKF/wDRr/wZ/wDD8at/8y9AHs1FfOPj79o79u34d%2BK/BHhDWP2UPhJNcePPFEuhaVJbfHXVCkE8elahqZeXd4YBCeTp0ygqGO90GMEsvUf8Jx/wUL/6Nf8Agz/4fjVv/mXoA9morxn/AITj/goX/wBGv/Bn/wAPxq3/AMy9H/Ccf8FC/wDo1/4M/wDh%2BNW/%2BZegD2aivGf%2BE4/4KF/9Gv8AwZ/8Pxq3/wAy9cvq37R37duj/GfQPgdcfsofCRtU8ReF9X12zuU%2BOuqeRHBp1zptvMjk%2BGNwdm1SAqApBCSZKkKGAPo6ivGf%2BE4/4KF/9Gv/AAZ/8Pxq3/zL0f8ACcf8FC/%2BjX/gz/4fjVv/AJl6APZqK8Z/4Tj/AIKF/wDRr/wZ/wDD8at/8y9H/Ccf8FC/%2BjX/AIM/%2BH41b/5l6APZqK%2BcdJ/aO/bt1j4z6/8AA63/AGUPhIuqeHfC%2Bka7eXL/AB11TyJINRudSt4UQjwxuLq2lzlgVAAePBYlgvUf8Jx/wUL/AOjX/gz/AOH41b/5l6APZqK8Z/4Tj/goX/0a/wDBn/w/Grf/ADL0f8Jx/wAFC/8Ao1/4M/8Ah%2BNW/wDmXoA9morxn/hOP%2BChf/Rr/wAGf/D8at/8y9cv4B/aO/bt%2BInivxv4Q0f9lD4SQ3HgPxRFoWqyXPx11QJPPJpWn6mHi2%2BGCSnk6jCpLBTvRxjADMAfR1FeM/8ACcf8FC/%2BjX/gz/4fjVv/AJl6P%2BE4/wCChf8A0a/8Gf8Aw/Grf/MvQB7NXjP7L/8AyW/9o7/ss1j/AOoV4Xo/4Tj/AIKF/wDRr/wZ/wDD8at/8y9W/wBlb4c/GnwfrHxQ8d/HTQPC%2Bk6p4%2B%2BIUWuWeleE/Etzq1va2sWg6Ppiq9xcWVmzSNJp0rlRFtCyINzHOAD1uiiigAooooAKKKKACiiigAooooAKKKKACiiigAooooAKKKKACiiigAooooAK%2BV/2nv2tPi58MPjH4s1rwD4d8HyeGPg/4f8AD9741OtaRcTarqlvq9/KlzBYXEdxGll5FtZx3GZIpxcyFIyIfL80/VFeM/Gf9iH4cfG74pH4ma5458VaXFqNrpFr4v8ADWjXVqmneKYNLvZL2xivllt5Jgsc00ufs8sBljkMUxljCoAD2aiiigAooooA%2BY/Dn7SvxMh/b/8AFHwf%2BI2seHvCfhtfEFpongyLUfhFrKXXjGAaBBqOIPEbXa6c0sd3c6gBaCF5PLtJgFBZpF%2BnK8r8WfstQeP/AIyaR8U/Hvxv8a6vpXh7XY9a0DwBcHTItGsdQjt3gjnDQ2SXsuzzJJFSa6kjEj7tnyIF9UoAKKKKAPF/%2BCgvxd%2BOH7P37I/jT49fAK98KR6x4J0K71y6g8YaLc31td2lrbSzPboltdWzJK7IiiQuVQFiUfgV5/48/a0%2BLngv48eLdT8KeHfCEXw88IfGPwj8PvGVnNpFwdb1XVddg0VI9Qhu0uFhjjg/tzSYzFJbyvIkM%2BJY9qCvYf2sf2cbL9rT4Ea9%2Bz7rXxV8U%2BEdJ8T2Utjrl/4QXTvtdzZSxPFNbbr%2B0uo0R1flkRZAVG115zxcH7APg6f4i2fxF8VfHHx9rrHWdJ1zxNo2oS6VFY%2BJ9c0xI0sdWvY7awiZbiIQWmFtmggY2NsXiYx5IB73RRRQAV4v%2B2T8Xfjh8ErXwD4x%2BFl74U/sbUPiZ4c8PeL7HxBotzc3Vza6rrNjpoNnLDdQpbSRrcyyb5EnUlEXZyTXtFeVftXfstv%2B1V4b0LwvP8ffG/ga30LxJYa6jeC4dHZ7u9sbyC8s2lOpafeDbFcW8bhYwgblZN6naADzj9nn9pX4ma3%2B1V4t%2BCPxQ1fw94T06HxTrdv4J8JSfCLWdMudetoXSU39vrVxd/YNQdjJNLLFbQF%2BS7FcMT9OV5LpP7KIf4yaL8ZfiP8AtAeO/Gs3he7vLvwnoXiEaTDYaPdXNvJayXES2Gn20sr/AGeaeFfPklVFnfaASCPWqACiiigDw/8Abu%2BLnx4/Z%2B%2BDWr/HX4UeMfAtjp/hbRbm8vdF8WeGb2/ufEN7lFs9Ms5La9g%2BzzXEpFujeVdM0s8QWFj8ref/AAR/a%2B%2BM%2BufEvwV/a3gzwlpHw08b/E/xR8NvCvhrTtLmj1fRL/QIdW3zz3IuGt5oJG8P6miwx28RjVrY%2BZJlgPT/ANpX9kGD9pLx54I%2BIE37QPjvwhc%2BAbu5vdFsfDEWjT2cl7KgjW8mg1PTrxHnhj8xYZAFMYnlI%2BZsir4D/Ya%2BHvgP4y2/xdh%2BIvi7UoNO13U9e0TwhqVzZf2TpWt6jG8eoapAkVqk/nzie7LK8zwo19cmOKPzOAD2uiiigAr5f/a5%2BPH7S/wW%2BImn%2BFNKh8AeNdH8cw61baL8OYvB99JrCWtpod1dyX9xOL14rq2F1Fb20kItYgft8KCYyMiSfUFeHTfsTXEf7R/iv9prRP2q/iXp2r%2BLdNh0650uGDw/PaafZwwNHDbWbXOky3NvEsrvdbFm2vO5dw4O2gBn7CH7Qfjf49/D28uviv4%2B0a%2B8XacLNtf8N2Xwu1fwjeaA89ssogubLV7qe4cFt/l3ACRyKh2htpNe6V5v8Dv2btO%2BDPifxJ8Q9Y%2BKXinxx4q8VxWNvrHifxc1gty9pZib7LapFp9ra20cUbXNy42whma4kLM2Rj0igAooooA%2BOf8AgoJ%2B3H8VP2MPHP8AaeuaLoHjHwi%2Bjajrdv4Vl%2BHOp2Utumm6Nfakkn/CRTXT6ZPd/a9NGyxWBLoRzLKBthaRvXv2aPi78c9W%2BKnjf9nr9o658Kah4n8I6ToetR614K0i5sLG5sdUF5GkRgubm5dZYrjTrtS/m4kQxNsjJKit8df2EvBH7TmtXVr8f/i3418UeC7mS4kX4ZXkmmw6LFJNYzWTNvt7KO%2BkAjuJmCS3ToHfdt%2BRAvT/ALPn7M2kfAO817xFd/FDxZ448R%2BJDZx6t4q8a3Fm99LbWkRitbUfY7a3hWKIPKwxHvZ55XdnZyaAPSqKKKACviP9qf8AbK/az%2BDfxq8QfCjwd4b8OeNdTsNFuNd8MBPgf4gjk0UDUdMtUMLfbnHiaQWOqXHnf2X5TwtCVlEYmEdfbleH69%2BxbqfiXx6fidrX7XPxRm1vT4LyLwbeFNAA8KrdTQyT/ZIxpOydmjgW33Xq3TLEzhSruzkA6r9lj4sP8ZPhHB4svfiZo3iq/h1G6stUvtG8GX3h0W1xFKytazabqFxPdWc8YwrxzOHz821QwFejVw3wD%2BAvh74AeGdT0bSvFOt%2BINR1/XrjW/EniTxHNA17qt/MERp5RbxQwJiOKGJUhijjVIkAUYJPc0AFFFFABRRRQAUUUUAFFFFAFHxR4hsPCXhrUfFeqhza6ZYzXdyIly3lxoXbA7nCmvnP9ib9pP41%2BP8AxTo/gz42eHvBlmPHXwtsviN4Zh8GaVcWg0yO8uCbvT7szXEou5o3ubZ/tiCATtLMTBHtBf6Wu7S1v7WWxvbdJoZo2jmilUMrqRgqQeCCOMV5D%2BzN%2BxX4C/Zg1V9X0D4g%2BLfEstt4YsfDPh0eLL21mGgaFZvI9vptqbe3hLRqZPmlnM1xII4vMmfy1wAexUUUUAFcL%2B1B48%2BIvws/Zo%2BInxO%2BD/hRde8W%2BHPAur6p4W0NrGa6Go6jb2csttbGGBllmEkqInlxsHbdhSCQa7qs7xbol/4l8Mah4f0vxXqOhXN7aSQ2%2BtaQsDXVi7KQJohcRSxF1PIEkbpkfMrDIIB5d%2BxT8Wp/ih8M76y1b4heH9Z1Pw7qq6deaZonww1Pwc%2BhoLaCSKzuNK1S5nuYXCOJFdvLR4pYtiYG9/Yq88%2BA/wCztpPwOvPEviO5%2BIniTxj4k8X6jDeeIvFPit7MXd0YbdLeCIR2NtbW0UUcaAKscKZLOzFmZmPodABRRRQB8uftUftY/FD9nD4veOLL4laN4S8RfC%2Bw/Z38X%2BPbbQrfRLhNVdtEGlrPbXFzJcvbzRTrfTgILZCoRMu%2BWFdv%2BzP8X/j5qnxc8Zfs6/tLP4SvPFHhjwx4e8Sx6r4K0m5sbKSy1Z9St1tjDc3Ny5lhuNIuwZRIFkR4m8uM7lqD4x/sK%2BHfjp8dW%2BMvjz47eOZdNm8Fan4Rvvh7DBov9iXejaktt9vtJC%2BmtekTtaQOzi6DqUIRkRmQ9J%2Bzv%2By7of7Pt9rXiOf4oeLfG/iHX7Wwsr/xP42ubSS9NhYpItnZj7JbW8flRGe4cEoZHe5ld3dmzQB6fRRRQAV8ifGv9pf9rbwZrv7QHgS38K%2BDPFl74C8P%2BFPEnw2sdJ%2BH%2Bp386x6jqupQhLy1ivHl1GeBdNjnU2wtyXJCr8qtX13Xhcv7FHiGL46eNvj/AKF%2B2h8VtK1bxvpFjplzY2Vn4Ya0022sri5ns0thLoryfujeXSgzPKXWciTzCqFQDq/2VPi3N8ZfhSPE2o/E7RvFOo2uq3Njq11o/gi/8NmzuIm%2Ba1n0zUbie6tJ0UruSZgxDK21VYV6TXCfAP4B6B8AdC1mx0/xbrniPVfE3iCXXPE/ibxJLbte6rfyQwwebILaGGCMLBb28KpFFGipCgC5yT3dABRRRQB8bftLftd/tLfs8fGaD4baynwz8a32twQTeEYdO8LXtpL4LvNS8Q6Z4e0ibU5XvphdRTtq84LRLZyOLG6WMMvmGL3H9lX4v/Ej4jDx/wDD74xHRJ/FXw08eN4a1nVfDWnTWdhqfmaXp2rW9xDbzTzyW%2BbXVLdHjaaXEkcmGIIxwtt/wTV8JNdfEN/EP7S/xO1m3%2BJOvHXNYt9SOheZZ6lFcQz6fc211FpaXSmwe3txaRvNJFEsKBkfnPrHwD%2BAuh/APw9q2m2Xi/XPEmreItem1rxP4o8SvbG/1e%2Bkjih86YWsEEC7IILeBEiijRY4I1C8EkA7qiiigBlz9p%2BzSfY9nnbD5Xm527scZxzjNfEHxW/a5/bT%2BGnxE1z4bW9t4D8Z694YvfDVvq3jrwR8Fdf1aPw5b6s1497YS6VZ6lPd3M0cNlY3RMU6fu7qFpYEBiaT7eu4ZLi1lt4bqSB5I2VZ4gpeMkYDLuBXI6jII9Qa%2Be/gx%2BwF4g%2BAnw2uPhp8O/26vjFFHdas%2BpzazeWXhOfUJbuV5ZLmeaZ9CP2mSd5d0kk4kfMabCgGCAes/AT4h2XxW%2BDvh/4hWHxA0bxUmp6eJH1/w/pM1haXcgJWQpazzTS2xV1ZGhkkd42VlY7lIHX1yXwL%2BC/hL9n34X6d8KfBVzf3FlYS3VxNfarcia6vru6uZbq6upnCqGlmuJ5pX2qq7pDtVVwo62gAqj4nh8SXPhvULfwbqdjZavJZSrpd5qdg91bQXBQiOSWGOWJpo1bBZFkjLAEB1J3C9Wb4x0G/8UeFr/w7pfi3UtBuby1eKDWtHEBurFyOJohcRSxF1PIEkbocfMrDIoA%2BHvhv%2B3Z%2B1r8YPinrfwS%2BFmm/D5PGem2uu30njPxX8Lta0NdU0zSLXRZUsZdEvL5NQ0%2BV7vxDsSaeZ4/KhkuEhdZ0B%2BxvgF8WtN%2BPnwJ8FfHXRtNls7Pxr4S03XrSzmfc8EV5ax3CxsQBkqJACfUV4tq//BMjwPrWuX3xFu/2lPimnxA1ZLy11r4k217pEOrX%2BmXVta202mFE00WcNsUsrRh5FtFKskCyrKHLMfoPwX4P8NfDzwdpPgDwZpMWn6PoemQafpNhDnZbW0MaxxRrnnCoqqPpQBp0UUUAcv8AGnUfHGjfC3Wtb%2BHPiGx0vVrCzN1Dfah4PvfECJHGQ8oGnWM8FzeSNErqkUMgcuy4Vz8jfFvwl/4KI/H7xJ400PU/G9x4R8CeDNSnnXxB44vPgZ4imttYv4dfutIRLmVb6NPDM8lraWv7jVGklgeVY3zsCV9t/EzwZrvj3wlN4c8N/FLX/Bt5JLG8Wv8AhmKxe7g2sCVVb%2B2uYGDAFSHibgnGDgjxW6/4JzeFNQ8H3Hw21b9pD4m3fhjXNQmv/HmgTXGjiLxhdz3jXVxNfSrpouIvNLLC0dnLaxCGJI1RRu3AH0TRRRQAUUUUAFFFFABRRRQAUUUUAFFFFABRRRQAUUUUAFFFFABRRRQAUUUUAFFFFABRRRQAUUUUAFFFFABRRRQAUUUUAFFFFABRRRQAUUUUAFFFFABRRRQAUUUUAFFFFABRRRQAUUUUAFFFFABRRRQAUUUUAFFFFABRRRQAUUUUAFFFFABRRRQAUUUUAFFFFABRRRQAUUUUAFFFFABRRRQAUUUUAFFFFABRRRQAUUUUAFFFFABRRRQAUUUUAFFFFABRRRQAUUUUAFFFFABRRRQAUUUUAFFFFABRRRQAUUUUAFFFFABRRRQAUUUUAFFFFABRRRQB/9k%3D\">"
            ]
          },
          "metadata": {
            "tags": []
          }
        }
      ]
    },
    {
      "cell_type": "markdown",
      "metadata": {
        "id": "K_B1OvY_kuSF",
        "colab_type": "text"
      },
      "source": [
        "# Submit a linear model"
      ]
    },
    {
      "cell_type": "code",
      "metadata": {
        "id": "h8L6oUSjkuSJ",
        "colab_type": "code",
        "colab": {}
      },
      "source": [
        "## GRADED PART, DO NOT CHANGE!\n",
        "# Testing shapes \n",
        "grader.set_answer(\"9XaAS\", grading_utils.get_tensors_shapes_string([W, b, input_X, input_y, logits, probas, classes]))\n",
        "# Validation loss\n",
        "grader.set_answer(\"vmogZ\", s.run(loss, {input_X: X_val_flat, input_y: y_val_oh}))\n",
        "# Validation accuracy\n",
        "grader.set_answer(\"RMv95\", accuracy_score(y_val, s.run(classes, {input_X: X_val_flat})))"
      ],
      "execution_count": 0,
      "outputs": []
    },
    {
      "cell_type": "code",
      "metadata": {
        "id": "mEJTSItgkuSQ",
        "colab_type": "code",
        "colab": {
          "base_uri": "https://localhost:8080/",
          "height": 36
        },
        "outputId": "6e2e47eb-bb6f-4ef1-c9fc-3ba9de71eca6"
      },
      "source": [
        "# you can make submission with answers so far to check yourself at this stage\n",
        "grader.submit(COURSERA_EMAIL, COURSERA_TOKEN)"
      ],
      "execution_count": 111,
      "outputs": [
        {
          "output_type": "stream",
          "text": [
            "Submitted to Coursera platform. See results on assignment page!\n"
          ],
          "name": "stdout"
        }
      ]
    },
    {
      "cell_type": "markdown",
      "metadata": {
        "id": "YsSfpgZrkuSf",
        "colab_type": "text"
      },
      "source": [
        "# MLP with hidden layers"
      ]
    },
    {
      "cell_type": "markdown",
      "metadata": {
        "id": "RgViEgOukuSi",
        "colab_type": "text"
      },
      "source": [
        "Previously we've coded a dense layer with matrix multiplication by hand. \n",
        "But this is not convenient, you have to create a lot of variables and your code becomes a mess. \n",
        "In TensorFlow there's an easier way to make a dense layer:\n",
        "```python\n",
        "hidden1 = tf.layers.dense(inputs, 256, activation=tf.nn.sigmoid)\n",
        "```\n",
        "\n",
        "That will create all the necessary variables automatically.\n",
        "Here you can also choose an activation function (remember that we need it for a hidden layer!).\n",
        "\n",
        "Now define the MLP with 2 hidden layers and restart training with the cell above.\n",
        "\n",
        "You're aiming for ~0.97 validation accuracy here."
      ]
    },
    {
      "cell_type": "code",
      "metadata": {
        "id": "qVObgc5VkuSl",
        "colab_type": "code",
        "colab": {}
      },
      "source": [
        "# write the code here to get a new `step` operation and then run the cell with training loop above.\n",
        "# name your variables in the same way (e.g. logits, probas, classes, etc) for safety.\n",
        "s = reset_tf_session()\n",
        "# Placeholders for the input data\n",
        "input_X = tf.placeholder(shape=(None, 784), name=\"x\", dtype=\"float32\")  # tf.placeholder(...) for flat X with shape[0] = None for any batch size\n",
        "input_y = tf.placeholder(shape=(None, 10), name=\"y\", dtype=\"float32\") # tf.placeholder(...) for one-hot encoded true labels\n",
        "\n",
        "# Compute predictions\n",
        "hidden1 = tf.layers.dense(input_X, 256, activation=tf.nn.sigmoid)\n",
        "hidden2 = tf.layers.dense(hidden1, 256, activation=tf.nn.sigmoid)\n",
        "logits = tf.layers.dense(hidden2, 10)\n",
        "probas =  tf.nn.softmax(logits) # apply tf.nn.softmax to logits\n",
        "classes =  tf.argmax(probas, axis=1) # apply tf.argmax to find a class index with highest probability\n",
        "\n",
        "# Loss should be a scalar number: average loss over all the objects with tf.reduce_mean().\n",
        "# Use tf.nn.softmax_cross_entropy_with_logits on top of one-hot encoded input_y and logits.\n",
        "# It is identical to calculating cross-entropy on top of probas, but is more numerically friendly (read the docs).\n",
        "loss = tf.reduce_mean(tf.nn.softmax_cross_entropy_with_logits(logits=logits, labels=input_y))  # cross-entropy loss\n",
        "\n",
        "# Use a default tf.train.AdamOptimizer to get an SGD step\n",
        "step =  tf.train.AdamOptimizer().minimize(loss) # optimizer step that minimizes the loss"
      ],
      "execution_count": 0,
      "outputs": []
    },
    {
      "cell_type": "code",
      "metadata": {
        "id": "UgnJMG1z5D1g",
        "colab_type": "code",
        "colab": {
          "base_uri": "https://localhost:8080/",
          "height": 309
        },
        "outputId": "8b84e3c6-8c25-4e96-c0ba-76f9f24036dc"
      },
      "source": [
        "s.run(tf.global_variables_initializer())\n",
        "\n",
        "BATCH_SIZE = 512\n",
        "EPOCHS = 40\n",
        "\n",
        "# for logging the progress right here in Jupyter (for those who don't have TensorBoard)\n",
        "simpleTrainingCurves = matplotlib_utils.SimpleTrainingCurves(\"cross-entropy\", \"accuracy\")\n",
        "\n",
        "for epoch in range(EPOCHS):  # we finish an epoch when we've looked at all training samples\n",
        "    \n",
        "    batch_losses = []\n",
        "    for batch_start in range(0, X_train_flat.shape[0], BATCH_SIZE):  # data is already shuffled\n",
        "        _, batch_loss = s.run([step, loss], {input_X: X_train_flat[batch_start:batch_start+BATCH_SIZE], \n",
        "                                             input_y: y_train_oh[batch_start:batch_start+BATCH_SIZE]})\n",
        "        # collect batch losses, this is almost free as we need a forward pass for backprop anyway\n",
        "        batch_losses.append(batch_loss)\n",
        "\n",
        "    train_loss = np.mean(batch_losses)\n",
        "    val_loss = s.run(loss, {input_X: X_val_flat, input_y: y_val_oh})  # this part is usually small\n",
        "    train_accuracy = accuracy_score(y_train, s.run(classes, {input_X: X_train_flat}))  # this is slow and usually skipped\n",
        "    valid_accuracy = accuracy_score(y_val, s.run(classes, {input_X: X_val_flat}))  \n",
        "    simpleTrainingCurves.add(train_loss, val_loss, train_accuracy, valid_accuracy)"
      ],
      "execution_count": 125,
      "outputs": [
        {
          "output_type": "display_data",
          "data": {
            "text/html": [
              "<img src=\"data:image/jpeg;base64,/9j/4AAQSkZJRgABAQEASABIAAD/2wBDAAIBAQEBAQIBAQECAgICAgQDAgICAgUEBAMEBgUGBgYFBgYGBwkIBgcJBwYGCAsICQoKCgoKBggLDAsKDAkKCgr/2wBDAQICAgICAgUDAwUKBwYHCgoKCgoKCgoKCgoKCgoKCgoKCgoKCgoKCgoKCgoKCgoKCgoKCgoKCgoKCgoKCgoKCgr/wAARCAEgA2ADASIAAhEBAxEB/8QAHwAAAQUBAQEBAQEAAAAAAAAAAAECAwQFBgcICQoL/8QAtRAAAgEDAwIEAwUFBAQAAAF9AQIDAAQRBRIhMUEGE1FhByJxFDKBkaEII0KxwRVS0fAkM2JyggkKFhcYGRolJicoKSo0NTY3ODk6Q0RFRkdISUpTVFVWV1hZWmNkZWZnaGlqc3R1dnd4eXqDhIWGh4iJipKTlJWWl5iZmqKjpKWmp6ipqrKztLW2t7i5usLDxMXGx8jJytLT1NXW19jZ2uHi4%2BTl5ufo6erx8vP09fb3%2BPn6/8QAHwEAAwEBAQEBAQEBAQAAAAAAAAECAwQFBgcICQoL/8QAtREAAgECBAQDBAcFBAQAAQJ3AAECAxEEBSExBhJBUQdhcRMiMoEIFEKRobHBCSMzUvAVYnLRChYkNOEl8RcYGRomJygpKjU2Nzg5OkNERUZHSElKU1RVVldYWVpjZGVmZ2hpanN0dXZ3eHl6goOEhYaHiImKkpOUlZaXmJmaoqOkpaanqKmqsrO0tba3uLm6wsPExcbHyMnK0tPU1dbX2Nna4uPk5ebn6Onq8vP09fb3%2BPn6/9oADAMBAAIRAxEAPwD9/KKKKACiiigAooooAKKKKACiiigAooooAKKKKACiiigAooooAKKKKACiiigAooooAKKKKACiiigAooooAKKKKACiiigAooooAKKKKACiiigAooooAKKKKACiiigAooooAKKKKACiiigAooooAKKKKACiiigAooooAKKKKACiiigAooooAKKKKACiiigAooooAKKKKACiiigAooooAKKKKACiiigAooooAKKKKACiiigAooooAKKKKACiiigAooooAKKKKACiiigAooooAKKKKACiiigAooooAKKKKACiiigAooooAKKKKACiiigAooooAKKKKACiiigAooooAKKKKACiiigAooooAKKKKACvPfjt%2B1J8FP2b5NGsfil4g1Maj4ilnTQNB8OeF9R1zVNR8lVed4bHTbee5kjiVkMkixlI96biu5c%2BhV4N%2B0P8D/j5/wANJ%2BDv2tv2bLLwfrWueH/B2seFNX8KeOdcutLtLywv7mwuxcQXtraXj288U2noCpt3WVJSCUKK1ABpf/BTL9izWLvxPb2nxXv0h8FWsk/jLUrvwXrEFjoIS0iu9l5dy2iwWsrQzRskMjrJIWKorMrKL2n/APBQ/wDZK1HwBrXxFTx/q9vB4f1ay0vVdE1DwNrNrrkV5ebfscC6PNaLqEr3AYGER27eaAxTcFYjy2b9gH4y%2BMf2a/jn8NfGHinwppHin4o/FS38daHc6U1xeWFpeW0OiywQ3IkihkkiN3pRRwoyYHGDuJVaPi79i/8AaV%2BLmr/Ef45fG34S/CjWvFnjWx8KaPp/gKy%2BI2s2Wm6fY6Hcaldw3qa7b6al5DqDXOqTOksVoPJSKNFZiWcgHsviH9vv9mzwv4a8OeI9XvvG3meK0v5NE8P2vwm8SXGuSRWUscV3NJpMWntf28MLzQq8s0CIpmiy37xM%2Bmaz8RPBHhv4e3XxX8T%2BJbbSvDljo76rf6vqrfZYbSySIzPPMZdvlKsYLNvxtAOcYNfGHin9hH9s/WPgX4X8Nay3hfxV470a58RHRfGV/wDHbxNpGr%2BCLW%2BuUktLO11q1sJLzXIYkjhEy3qw/aTbReYCFGPUfjR/wTotfj1%2Bzb4n%2BHHxD%2BOfjW78d%2BMPhfH4Z17xS3jbWho818tpDE2oJoS3y2FuzzQLK3kRRSEPIBIrSM5AOkg/4KUfsZf8K58V/FbWPite6Jo3giysr7xQ/ifwdq%2Bk3NlZXkxhtb37LeWsVxJaSyK6pcxxtC3luQ%2BEYjj/AI3f8FZP2d/hn8ENU%2BMfgPRfFXiqbQfiD4X8L674Y/4QXXbHU7A6zqVrax3T2cmnNdeV5Fw88DeT5d48aW8MhknjB8r1T/gmJ8ZPHfwq8faR4i8DeG9G8Y%2BI9D0fR7DxDqv7RfjPxut3aWusW%2BoTRyf27AfsEZ8likUSzHe%2BGkxknv8A9qH9gz40/GD4g/F/4g%2BBfEPheOTxfB8LbzwlZ6tfXMSvf%2BE/EdzrUsN40dvJ5ENwGt4VljEzrl2MfyKrgHqFh/wUE/Zb1H4m2XwZh8T%2BJo/Fd5oun6xLoF38N9egudO0%2B9adILu/SSyU6dDut5VeS68pYiFEhQum6j4a/wCCmH7FPi3wZ4s%2BIWkfGC4TR/Bfgi68Zaxe6h4S1W0Fx4et0Z5tWsVntUbVLNVQ4nsxPGxZArEugbB0P9kP4ofEP4mfG74g/G9fD2gxfGj4O%2BHfCF1Y%2BE9duNRl0u4tE11Ltlnns7XzYwNViMT7FZikm6OPA3fN37Y37Kn7UOj/ALDHxS%2BJv7TF34AtIfhD%2BxT8QfBHhePwFqF5cNrzXukWxn1G6W5toBYqE0i3CWcbXAVppCZ22oKAPrPw9/wUl/Yy8TaHrHiPT/i1dQWehppU1/JqnhLVbJmtNSu1s7HUIUuLVGubCWdgovoQ9qoDO0qorMPT9E%2BLvw88R/FLX/gvofiH7T4k8LaXp%2Boa/YR2k22zgvmuBa7pinlF3%2ByzHy1cyKoRmVVkjLfJOofsz%2BIPFegeKfjb/wAFIvF/wz8J%2BBbf9nu5%2BHUlx4f8QTLay6beyQyXmq3k17BbpYOTBbCG2QzCAmT/AEiQsuOw/wCCPngP4u2f7I9r8f8A9pDUDf8AxJ%2BL15H4n8V6g9nJbtJCLSCy01fKl%2BeH/iX2lpI0TYKSzTZAYtkA%2BqqKKKACiiigAooooAKKKKACiiigAooooAKKKKACiiigAooooAKKKKACiiigAooooAKKKKACiiigAooooAKKKKACiiigAooooAK8R0j/AIKMfse6ld69Z6n8Urzw83hzw5c%2BINQk8a%2BEdV0GObSbd0jnv7WTUrWBb63R5IlaW2MqAyxjOXXPtN7FczWcsNndCCZ4mWKYx7/LYjhtp64POO9fmJq//BHL9uX4v6t4X1z43fHHQ31vw14P1Cz1DxRqHxW8TeJx4h1v7ZpV9a6idLvoobLSbaS50xfPsLIBRHJtWWQKgUA%2B2X/b/wD2YbX4aN8WNY8QeKtK0ttcg0axs9c%2BGWv2GqanfzIZIYLLTbixS9v2kQM6/Z4ZAyo7AkIxHReA/wBqz4H/ABH1%2By8J%2BHPEOqQ6vf8AhSfxJDpGteFdS0y7TTYbv7JLLLDeW8UkDrP8hhkVZe%2BzbzXk3xO%2BDn7bvxib4e/G3XPBvwq0P4h/Cjx1NrHh/wAM2vjjUr/Rdcs7jSbvTLmO4vn0qGaxmKXskkbpa3AjMQU%2BYJGxV%2BJPwG/bg1/4y%2BHf2mvA%2BjfCu08WX3ww1XwX4x0LUvFepSWGkLcX8N1a39lcJpwk1AxCN1kt5YrQSlxiWLHIB3Gk/wDBRv8AZA8R694F8LeFfiNqus6n8SfBuleLfBunaJ4H1m9nvND1F9lrqMiQWjNa2%2B7HmSTiNbcMpm8oMCdj4a/tufs3fFf4jXPwn8M%2BL9Ws9ft9LudThsvE/gzVtEW/sbeRI57uyl1G1gjv4I3liDy2zSIvmISQGUnyj9hT9hL4sfsw6/8ADjWfHniDw1dnwd%2Byl4R%2BGN%2B%2BkXM8rNq2lvM1zNF5kEe61bemxmKu235o0wK8a%2BGn/BKv9sbxP8UfC/ib9qb4w2eqRaf4A8V%2BF/GniaD4v%2BJNavPEUur2KW39p2umX0Men6EcqWNpaKUXKgTOI1WgD6l8J/8ABRf9kfxrosfirQfHeuf2Hcarpen6f4lvfh/rdrpWoy6lex2VlJaX09mlteQS3M0UYuIJHhBlQs4VgT6X4W%2BLvw88a/EDxT8LvC/iH7XrnguSzj8T2iWkwWxkuoPtEEZlZBG7tCVkKIzMiyRlgokTd8w%2BOPAnxF8K/wDBPbxp8CP%2BChnif4VeCPAWg/DSLQLb4meHfFt2GadI0trXUntLqzgTTZlmFvJDBHcXTGcoiOTtDdr/AMEr/h98WPDf7ImlfFX9oqwS3%2BJ3xYvpfHXxEhW3aL7Pf36xmG02N8yfZbGOys9pyQLXBoA%2BjaKKKACiiigAooooAKKKKACiiigAooooAKKKKACiiigAooooAKKKKACiiigAooooAKKKKACiiigAooooAKKKKACiiigAooooAx/iB8RPh/8ACbwdf/ET4p%2BOtG8M%2BH9LiEmp674g1OKys7RCwUNLNMypGCzKMsQMkDvVe9%2BLPwr034aL8aNR%2BJfh%2B38HNpUepr4sn1mBNMNjIiul0Lov5XksjKwk3bSGBBwaq/G7xF4e8JfCfXfEXinQtU1OytbItJZaL4au9YupHLAR%2BVZ2cM08zBypxHGxXG7gKSPnn9kr476Z8J/%2BCXXw%2Bu/EvwD%2BKWqaz4A%2BC2ipqvgX/hUutRatc39hZW9u9lBbXVpGZZ/tKYQDggeaD5amQAH0p8Ofif8ADT4xeErfx98I/iHoXinQrtnW01rw5q0N9aTFGKuEmhZkYqwKnB4IINeZ/Hrx/wDtF/8ADRfgX4EfAXxn4K8Ppr/grxLr2r6n4v8ABd3rRJ0670O3hhhjt9SsfLDf2pKzMzPny0AC8k5H/BO6wur34XeKfin4ns9XtPFfj/x1ceIfGmn6l4K1XQoLDUHs7O3S0tINUtbaeeCG1trSI3XlhbiaOeXCM7xpk63cfFLR/wDgqp8PrHx14x8O6hoeq/Bnx8/hax0rwzPZ3dgsereDzIlzcSXsyXhYMCGSG327DkNuG1NpblwhKo7R7N/dqzr/APhB/wDgoX/0dB8Gf/DD6t/81FH/AAg//BQv/o6D4M/%2BGH1b/wCaivZqKZB4z/wg/wDwUL/6Og%2BDP/hh9W/%2Baij/AIQf/goX/wBHQfBn/wAMPq3/AM1FezUUAeM/8IP/AMFC/wDo6D4M/wDhh9W/%2Baij/hB/%2BChf/R0HwZ/8MPq3/wA1FezUUAeM/wDCD/8ABQv/AKOg%2BDP/AIYfVv8A5qKP%2BEH/AOChf/R0HwZ/8MPq3/zUV7NRQB4z/wAIP/wUL/6Og%2BDP/hh9W/8Amoo/4Qf/AIKF/wDR0HwZ/wDDD6t/81FezUUAeM/8IP8A8FC/%2BjoPgz/4YfVv/moo/wCEH/4KF/8AR0HwZ/8ADD6t/wDNRXs1FAHjP/CD/wDBQv8A6Og%2BDP8A4YfVv/moo/4Qf/goX/0dB8Gf/DD6t/8ANRXs1effEDx/8DPhoNT8YfH3xx4U8P6edai0%2By1LxhqltaQeYbSOVYI5LllXeQJX2g5IVjjg4mc4U4uU2kl1bsvvdkbYfD4jF140aEJTnJ2UYpyk32UYqUm9Hok3psc1/wAIP/wUL/6Og%2BDP/hh9W/8Amoo/4Qf/AIKF/wDR0HwZ/wDDD6t/81FV/wDhr/8A4Jwf9HRfBH/wttH/APjtH/DX/wDwTg/6Oi%2BCP/hbaP8A/Ha5vr%2BA/wCf0P8AwOH/AMke1/qlxZ/0LsR/4T1//lBY/wCEH/4KF/8AR0HwZ/8ADD6t/wDNRR/wg/8AwUL/AOjoPgz/AOGH1b/5qK7D4aeJP2cvjRoUvin4O6/4J8WaZb3bWs%2Bo%2BGrqzv4I51VXaJpICyhwroxUnIDqcYIryf4g/ts/snfCH41/ET4RfFjwPqGh2nw08Dad4p8Q%2BLZPh/f3GlRWVyL5mLXMFo8UflpZE5Z/3jO0ce54ZVXphOFSKlBpp9U7r71dHi4jD4jCV5Ua8JQnF2cZJxkn2cZKMk9Vo0nrsdR/wg//AAUL/wCjoPgz/wCGH1b/AOaij/hB/wDgoX/0dB8Gf/DD6t/81FRN%2B03%2ByhbTeG49Y8J69pUPiu4ht9Iv9c%2BD%2Bt2Fos0169lbx3NzcWCQ2TzXChIluHiaXzYWQMs0TPzOu/t0/sU%2BArQn4kzWNvdte%2BK1htfDfgfVtYIs/D%2BqnTdRupRb6bvhSCVohMzL5SF2KSzRKJ2oxOr/AOEH/wCChf8A0dB8Gf8Aww%2Brf/NRR/wg/wDwUL/6Og%2BDP/hh9W/%2Baiu%2B0CP4MeK7ie08Lx%2BGNRmtoYJrmGxW3leGOdPMhd1XJUSJ8yk43LyMivD/ANn79qrRPjR8UtG8L65%2Bzdomh%2BGPHOm67qHwz8SQ6ql3Pq1vpV7DazG7tTaRixaZJ47mBUluN0IfzDC6iMgHZf8ACD/8FC/%2BjoPgz/4YfVv/AJqKP%2BEH/wCChf8A0dB8Gf8Aww%2Brf/NRXG%2BLP2qtE8NfHjUfA9v%2Bzdodz4E8PfETRfAfifxq2qpHeWmv6raWdxaJFp/2QrPa51LTYXnNyjLJdECJxE7Vt/CH4r%2BLfiTr/wAYPAWsfss%2BEtL8SfDXU47XQtPtvE63MGuifT0vLRppzYR/YmfzER1CTiPJIaTGKANf/hB/%2BChf/R0HwZ/8MPq3/wA1FH/CD/8ABQv/AKOg%2BDP/AIYfVv8A5qK4rw5%2B0tP4i/Ywtv2qdQ%2BCfwl8K3ltq%2Bo2Xiey8dfEj%2By9C0lbLUrrT5Zjq50py6tLbps320W7zgCVIw3F6X/wUL8MeKfFnwf8J6H8CvhfoM/xW8EDxDbj4kfEZNDcn7ZDbC105F0yc6nJIJfOix5PmR7Gwu/5QD2n/hB/%2BChf/R0HwZ/8MPq3/wA1FH/CD/8ABQv/AKOg%2BDP/AIYfVv8A5qK8uvP28PhxYftsy/si3XwR8Hx/Z/EjaRcB/EsQ8Rxwrop1RtaOjfY/%2BQMMfZvt32n/AF3y%2BXnisjRP%2BCi/grTPhncfFL4xfstaR4bsta%2BHWn%2BNfhrb2uuwXUuvadfXkFla292ZbWCPTbzz73TlkTfPDGL1T57eW%2BAD2j/hB/8AgoX/ANHQfBn/AMMPq3/zUUf8IP8A8FC/%2BjoPgz/4YfVv/morzaD9rXUNa8LeBYPAnwO%2BC3inxP8AEHV9Vg0N/DPxaW88M/ZdPtTcXEjawmkb2n4KC3S0blXYuFRmC6j%2B2TZ3fwP8Afta%2BA/2ZPCerfCrxlp3hue71W48Uxwa1bT6vew2aW1tYJYyw3jxSXEO7/S4vMJZYg5C7gD0j/hB/wDgoX/0dB8Gf/DD6t/81FH/AAg//BQv/o6D4M/%2BGH1b/wCaiuP%2BA/7UHhv44/tS%2BP8A9nu1%2BGvwmsYPAWvXWmXUCfEFJ/E06xQ28i3baMNOURWztcBBIbo8r0OcDz34Ef8ABRfw58Zf2JrT9sUfA34RznW28J2mh%2BGPBvxTj1h7LUdeurS1hs9ZnOlwDSngmvrfzsJcMqrMQhZFSQA9y/4Qf/goX/0dB8Gf/DD6t/8ANRR/wg//AAUL/wCjoPgz/wCGH1b/AOaivK/G/wC3r8P/AAD%2BzH45%2BK%2Bpfs9eHtS8f%2BBfFOp%2BFrr4e6BrcVzb32tWVp9vlih1BrRD9nSxzdyzNbK8UcUwMLSRhGpfFj/goT4D%2BGXxs8HfB/8A4Z98IST%2BKNL8L3kNjqfimKz1nVf7ZvWtSuiWBsn/ALX%2BxBfOuj51v5URDHNAHsP/AAg//BQv/o6D4M/%2BGH1b/wCaij/hB/8AgoX/ANHQfBn/AMMPq3/zUV5jaft2/DvR9fvfFHxN/Z70XQvhjLP4wt/DnjaHUUuru8m8NNc/2h9osPsiC2jkSxv5bd0nnMkdrl1hMiqeg%2BA/xz8cftHfCbVfH/wt%2BA/wO1HVLW9t4rTQ7H4wi9S13rvmt9TuLTR5hY30KlA1vGtwhZiBNgBmAOu/4Qf/AIKF/wDR0HwZ/wDDD6t/81FUPA/jj9qzwd%2B1Z4c%2BCPxu%2BI/w98TaN4m%2BHviHXIZvCvw8vtFurS602%2B0S3RWe41e%2BSWN01SUlQiMGiQhsZBT9l34qj9pT9kqz/aL1j4M6F4QvNXttSudHt9D1X%2B0IpLSG5njs7%2BC6a0tXaO5hiiukzEpCToDzmtDxx/ykL%2BF//ZGfHn/p28IUAezUUUUAFcL%2B0T%2B0j8If2U/hrP8AF74463qWm%2BHrWXZd32m%2BG7/VGtwI3kaSSKxgmkSJUjdnlZRGgUlmUV3VeFf8FLfDPxU%2BIP7DXxL%2BE/wW%2BDus%2BN/EnjLwhqOg6XpGi6hptq0Ut1ayxrPLJqN3bRLCrFQ212k%2BYbUbnAB6d8XvjH8PPgT4Kk%2BIHxN1mez05Lu3tIlstMub66urmeVYYLe3tbWOSe5mkkdVWKJHdieAa8/8Uf8ABQX9kjwb4G0D4ka98ULhdI8SWd/eWM1r4X1O4ltrWxlWG/ub2GG2aXToLSV1iuZbtYUtpGCTNG3FYP7RFp8aPi/4O8B/E3wt%2Bzf4ot9X%2BH3xA0rxRN4I1fVtFS91WA211a3NrDJFqElqLiBLtpQJZ44nkhVVlwd48Bn/AGWP2uPA3hvXvHGg/s8S%2BIdX%2BKXhD4iaXfeFY/EemRHwlda94gm1TTzdyTXKxS24iuWW8a0a4dZYgYY7hW3AA/QJHSRBJG4ZWGVYHII9a%2BcvhN4q/bv%2BOuj69478L/G/4SaBpdv8QvFWh6XpV/8AB/VL%2B4itdL16/wBMhaW4TxFAssjx2auzLFGu5yAoAFewaP8ADPWNG%2BCOm/CPSPiPquk3uneHrXTIvFGkwWrXkTQxJH58aXcM8JY7M4kjkX5jweteSfsOaPf6J%2Byle%2BHNX8UX%2BtzxfGnxxaXur6kkCXOoZ8eatHJLKLaKKIPICxYRxxpliFVRgAA6P/hB/wDgoX/0dB8Gf/DD6t/81FH/AAg//BQv/o6D4M/%2BGH1b/wCain6/%2B1B/wT98Ka7e%2BFvFP7RHwc03U9Nu5LXUdO1DxdpUM9rPGxSSKSN5QyOrAqysAQQQRkVU/wCGv/8AgnB/0dF8Ef8AwttH/wDjtcrx2BTs6sP/AAOP/wAke9DhXimpBThl%2BIaaTTVCu009U01QaaaaaabTTTTaaZY/4Qf/AIKF/wDR0HwZ/wDDD6t/81FH/CD/APBQv/o6D4M/%2BGH1b/5qKfoH7UH/AAT98V67ZeFvC37RHwc1LU9Su47XTtO0/wAW6VNPdTyMEjijjSUs7sxCqqgkkgAZNXv2q/iX8Kv2UP2b/Gv7SXin4XLq2n%2BCvD1xqt1pukaIJri5WJc7EWONiMnGXI2ouXcqqsw1pV6FdN05qVuzT/Js8/HZXmeVzjDG4epScldKpCdNtbXSnCDavpdJq%2Bl76Gd/wg//AAUL/wCjoPgz/wCGH1b/AOaij/hB/wDgoX/0dB8Gf/DD6t/81FUNJ/az/Y/1zxvL8NdL8Na/L4htvDi69qGi/wDCmtdW60%2BweO7eKW6jbTw1q0v2G5WKOYJJM8YjjV3dFZ2mftOfsweJpPDv/CK6ZYIdZ8dTeFb2w8S%2BEtR0fUbG%2Bj0a61cwtZXNgJklNrbrMq3C28bwyeYsrMYo5tThLv8Awg//AAUL/wCjoPgz/wCGH1b/AOaij/hB/wDgoX/0dB8Gf/DD6t/81FUPgp%2B1/wDsL/tBaNN4j%2BG3ibS/7Oi8P6frqX/iLwjd6LBc6XfMy2t7BJqNtAtzbyOpQSxF1D4QkMQKu/tG/ERvhXr/AIP%2BGnwg%2BAHhrxd4z8bXt4mlaXrWqrpFjBa2dq1xc3M90lndOgH7mJVWFy0lxHnYgd1AHf8ACD/8FC/%2BjoPgz/4YfVv/AJqKP%2BEH/wCChf8A0dB8Gf8Aww%2Brf/NRXPa/%2B1J8LYP2LfDX7X/hP4KWV4PF48O2%2BjeHdUMFn5F/rF/aafBBd3IjkW3jiubxFmlVZNqxyFFkO1W4q1/bcXxFfWXws8E/szeArz4lJ4u8QaB4i0a%2B8crbaFp0%2Bj2tvd3OzVBpryTs0F5aOkZtI2%2BabzPKEDmgD1b/AIQf/goX/wBHQfBn/wAMPq3/AM1FH/CD/wDBQv8A6Og%2BDP8A4YfVv/morwLXv%2BCqHwUfXPhoPAXwK8LX2l/Enwd4U8RaJBrviWDTta1mHXLxrZbbRbAWky6vcWYUS3aCeEQpLEdzB8j2mz%2BK/iHQv2oNH%2BAHxV/Zo8H6Xp3i%2BHW5/Bet6H4mGo3c8GnNDulvrJ7CAWaSRzxlWjnuQrukblWdcgGp/wAIP/wUL/6Og%2BDP/hh9W/8Amoo/4Qf/AIKF/wDR0HwZ/wDDD6t/81Fek22kaXofjG1t9F06C0juNMuWnitogiuySQBSQuASA7c%2B9btAHjP/AAg//BQv/o6D4M/%2BGH1b/wCaij/hB/8AgoX/ANHQfBn/AMMPq3/zUV7NRQB4z/wg/wDwUL/6Og%2BDP/hh9W/%2Baij/AIQf/goX/wBHQfBn/wAMPq3/AM1FezUUAeM/8IP/AMFC/wDo6D4M/wDhh9W/%2Baij/hB/%2BChf/R0HwZ/8MPq3/wA1FezUUAeM/wDCD/8ABQv/AKOg%2BDP/AIYfVv8A5qKP%2BEH/AOChf/R0HwZ/8MPq3/zUV7NRQB4z/wAIP/wUL/6Og%2BDP/hh9W/8Amoo/4Qf/AIKF/wDR0HwZ/wDDD6t/81FezUUAeM/8IP8A8FC/%2BjoPgz/4YfVv/moo/wCEH/4KF/8AR0HwZ/8ADD6t/wDNRXs1FAHjP/CD/wDBQv8A6Og%2BDP8A4YfVv/moo/4Qf/goX/0dB8Gf/DD6t/8ANRXs1FAHjP8Awg//AAUL/wCjoPgz/wCGH1b/AOaij/hB/wDgoX/0dB8Gf/DD6t/81FezUUAeM/8ACD/8FC/%2BjoPgz/4YfVv/AJqKP%2BEH/wCChf8A0dB8Gf8Aww%2Brf/NRXs1IzKil3YAAZJJ4AoA8a/4Qf/goX/0dB8Gf/DD6t/8ANRR/wg//AAUL/wCjoPgz/wCGH1b/AOaitv4jftmfsk/CPzE%2BJX7S/gbRpo87rS98UWqznHUCIPvY%2BwU147qv/BaT9gX7c%2Bj/AA/8feIfG9/GcNY%2BDfBWo3jk9gGMKI2fZjXBXzTLMNLlq1oJ9uZX%2B5Nv8D6zLOA%2BN86p%2B0wOWYipD%2BZUanL688owhbz57eZ6P/wg/wDwUL/6Og%2BDP/hh9W/%2Baij/AIQf/goX/wBHQfBn/wAMPq3/AM1FeYD/AIKf/EbxR/ySn/gmd%2B0Dqit/qbjXfC0OkQy%2B4eaVvl98Uv8Aw15/wU%2B8Q/8AIqf8EoRYxN9y78Q/GXS4z%2BMKR7x%2BdYf21gH8HNL/AA06j/8AbEep/wAQx4tp/wC8qhR/6%2B4vB039zxM38rX8j07/AIQf/goX/wBHQfBn/wAMPq3/AM1FW/2VviN8afGGsfFDwJ8dNf8AC%2Brap4B%2BIUWh2eq%2BE/DVzpNvdWsug6Pqas9vcXt4yyLJqMqFhLtKxodqnOfJv%2BFyf8Fjbn54f2M/hTbA8hLj4iSOV9iUTB/Cuh/4J2ar8Ztc1z486p%2B0F4T0bQ/F8vxmg/tfS/D9%2B1zaQY8I%2BGxF5crAFswiNjnozMO1dGGx9PFVHGMJrS95QcV976%2BR4%2Bd8KYvIsKq9XFYaom%2BXlo4inWktG7uMFdR0s5XtdpdT6ToooruPlwooooAKKKKACiiigAooooAKKKKACiiigAooooAKKKKACiiigAooooAK%2BX/2gdY/sz/grL%2BzVZb8f2h8L/iZb49cS%2BF5cf8AkKvqCvjb9sTVzpf/AAWN/YyhLYS98M/FC3c/9uGjOB%2BaCubGT9nR5vOP4yiv1Pc4dw/1vM/Zf9O6z/8AAaFaX/tp9k0UUV0nhhRRRQAUUUUAFFFFABRRRQAUUUUAFcT4r%2BEXwn%2BNEGr%2BFvjF8MPDvizTLfxBFdQad4m0WC/gjnWyhRZVjnRlDhXdQwGQHYZwTXbV5P8AHf8Aat%2BAX7H3hrUfiX%2B0X49/4R3RL7xXDplre/2XdXe%2B6fT0lWPZaxSOMpDKdxUL8uM5IBxxE8PToSlXaUEtea1red9Leo1j5ZU/rcazpOnrzqTg49LqSlFx33UlvvqJ/wAMD/sK/wDRlnwl/wDDc6Z/8Yo/4YH/AGFf%2BjLPhL/4bnTP/jFeSf8AD83/AIJZf9HRf%2BWTrn/yFR/w/N/4JZf9HRf%2BWTrn/wAhV4v17hX/AJ%2BUP/Kf%2BRp/xFLE/wDQ9n/4WVf/AJoPpL4afCL4T/BfQpfC3wd%2BGHh3wnplxdtdT6d4a0WCwgknZVRpWjgRVLlURSxGSEUZwBXiv7Sv7C/iv48eLviVqfh/4z6boWj/ABV%2BF9h4Q8S6de%2BEJL64hayl1OS2u7adb2FUGdTkEkTxSbxEm14yWJ9J/Zo/at%2BAX7YPgS7%2BJf7Onj3/AISLRLHV5NMur3%2By7q02XSRRStHsuoo3OEmiO4KV%2BbGcggY/xK/bL%2BGHwr8WeJfAviXQdefWPDkvhiOPT7W1gaTVv7fv307T2tN0yhwbuKaJy5j2eS7H5AGPtYeeHqUIyoNODWnLa1vK2lvQzePlmr%2BtyrOq6mvO5Obl0u5OUnLbdye2%2Bh5V%2B19/wTHl/as%2BPVv8Zbn4peHbOKGXwxNbx6/8O01jUtHk0fVjqBGk3r3cY01LvIiuNsLu4UEOMBRseHf%2BCdi6Druq62fi%2BJv7T0H4mab5f/CPbfK/4S7xFDrO/P2g5%2ByeV5G3jz92/MWNh5r49f8ABWP4d%2BDvDfx78DfDTSreP4l/CP4S%2BLfF%2Bk6ZretaTqFpqB0WH5zNDpepTXVsnnS2uYbpbSZ0mOwZSTy%2B81b9vDQfD/xH8SfCnTfh14r8a%2BJdP%2BIFz4f0vwz4T0azgujDbaJpmqXVyZbzUEhlhiXUYQZWaB2eeOFIHZRJLsI9U%2BDPw%2B8R/CzwJpHw71PxTZapYaD4f07TNNkg0l7aY/Z7ZYZJJWM8ivvZAyqqpsB2kyferxz4O/sK%2BOfg/wCNbPxBZfHTTNQ0zwVoXiLTfhFo114MdRoQ1a7iuWbUJFvgdTFuIIreJYxZnyPMDs8jCZey/Yg/aR1T9p79mX4efF3xZo5s9c8W%2BAdN8RajFY6JeW9hGbpCdkUkwZQwKtmEyNKgKlwAyk%2Bd%2BCf2xvjZr3x50GXVtN8LD4beMfjF4k%2BG2g6fb6bcrrVnf6PaapK%2Boz3TXJhlhln0S/iFutujIstu5lf51ABueKP2G/EHiP46X/jdfjJbQeB/EHxC0Tx54p8Gf8IwWu7zxBpVpZ29rJDf/agtvak6bpszwG3kdpLUkTKJXFX/AIS/s4ftL/Df42fFv4uap%2B0F4F1KH4jbLjRtMt/hde27aNeW9rFaWUk0p1qQXkSQxDzYlS3aVyWSSAfJXKftNftjfG34V/FPxi/w80zws3g34TaL4b1Px3bazptzNqOsR6pfXEU0djNHcxx2jW1rb%2BeGkiuBPJKIsQhTIee%2BEv7eXx4%2BIf7Zd5%2Bz/faT4cttMn8ReLdHsbSbwfqdsLQaS5S1uo9bkuDYa1JOArzWFnGtxaCSRZSDay5AO7%2BAn7Mn7X/wB/Z%2BT4R6B%2B0/8Ob3WofF2o6rBrl18HL4WhtL66urye1e0Gv72kFzdEpMtwoWOMI0bkmSsTxT/wAE%2BviRrP7Ktv8AsX6P%2B0FoVv4G1Tw3c6T42nv/AIeNcatdi6uZp7mTTZ01CODTAPPdbdGt7kW2yIoSYxWKv7av7RnhX9k3XfiN8R7/AOH8PibQvjRc%2BCdX8YxeHr238O6JYx6uLJtYurV755vJijOXBuo03EM0kKbitO3/AG5/jd48/Yy8QftR/Dj4sfCqyi%2BHWpeJdP8AFOq6n4P1G807xTNp9x5Vi2lrFqUUltHersKEteHfcRpELjh3AO31D9gXX9Y%2BOsvjbWPjPY3PgmX4nnx83hqXwiTq51U6V/Z3kf2r9r2/YthJ8r7L5uz9z53lfLXJaf8A8EqZtZ%2BFtx8K/i78drfxLaaH8PdM8GfDSVfBwg/sXT9Pvre%2Btpb9HupV1S5M9jp3nMBbRypZ4EUZkdj03xv/AGpv2gvhR8QfhTcNpulW%2BmfELWtB0zUPBN/8PdUafTnvZ4obtpfEiXQ021lg80tHazQCS6eHyIS0kybfH4/%2BCrvxr8M%2BJPiPqHjDwRoV7pvhTwl491ax8PxeGNS0t4p9B1BLS0gh1m4nks9eFyr7pmsIl%2BwthJsNhSAetat%2BwL49134d%2BLdH8TePvhX4j8R%2BPviMvi3xVc%2BMPgkdU0OOePS7XTYvsGly6oDbTJFZW8nny3FwTIZiVIkVY4E/4J8fEzwl4u%2BEVp8Lfj94cTwD8HfC9pYeHvBXjP4e3GqtJqkYaKXW3uLbVLNGvGgJjjLwOkDSzyIpaQbOZ%2BJf7YH7anwti8QfCTVLDwprXjbw34s8MrqXibwf8JNe1mxj0DVoLpnuf7Fs7%2BS9eWCaxuYyUuCrJ5chVNxRe28cftP/ABisvAfwQ%2BK/wp%2BJvw88VeGfGfjXS9B8Y6jF4Qv4G1EXlytv5lhG2oE6c8TrKHiuPtLqy%2BWwVlY0AdV4l/Zn%2BLfj/wDaE8MfF/x78ZfDT6P4A1rVNW8DaLongGW0vYbm80%2B608C%2BvZNQmF3CkN3KxiigthJKkLsf3QBwbD9jT4sarq/j74ifFL4q/DrxF4r8Z%2BC9M8KxQH4Ryx%2BHI9Ns7i6nCXmmS6rLLfs5vJkO67jRU2hEX5zJY%2BNXxV/am8Cftd/DH4V%2BCfHPw/v/AA34/wBfu2vfDt34Cvv7V0zQ7DTmmvr3%2B0F1YRO32trO3T/QwFOoRBg2ws2X4L%2BKH7bet/tT%2BPf2ez8SvhXrFl4Y%2BHVpqkes2nw21Kx/s3WdQu5ksbecNrU4u0S2s7maaNPIc%2BdakOgfkA5q4/4I9fAXXfgHq3w18Razdaf4p1SHxA6eJvh7d6l4VsLGfVrW2tJEh0zS7%2BJGso4LGwiW0nlmBS0Ad2aSRmta7/wTK1qeWLwt4Z/aDaHwjqOi%2BEdP8V2HiDQbjV9XnHh%2B6NzbvYapcX%2B%2BzMjH5vOjuijEvG0bsWrL8cftgftdaP8AsZftBfF7wbrvwy1PxL8D9R1oWPiw%2BENQ/sHxPb6Zo8V/dJFZLqXnRSx3TT6c7C8lRZbSU8sGhT1f9pb4y/HP4WeMPhFqXgS78J/8I14s8dWPh/xdY6vot1PfSC7RyklnPHdRx25QxsT5kU27IAC9aAOJ/wCHaVn4h1XUvB3xL%2BLiax8Mg/jKbw14NtfDptb2wn8TG5/tAz35uZFuUjS/v4rdFt4TGlzh2mMatVrwR%2BwZ8UvDPgP4kWV5%2B0fpcHi7xv8AC3TPAWi%2BJvC/gH%2BzLfQdP06HUI7O6Fmb2Xz7xW1KdjJ5scf7uFUijVGD7Hxa%2BKv7U3gn9sn4Z/CDwn458Aaj4Z8d6nqV1qPh%2BfwFfLqul6Dp9hvurz%2B0F1byZH%2B3T6dbr/oaqBfrnJTL87%2BwL%2B3Zf/ti6yfEV58QPDcGneIdBn1zwl4Jh8A6tYajFpqXSQrcf2pdz/ZdWCLJClwLOBUtp51iZ2IBcA95g8C%2BF/hf8DU%2BGfgfSksNF8O%2BFBpmj2MX3be1t7byoox7KiKPwrhPHH/KQv4X/wDZGfHn/p28IV6l45/5EnWP%2BwVcf%2Bi2ry3xx/ykL%2BF//ZGfHn/p28IUAezUUUUAFFFFABRRRQAV4L%2Bx/wD8m9av/wBl78c/%2BrA1Wveq8F/Y/wD%2BTetX/wCy9%2BOf/VgarQB1mv8A7E37GXivXb3xT4p/ZH%2BGOpanqV3JdajqOoeAdOmnup5GLySySPCWd2YlmZiSSSScmqn/AAwP%2Bwr/ANGWfCX/AMNzpn/xivO/H/8AwWU/4JufC/x3rfw08dftHfYdb8O6vc6ZrFl/wiGsS/Z7q3laKWPfHaMj7XRhuVipxkEjmsj/AIfm/wDBLL/o6L/yydc/%2BQq8GeN4YU2pTo3u739ne/W%2Bm973NP8AiJuJofulnk48ulvrdVWtpa31hWta1rK1rWVrL2bQP2Jv2MvCmu2Xinwt%2ByP8MdN1PTbuO607UdP8A6dDPazxsHjljkSEMjqwDKykEEAg5Fa37TXwTsv2k/2dPHf7Peoa/LpMPjfwjqGhvqsEAlez%2B1W7wiYISA5QuG2kgNtxkZzXjXgH/gsp/wAE3Pih470X4aeBf2jvt2t%2BItXttM0ey/4RDWIvtF1cSrFFHvktFRNzuo3MwUZySBzXuPx1%2BMPhz9n34PeI/jf4y0zUbrRvCulS6nrKaVCkk8VnEN08wV3QMscYeVhnO2NtoZsKfQwNbLa0JPByg0nryctr%2BfKlrbuTLiSpxJ%2B9njXieTS7qyq8t9bXlUqWvvZNX3t1PI/EX7E3xC8f6D8XZfHvx9tYvEnxb%2BHem%2BGb7WvCfhWbTYdNksxqIW5iikvp5GRxfgNEZgcRNiQeYNnDfBH/AIJTRfCLxFD4mh%2BJPhCw2/FweOX0HwF8L49A0iBh4RvPDhs7a1S8lMIb7ULtpWeRmdGUj5w6ei/Gf/goh8Hfgtpfi7XNU8N6nqFj4K8W2fhvWNRHiDQdKtHv7jTYtRCQ3Gr6lZwybIJ4AwD798wVFfZIU5G1/wCCjuk%2BKfH0d/4JuLS48Ba54M%2BEmu%2BEdVi0KSe8uv8AhMPEGraaVmR7uFY4xFZ2ZVgC8DSTOyXOFgruJOr%2BBv7FHiH4BR%2BBLvwj8XLK5v8AwN8DdK%2BHVvLqHhd2hu/sckDG%2BaNLtWXesLAQhzsLg%2BY23a3WftG/ALxx8VPEHg/4mfB/4n6d4R8Z%2BCb28fStU1rw0%2Br2M9reWrW9zbT2qXVq7g/uZVZZkKyW8ed6F0bzDwb/AMFGj8TP2ivB/gjwh8H/ABNZeAfEfgrxZr9p4s1TQlnbxDDpNxp0Mc%2Blx2VzNOY3%2B1St5U9uk8waBoUIJz6T%2B1J8aPiB8PdG8C%2BFvg4mkQ%2BKPiT43t/Duhah4n0ue4stNzZXmoT3M9rHNbyzbbWwuAsQliJkZAWUZoAp%2BHf2WNY8Bfsu2v7K3gzxT4X1DQ9M8D2GhWP/AAnfgltYjvJ49wu7nUIFvII7uO4TbmBBDscyNvdXVE87s/8AgmvF4b/Z5f4L%2BEb34SPeat4ym8SeI5/E3wPh1HRku3gS3iOmaSL%2BKPTjbwQ20UBeS42pB84lZ2c9DpX7XXxTf9gnxr%2B0e/w7stY8ceBf%2BEr0y%2B0TR4bgWeoanoepX2myzQxgyTrbyyWRnEQMkqxvsy7jJ5P4I/tmfEf49eD/AImaP4K/aa%2BEF1f/AAw1Cyu9Q%2BKWl%2BBr2%2B8M6jo8%2Bnm6Zo7ZNZVklhkSeN5FvZox5ByodmjiAGa1/wAEs1stHtPhj8MPjfHpPgOfwT4S8LeIdI1rwt/aOqSWfh%2B5kntpLG/F1CtjNKZWMjvBcASfvY1jcknv/g3%2By78dfAP7VPjT9ov4i/Hjwn4stvFVxLb6faP8O7q11PQ9GRi1lpNtenVpIFhjYmWVltFa5mdpGK4jWPyjxn%2B07/wUC0z/AIJ5eCP2qdP8Q/C3SvHfijRdMEHg3V/hlqc8epavrN7Db6RZrs1yN7L/AI%2B7VLgMbkowmcEKu2vSvjD8VP2rvAX7Wfwt%2BFPhTx98PNS0Dx9rl0dS0Cf4f3y6np2i2GmtNf3wv11cxMftbWcCA2mFOoRBt%2BwuwB7jd/8AI7af/wBgq8/9GW1alZd3/wAjtp//AGCrz/0ZbVqUAFFFFABRRRQAUVzvxG%2BL/wAJ/g9pB1/4sfEzQPDNiAT9r1/WIbSM49GlZQfoK%2BdPEH/BYj9lS91ebwr%2Bz7oHjv4w6zC2ySw%2BGXg25vVjbtumkEce3uWVmAHNceJzHAYN2rVYxfa%2Br9Iq8n8on0uS8G8V8RwdTLcDVqwW81BqnH/FVnyUo/8Ab1VH1bRXyN/w0D/wVl%2BNPyfB79inwb8M7CXiHWPix4wN3KyH%2BP7HYASRMP7r559qUfsNft2/Fj/SP2jP%2BCm3iiwglHzaL8JdAt9CSAd1S7w0z/VlyK5f7UnV/wB3w9Sfm0oL75tP/wAlPd/1Dw2A1zjN8Jh31jGpLFVP/AMLGcU/J1120Z9V%2BIPEnh3wnpcmueKtfstMsoRmW81C6SGJPq7kAfnXhHxD/wCCrn/BOr4X3b2Pij9rXwpLLHneuhzyaptI6jNkkoz7da5nQP8AgjR%2Bw5FqkfiL4oeG/FHxH1WI5XU/iF4yvdQkJ7lkDpE2fdDXvHw5/Z0%2BAHwgtEsfhV8EfCXhyNMYGieHra2JPqTGgJPueaObPKu0adNeblN/goR/EXsfC3L/AI62Mxkv7kKOFh99SWIq/wDki80fPh/4LP8A7IeufL8JvC/xO8fO3%2Bqj8H/Da/maT/d85IqP%2BHi37T/jEZ%2BDX/BKn4u3wf8A1R8bXVn4dz6bvPaTbX1rRR9UzWfx4q3%2BGnFfjJyYv9YuAcL/ALtkTm%2B9fGV5/fGjToR/FHyWPjX/AMFivFH%2BkaH%2BxL8MPC6N9238S/Ehr2RP95rRAp/Cj7R/wXG1j/Vaf%2BzBo8Z6%2BfLr9xKv02/Ka%2BtKKP7Lm/ixNV/9vJflAP8AXzC0/wCBkmAj60KlT8amKbfzPkv/AIV//wAFp7395dftCfAixJ6x2XhPUJVX6GRs0f8ACj/%2BCwus/udR/bk%2BGujL/wA9tI%2BGf2hx%2BE7gV9aUUf2RSe9aq/8AuJL9Eg/4iLmEfgy/Ax9MFRf/AKVKf4pnyUf2Ef27PGJ8r4u/8FZfGdxbt96HwV4E07QXUegliLt%2BOM0L/wAEaf2YvEriT47/ABO%2BLXxRJOZF8e/Em8nVz9Lcw8e1fWtFH9h5ZL%2BJDn/xynP/ANKk1%2BAf8RS45pf7pilhv%2Bwejh8P9zo0IzXyqI8U%2BHX/AATg/YO%2BFPlv4K/ZN8DxSxY8q6v9Cjvp0PqJbkSOD75r2LSdH0jQbFNL0PS7aytohiO3tIFjjQeyqABVmiu%2BhhcNhlajTjFeSS/JI%2BUzPPc8zup7TMcVVry71KlSp/6XOVvkkFFFFbnlBXjP7L//ACW/9o7/ALLNY/8AqFeF69mrxn9l/wD5Lf8AtHf9lmsf/UK8L0AezUUUUAFFFFABRRRQAUUUUAFFFFABRRRQAUUUUAFFFFABRRRQAUUUUAFFct8bfBFj8RvhRrvg3Utf17S4LuxJe%2B8M6/daXfR7CJB5V1aSRzQklApaN1YqWGRmvmZ/i98T9N/4Io/D/wCK6fEXVofEOrfCPwX/AG94zmvmkv7WK%2Bj06HUdUa4kJbzo4J7i4MzEkMm8ngmgD7Cr4T/4KNan/Yn/AAVl/Yg1PdjN144tc/8AXaLRYsf%2BPV7j%2BxRcatofjX41fBuDxjr2veG/AnxMt9N8LXniXxDdateW0M3h/SL%2Beze9vJJbi5EdzdzsGlkdkEwiziNVHyX/AMFTviN4lm/4Kmfsc2OrfCTxFoNnpHxA1K0sfEGqXOnPaa0txf6BGz2y213LOirwG%2B0RQH512hvmx5uby5MvnLs4/wDpdM%2B28O6H1rjDD0f54119%2BFxf%2BR%2Bl9FFFekfEhRRRQAUUUUAFFFFABRRRQAUUUUAFZXh//kLa5/2FE/8ASS3rVrPvfDGkX929/ILmKWQASPa380G/AwCwjdQxA4yecUAaFFZf/CH6T/z96r/4PLv/AOO0f8IfpP8Az96r/wCDy7/%2BO0AaleU/FX9jz4VfGD9o34e/tOeKL/WYtc%2BHIvP7P0%2Bxu40sNUM0ZWI30TRs0/2Zmklg2unlySM3zcY9C/4Q/Sf%2BfvVf/B5d/wDx2j/hD9J/5%2B9V/wDB5d//AB2gD5q1D/gkl8ENY0vxD4Z1j40fEm50PW/h74z8GadoT6lpq22g6X4nmim1L7JssRI8wkhQxzXL3DLyHMgwB2vir9gnwDrPj7Vfiz4S%2BLHjfwl4s1Txnc%2BIj4i8O3dgZ7ZrnSbDSrmyjS6s5ojaywabaOyvG8iyxh0kQhQvsH/CH6T/AM/eq/8Ag8u//jtH/CH6T/z96r/4PLv/AOO0Acn%2Bzl%2Bzx4f/AGYvhX4W%2BCvgPxr4gvvDfhDwnZaDpFjrc1tM3l2wZVuZJUgSSSd1Kq5LeWRGpVFYszcvoH7D3w68O/HNfjVZ%2BPfFclvaeJNR8SaJ4KmurQ6NpGu39rJa3mqW6i2Fz58sVxdgpJO8KteXDLErSE16p/wh%2Bk/8/eq/%2BDy7/wDjtH/CH6T/AM/eq/8Ag8u//jtAHkPxI/YP8CfFXxpZ%2BNfFvxZ8as82laJp/jfT7afT4rXxrHpN293ZHUkWzypWeWZn%2Bxm1WVZWikDRBY1XwT%2Bwb8P/AAL8U7b4j6d8U/GtzY6R4m17xH4V8H3t1YtpegaxrDXTX97bbbRbl3c319tS4nmijF3IEjUbAvrv/CH6T/z96r/4PLv/AOO0f8IfpP8Az96r/wCDy7/%2BO0AePfB79ijxF8FPAHjHwR4a/bR%2BK13c%2BMfEb663iLUbPwwb3Sr6W5a4u5LVYtFS3IuGba6TwzKqgCIRHJOP4v8A%2BCbvgzxHoPgPRNC/aJ%2BJPh9/AvijUvE5vNOfRbt/EGvXsrTPqmox6hplzDNcRyyTyQ%2BXHFHA0xMaL5UHle8/8IfpP/P3qv8A4PLv/wCO0f8ACH6T/wA/eq/%2BDy7/APjtAHm3xC/ZMb4r%2BJtHv/iL%2B0R4/wBU8P6Rq2j6q/gh/wCyItMv9Q0yeC6tbqd4dPS7z9qtoLhoo7hIGePHl7CyHj7L/gmN8Cni1Hw54w8beMvEnhO40PxFpGieCNZ1C0GnaBaa45OoJaPb20V0xZWZEa4nnaFGKxlM17z/AMIfpP8Az96r/wCDy7/%2BO0f8IfpP/P3qv/g8u/8A47QB5N4V/Yx1DwVoWtv4e/ay%2BJ8fi7xJqtpd658RZ00GfV7uC1tjbW9iUl0prJbdELMAtqshkZ5C5Z3LY3jX/gnb4Z8RfCfwL8H/AAV%2B0h8SfBmn%2BBvE0niOO98Ptolxd6zrD3hvjf3r6lpl0Gk%2B1STzFYVijZrmQMjKI1T3L/hD9J/5%2B9V/8Hl3/wDHaP8AhD9J/wCfvVf/AAeXf/x2gDn7f4GeFk%2BPa/tF3%2Br6ne69B4LXwzYxXUsX2aztWuvtVxLEixqyy3EiWwlJYqRZW4VE2sX5%2B7/ZP8Njwn8V9C8N/FDxjoOq/F7VJ7/XvF%2BjahbR6tpsr2Fvp8f2GVrdkgENtawpFuRyhBfJdi1egf8ACH6T/wA/eq/%2BDy7/APjtH/CH6T/z96r/AODy7/8AjtAHh91/wT40q6/Yx1n9hoftN/ES38J6xokmhm/sdN8NW19Z6PLbG2l0%2BERaOtusTxs%2BZGgacM5ZZVOMX/i/%2BxNr3xl8HeAfC2s/tmfFTTbrwBrCatba7pVl4YF3qt9GT9nuLtZtFkgzErOqrBFCjBz5iyEKR7D/AMIfpP8Az96r/wCDy7/%2BO0f8IfpP/P3qv/g8u/8A47QBg2vwP8KQfH65/aOutS1G612XwdB4atLe5ljNrYWiXUt1M8CKgZZbiR4fOLMysLK3Cqm1i/FfA79iD4c/Af4h2fj7QPHfinVYdB0LUdE8D%2BHtZuLM2HhTTL66t7q5tLJYLaKV0aSztAGuZJ3RLdERlUsG9T/4Q/Sf%2BfvVf/B5d/8Ax2j/AIQ/Sf8An71X/wAHl3/8doATxz/yJOsf9gu4/wDRbV5d44/5SF/C/wD7Iz48/wDTt4Qr1E%2BDNDfCztfTJkExXGrXMiN7MrSFWHsQRXl3jj/lIX8L/wDsjPjz/wBO3hCgD2aiiigArnfiv8V/APwR8BXvxM%2BJuuNp%2Bj2DwRzTRWc1zLJLNMkEEEUECPLPNLNLHFHFGjSSSSIiKzMAeiryD9tf4b%2BPviH8J9Ivvhl4ZbXdY8J%2BP/DvieHw6l3DA%2BrRafqdvcT20ck7pEsxhSQxea6RmVYw7opLqAbdl%2B1b8BL74F3X7SKeOmh8IWMk8N9e3mkXdvc21zDcm0ktJLKWJbpLoXKmD7K0QmMuIwhchTjXf7c/7Nll4GsfHsnibxBJHqPiCXQ7TQrbwDrU2utqUUD3Etq2jx2Z1BJEgRp2DW42xbZDhGVj5Z4V%2BBPjvxP%2Bzt8UPD3xk/Z%2B8Z213478b3njjT9A8Oa/oy6lpdwl/BJp1vDO179mXUojYWt6Szm0EsmzzpQGz5A37Ef7RTaUfid8SPhv8TfGCeJ/jpeeMvEHh/TviFpekeOrG3/4RS20G0kXU9OvLCzgdms980NjdQp5FxHEGlWOVJQD71%2BHXxD8FfFvwFo/xP8Ahx4ig1bQNf02G/0jUrbOy5t5UDo4DAEZBGQQCDkEAgivHv2P/wDk3rV/%2By9eOf8A1YGq1r/ss/Bj4peBf2IPBHwL8aeKJfCXijSfBtpptxqHhWGweXSWjQKiRCW2ktJJI0CozeQ0bsGZVwRWT/wT38NSWn7Meo%2BFfEfiG91%2BS3%2BLXxCgutW1RIEub508aa0DPILaOKJZGI3Hyo41DH5VUYAAPeqKyv8AhD9J/wCfvVP/AAeXf/x2l/4Q/Sf%2BfvVf/B5d/wDx2gDUqpr2haP4o0O98M%2BItNivNP1G0ktb6zuE3RzwyKUeNh3VlJBHoarf8IfpP/P3qv8A4PLv/wCO0f8ACH6T/wA/eq/%2BDy7/APjtAHz94J/4Jg/Cj4afCPwH8MPh58aviPpWofD7W9T1TS/HK6np9zrd5LfpNFdC6kubKSCTdFN5SusKSxpDEI3TaSbHgb/gmJ8A/h/4a8PeFdE8W%2BMJLbw14a%2BHmh2DXepWzyPbeDdVu9U0tpG%2BzjdJLPeSrcNwHRUEYhYF295/4Q/Sf%2BfvVf8AweXf/wAdo/4Q/Sf%2BfvVf/B5d/wDx2gDxD4bf8E7vAvwp%2BIml/EDwl8dfiIq%2BF/Deu6F4D0K4vNNksPC1nqs1tNMlohsd8pie0g8k3T3GxU2Hcny16R8c/gHonx38G6X4c1fxpruiapoGtWuseHvFmgParqOmahAGVbmITwS27Fo5JonSSF43jmkUpg8dP/wh%2Bk/8/eq/%2BDy7/wDjtH/CH6T/AM/eq/8Ag8u//jtAHF/Db9m2w%2BEXwwh%2BFfw9%2BKviqwtU07V1uNRJsJry61TUrpry41qR5bRlN79pluJgAoti9zJugcCMJzNz%2Bwr4A134K/EH4O%2BO/if4y8RzfFVtvj/xdqlzYx6pq1v5EVsbQ/ZrSK2gtzaxfZ/LhgjGyWVhiWR5T61/wh%2Bk/wDP3qv/AIPLv/47R/wh%2Bk/8/eq/%2BDy7/wDjtAGB8TfgX4P%2BK/iLwLr3ie8v0i8AeKP7f0nS7SSNLW6vFsrm0i%2B0KUJdIhdPKiqyYljic52AU4fBDwm/7QJ/aRu9Q1C41yPwaPDWn2s0qG0sLRrs3Vw8KhA6yzutsJSXZStlbhVUqxfd/wCEP0n/AJ%2B9V/8AB5d//HaP%2BEP0n/n71X/weXf/AMdoAS7/AOR20/8A7BV5/wCjLatWvE/2hf2zf2SP2NpF/wCFs/E1I9fu0WOw8N2lxNqesXe4/IkVsrPIoY4wx2oTjLV5Svx3/wCCm/7Wp8v9nX4B6f8ABHwnP9zxn8WI/tGtSxno8GlR5ELjjicspHRq86vmuEo1XSjedRfZguZr1tpH/t6UT7PKuA%2BIMywMcwrKGFwktq%2BImqNOVt%2BTmTqVn5UaVXtdH1n4m8U%2BGPBeiT%2BJfGPiOw0nTbVN1zqGp3iQQQr6tI5CqPcmvmnxp/wV4/ZWt/EUvgT4B6f4u%2BMviKLh9J%2BFXhuXU1jzwGe4%2BWHZwcsjvgDNVPDH/BJL4R%2BKdcg8d/tl/Fjxj8cvEUL%2BZG3jPVHi0q1k7/Z9OgYRRIefkYuvPSvpnwR8P/Anwz8Pw%2BE/hx4K0nQNKtx%2B403RdOitYI/pHEqqPyrG%2Bc4rZRox8/3k/uVoL75HoOHhpkekpVsyqr%2BX/ZMPf/FJVMVNeajRv5Hy6fjv/wAFbfjX8nwk/Y48D/C3T5eItX%2BKni5r64ZD/GLSwAaJ/RZMjPXigfsD/tl/F399%2B1D/AMFMfGv2aXmTQvhRpdv4dhjHeP7SgeWVT6sASDivrmin/ZFOr/vFWdTycnGP/gMORfe2L/iImMwWmTYDC4PtKFCNWp/4OxP1id/OMY/5fNPw7/4JD/sB%2BAdXHijUvgfH4v1osGn1jx7qdxrEs7Du6XLtCT9IxX0T4e8N%2BHfCWkQ6B4U0Cy0ywt12wWWn2qQwxj0VEAUD6CrtFdmGwODwatQpxh6JL73a7%2BbZ81nXFHEvEk1PNcbVrtbe0qTkl/hi3yx/7dhHTTbQKKKK6jwgooooAKKbLNFAhlnlVFHVnbAFYetfFP4Y%2BG4zN4i%2BI2g2CL9573WIYgPxZhUynCCvJ2JlOEFeTS9Wl%2BbRvUV5pd/tn/seWF0bG%2B/aw%2BGkM46wy%2BO9PVx%2BBmzUsf7YX7JEq74v2pfhyynoV8b2BH/o6sPrmD/5%2Bx/8Cj/8kc31/AX/AI0P/A4f/JHo1FeexftcfspTtsg/ac%2BHrn0TxpYk/wDo2jVP2uP2UdEtvtus/tOfD20hPSW68aWMa/m0oFP63hLX9pH/AMCj/wDJD%2BvYG1/aw/8AAo//ACR6FRXiGof8FKv%2BCf2mStDc/tkfDpivU2/iq2mH4FGIP4Vg%2BIf%2BCuX/AATc8MQ%2BfqX7XHhiVQM407z7xvygjc1hLNMrgverwX/b8f8A5I5p51k1NXliaa/7iQ/%2BSPo2ivkeT/gsr%2Bzd4wb7H%2BzX8K/ir8W7puI18DfD27aJT2Mkl0sOxfVsHApyftvf8FFb1f7Q0r/gkLr7WMnNtJefFvSbe4ZfV4GTdGf9kk1j/beWy/hzc/8ABGc198Ytfizn/wBYsol/CqOp5whOa%2B%2BEGvxZ9bUV8kn9q3/gqf4wP2PwX/wS%2B07w%2Beh1Hxf8XLF4lb/rlbp5hA9QeaP%2BFsf8FnPCf%2Bn%2BIP2TPg74thb5lsPCvjq4sJ0H9wveqULe44o/tjDvWNOo139lO34pP7kw/t7CvWNKs13VGpb8Un90WfW1eM/sv/8AJb/2jv8Ass1j/wCoV4Xry/8A4eIftX%2BERj4v/wDBKL4rWRT/AFv/AAhmqWPiHHrt8kpu/Cui/wCCdXxct/jtrXx5%2BKlr8P8AxT4VTVPjNAP7A8aaP9g1O0MXhHw3CRPBubyyTGWXk5RlbvXRhsxwmLm4U2%2BbezjKL/8AJor8zqwma4HHVHTpN8yV7OE4u3/b0I/n8j6UooortPRCiiigAooooAKKKKACiiigAooooAKKKKACiiigAooooAKKKKAMb4g/Dr4ffFrwdffDv4qeBNG8TeH9UjWPUtC8QaXFe2d2gYOFlhmVkkAZVYBgeVB6iue8Bfsu/szfCvwvL4H%2BGH7OvgTw3os%2BmzafPo%2Bg%2BEbKztZLSZi01u0UUSoYnYkshG1iSSDXdUUAYPw1%2BFfww%2BDHhC3%2BH3we%2BHGg%2BE9AtHdrTQ/DWjwWFnCzsXcpDAqopZiWJA5JJPNfAf8AwW6/0H9qf9l/xZ0/sHV9R1Dd/d2694UTP/kSv0ar85f%2BC9n%2Bg3ngrxZ0/sHwHrmobv7u3xX4HTP/AJEryc90yau%2B0W/ucX%2Bh%2BgeFOviTlMP560Yf%2BDI1af8A7kP0aooor1j8/CiiigAooooAKKKKACiiigAooooAKKKKACiiigAooooAKKKKACiiigAooooAKKKKACiiigAooooAKKKKACiiigAooooAK8Z8cf8AKQv4X/8AZGfHn/p28IV7NXjPjj/lIX8L/wDsjPjz/wBO3hCgD2aiiigAooooAKKKKACvGf2D/wDkiGuf9lm%2BI/8A6mut17NXjP7B/wDyRDXP%2ByzfEf8A9TXW6APZqKKKACiiigAooooAKKKKACisb4gfEPwL8KfB998QPiV4u0/QtE0yEy3%2BqapdLDDCvTlmIGScADqSQACSBXyNcftNftbf8FD72Twz%2Bwtp1x8OfheZTFqPxu8T6YRd6nGDhho9lJgsDyPPkxjn/VuoB4cXmFDCSULOVSW0I6yfn5LvKTUV3ex9Vw9whmnEFKeKTjQwlN2qYiq3GlC%2BvLezc6jXw0qUalWXSMVea9v/AGo/27v2cv2R4rbTfiX4rmvfEmo7V0TwT4ctjfazqbscKsVshyAx4DuUQnjdnivGRp3/AAU2/bkO/V74fs1/Dq56Wlk63njDUYT/AHpOI9O3DnjEsZyCHFevfstfsCfs8fsnz3Hijwfod3rvjLUstrnxB8WXRv8AWtRkb77PcPzGG7pGFU4GQTzW18X/ANtn9kX4BpMvxe/aO8H6JcQAmTT7jXInvOOuLeMtK34Ia4KtLEVoe0zCqqVP%2BSMuVf8Ab1S6b81DlXmz2MRxVwbwZT/4RKMa1Vb4vFxhZPvQw0m6VNfyzruvV2fJB6LJ/Zm/YB/Zc/ZQlk1z4ZfD1brxJclm1Hxp4inN/rF47ffd7mXLLu/iWPYpPO2vZ6%2BQz/wVS1v4xMbP9hn9i74j/FRZDi38SXtmPD%2BhSZ6Fby8GT67SinFDfD//AILE/HobfGnxs%2BGvwS0ifg2ngzRZNd1ZIz1R5boiBX7B4jx1AzTw%2BYZfRpKngKTnHp7ONo/%2BBPlj87y9WfmebccYziTHSxlepWxtWW8/ekvJe0m4QUV0UfdS%2BGKR9W%2BI/FXhfwfYf2r4t8SWGl2pcILnUbxII9x6Dc5Az7VyerftR/sy6DaSX%2BuftFeBbOCFd0s114uso1QepLSgAV4b4W/4I8fsp3OqDxd%2B0XqfjD4yeIyhDa18SvFFxeeXu%2B8sUEbJEieilW2gAA12Wmf8EuP%2BCeGk3Md3a/sfeBnaNgyi60ZZ1J91k3Bh7EEVt7XO56xpU4%2BUpyb%2BfLG33P5nm%2B24iqaxo0oLtKc5P58kOX5Jv1Ob8bf8FjP%2BCfXhPVP%2BEc0H41v4w1diRBpPgbQ7vVZZyOyPDGYj/wB91jL/AMFGP2n/AIinf%2Bzn/wAEs/iprEDf6q78fX9n4Wjcf31%2B0mQsvcdMivp7wT8OPh58NNMGi/DnwFovh%2BzAAFpomlw2kXHT5YlUfpW1R9Vzar/ExCj5Qgvzm5P/AMlH9Tzyt/FxSh5U6a/9KqOb/wDJT5KHxS/4LP8Ai399oH7LPwX8IqeRD4q8b3d%2B49ibJQKG0v8A4Lja/wD6Ne%2BKP2ZNAhfg3Ol2Wu3U8Y9Qs3yE/WvrWin/AGXJ/FiKr/7fS/KCD%2BxZS%2BPF1n/3EUfwjTX4HySP2Ov%2BClvjH/SPiN/wVSn01W66d4M%2BFun2yR%2BuJ3YyN%2BIpR/wTM%2BMV7/pWu/8ABUf4/wAl12ew8Q29rD/36WIj9a%2BtaKP7FwD%2BLml61Kj/APb0H%2Br2WP4%2BeX%2BKrVf/ALkX5HyUf%2BCanxzm/wBCvP8AgqZ8dmsj9%2BOHVbaOc/SYR5H5Un/Dn34R6x83xH/aq/aA8Xs3%2BsPiL4qTuG9sRRpge1fW1FH9iZW/ip39ZTf5za/AP9XMmfxUub/FKpL8HUa/A%2BTIf%2BCH/wDwTYmkFz4j%2BB2pa3cD/l51fxxq8jn67bpQfyrc0b/gjr/wTR0KQS2P7JuhOV6C9vr25H5SzsDX0vRVRyTJou6w0P8AwCP%2BTKjw7kEHdYSn/wCAR/VM8VtP%2BCb/AOwFZWos4f2NPhqyDoZvB9pI/wD30yFv1qOT/gmr/wAE/pG3t%2Bxv8OQf9nwrbAfkEr26itv7Ny7/AJ8w/wDAI/8AyJ0/2RlNrfV6f/gEP/kDw2X/AIJmf8E%2BZl2v%2Bxz8PQP9jw1Av8lpNM/4Jl/8E%2BdIuvtdr%2Bxz8Pnf0uvDUE6/98yKy/pXudFH9mZbe/sIf%2BAR/wDkRf2PlF7/AFan/wCAQ/8AkTznT/2PP2R9IhW30r9lr4c2sa/dS38EWCAfQCGt7w98D/gt4Rn%2B1eFPhB4X0yQHIk0/w/bQt%2BaIK6iit44bDQfu04r0jFfkjphg8JTd4U4r0jFflFAAAMAYA6CiiitjoCiiigArxn9l/wD5Lf8AtHf9lmsf/UK8L17NXjP7L/8AyW/9o7/ss1j/AOoV4XoA9mooooAKKKKACiiigAooooAKKKKACiiigAooooAKKKKACiiigAooooAKK8w/bT%2BL3ir4B/smfEP4x%2BBo7U634f8ACl5daO99EXt4boRkRSyqCC0SOVd1yMqrDIzkeZeC/jF8YfhJpH7QXw9%2BIXxzi8UXPwq8Owa5oXj7xvptpaiGK40mS4MeoLplvBE0cE9tLIWihV/ImRSHZd7gH05X59f8F1NH/tzwrNZbN2z4C%2BL7jH/XHxP4Glz/AOOV6r/wTd%2BNv7SXj/xl4y%2BHv7SmpeMYr/TPCPhbW7DRviNpmiW%2BsxHUF1Bbi5Q6Gi2jafJLabIEkP2yOS3uRcKgaEHzP/gqR428N/E3xf4u%2BH%2Bk6V4hjvPDX7MHxIkv5dV8I6jY2kpXUfCcwNtdXNvHBegeUctbvIF43Eblz52bw9plOIj3hP8A9JkfY%2BHeJ%2Bp%2BIGUV/wCXFYd/%2BV6X%2BZ9z%2BBNY/wCEh8D6Nr%2B/d9u0q3uN3rviVs/rWrXAfsoax/wkP7LXw11/fu%2B3eANGuN3rvsYWz%2Btd/XZQn7ShCfdJ/ek/1Pnc1w31PNcRh/5KlSP/AIDUnH/20KKKK1OAKKKKACiiigAooooAKKKKACiiigAooooAKKKKACiiigAooooAKKKKACiiigAooooAKKKKACiiigAooooAKKKKACvGfHH/ACkL%2BF//AGRnx5/6dvCFezV4z44/5SF/C/8A7Iz48/8ATt4QoA9mooooAK4748fGzw1%2Bz98OpfiJ4m0jU9U3alY6Zpmi6JDHJe6pqF7dRWlpaQLLJHH5kk80a7pHSNAS7uiKzDsa8v8A2t/g34z%2BM/wwsLH4a3mmReJvDXjDRfEugR63PJFZXVxp9/Dcm1nkijkeJJo0kh81Y5DEZBIEk2bGAM2H9tj4ZL%2Bzvqv7QureE/Eunromvt4f1XwfdWdu2sQa3/aCadHpmyKd4GmlupYY43WYwOJ45BL5bb6z/wDhvDwSfC/mJ8H/ABs/jT/hOG8IH4WJHpja4usDTxqhty4vvsCr/ZzJe%2BcbsReS6/PvYRnn/B37MHxXX4E/EXwP8XPhn4C8T6n8Rtc1DxNquijxnf2%2BnpqM9wnkWKXSaf58UcFvb2hXUEjE32hGkW3iwuPI0/4JRa7H4Ts/GeufD3wN4r8SyfGS78c658OvGXjXVNT0G/hn8PJoIsp9VvbS4u710jt7W8Nxc2r7543Xy41MbxgH274S1u/8S%2BF9P8Qar4U1HQbm9s45rjRdXaBrqxdlBMMpt5ZYS6n5SY5HQkfKzDBPlX7B/wDyRDXP%2ByzfEf8A9TXW6v8A7P37O2s%2BAv2SPDv7OPxW8Z3%2Bo3djoQstS1Hw/wCIL%2BxkiG8usFreRSx3aRwqVhjkDrIY4lJwSRWF/wAE6fD1h4S/ZuvvC2lXF9Lbad8W/iHbW8up6pPe3LonjPWlBluLh3mncgcySOzsclmJJNAHulFFFABRRRQAUUU2aaG2he4uJVjjjUs7u2AoHJJJ6CgB1fPP7cH/AAUp%2BAH7EOljSPE1%2BNf8aXcBk0nwTpd0i3Lrjia5kb5LO3HUzSfwhiqvtIHif7VH/BS34ufHjxfe/sm/8En/AAw3jbxYB5XiT4kWqo2j%2BHUYlcx3D/uZJOGIkJMfGIxK5ISj%2ByN/wQi%2BGXgvXD8Yv23PGs3xX8bX1yLzULO9mlfSxcnkvL5n7y/bJPzTYQhiDF3r5rF5rjsbUeHymKlbSVV/w490v55Lyuk923oehlWZcOYZe3rQeMqL4aMJOnSuutfEJNxjfelh41K8tnOgnc8I8O/HnxB%2B3B8SYPiP8WvhX4o/aL8QaZd%2BZ4b%2BEXgKzez8B%2BGJf4f7Q1G5AjvLgAgGQiSE5YBnQqF%2BsrD9m/8A4KYftKQQr%2B0B%2B0vpvwU8LBFWHwR8FYf%2BJkkQACpJqkoJhdRx%2B4DRkY4FfXWg%2BH9B8LaRb%2BHvDGiWmm2FpGI7WxsLZYYYUHRURAFUewFW6rB8P%2Bzi3iK0puWsrXjzP%2B80%2BeXknKMVsopHLxFmfEHGFWm84xP7mmmqWHoR9hhqUX9mFOEnJ3%2B1KdR1Kj96pObenySf%2BCNn7OWuLs%2BKfxq%2BNHjlW4mTxZ8ULuYTDuG8oR5Br034Rf8ABOf9hj4FNDP8M/2W/B9pcwYMGoXulrfXcZHcXF15koP0avaaK9KllGV0J88KMb92rv75cz/E8ShkWTYepz08PDm7uPM/vlzP8RFVUUIigADAAHSloor0T1QooooAKKKKACiiigAooooAKKKKACiiigAooooAKKKKACiiigAooooAKKKKACvGf2X/APkt/wC0d/2Wax/9QrwvXs1eM/sv/wDJb/2jv%2ByzWP8A6hXhegD2aiiigAooooAKKKKACiiigAooooAKKKKACiiigAooooAKKKKACiiigDM8aeDfCvxF8Hat8PvHWgWuq6Jrumz6frGl3sQeG8tZo2jlhkU8MjozKR3BNcF4D/Y1/Z7%2BHPhrVPCGg%2BFdVu9P14XQ8RxeIfF%2Bqas2ti4tYrSRb5765me%2BAtoIoUE5kEUaBI9gJB9QooA89%2BBf7LfwV/Zwk1K6%2BFWgapFd6vbWltqGo694p1HWbuS2tRILW2FxqNxPKlvD50xjgVhGhmkKqC7E%2BIf8FCtH/wCEh%2BI1xoO3cb39k/4swAe7zeF1H86%2Bsa%2Bd/wBpbR/%2BEh/az8LaBs3fbv2d/iTb7fXff%2BE1x%2BtYYmHtMNUh3jJffFr9T08kxP1PO8LiP5KtKX/gNWnL/wBtOg/4Jyax/bv7A3wbvt%2B7b8NdHgJ94rSOL/2SvaK%2Bbf8AgkFrH9uf8E2PhLe787PD0lvn/rldTxY/8cr6SrnyqftMroS7wh/6TE9rj7DfU%2BO82ofy4rEL/wAr1f8AMKKKK7z5IKKKKACiiigAooooAKKKKACiiigAooooAKKKKACiiigAooooAKKKKACiiigAooooAKKKKACiiigAooooAKKKKACvGfHH/KQv4X/9kZ8ef%2BnbwhXs1eM%2BOP8AlIX8L/8AsjPjz/07eEKAPZqKKKACiiigAooooAK8Z/YP/wCSIa5/2Wb4j/8Aqa63Xs1eM/sH/wDJENc/7LN8R/8A1NdboA9mooooAKKK8y/az/at%2BGP7Hnwhuviv8SZ5p2Mq2mhaFYLvvdav34is7dOryOfbCgFjwKyrVqWHpSq1ZWjFXbfRGOIxFHC0JVq0lGMVdt7Jf1/krtpHSfGb41/Cz9nr4c6j8WPjL40stA0DS4t93f3smBn%2BGNFGWkkY8Kigsx4AJr85/wDha37Un/BdD4hXvw8%2BF51f4Z/s26Re%2BT4l1sYTUfEmCCbbcMqWYYPkqWjiDbpTI3lofNtA%2BD37Uv8AwWr/AGqGm%2BPHiZ9M8A%2BDb0f8JBY6FOW03QGOD/ZVo5%2BW71FlwJ7k5WLJxkCND%2Bt3w1%2BGvgP4O%2BBNL%2BGXwx8LWmi6Do1ottpumWMe2OGMfqSTksxyzMSxJJJr5alUxfE9RvWnhE7dpVWt0/5YdGlrLZve3u4zh2WW4KnVzuDjWqxU4YV6OEJJOFTFreMpxalSwl0%2BRxqYppShhpZfwL%2BAnwi/Zq%2BG9j8Jvgl4GstA0KwX93aWcfzSyYAaaVzlpZW2jdI5LNgZPArsKKK%2Brp06dKChBJJaJLRJeSPI/rt%2BCSS%2BSS8kFFFFWAUUUUAFFFFABRRRQAUUUUAFFFFABRRRQAUUUUAFFFFABRRRQAUUUUAFFFFABRRRQAUUUUAFeM/sv/8AJb/2jv8Ass1j/wCoV4Xr2avGf2X/APkt/wC0d/2Wax/9QrwvQB7NRRRQAUUUUAFFFFABRRRQAUUUUAFFFFABRRRQAUUUUAFFFFABRRRQAUVx37Qfxm0L9nf4HeLPjn4k0y6vrPwpoFzqUmn2O3z7xooyyW8W4hfMkYLGu4gbnGSBk1w/wv8A2tNTuNF%2BJUf7SHgDTvA%2BufCm2jv/ABXaaL4ik1mxOmSWP22O8guWtbaSQbUnjZGgRlktpAN6lHYA9prxfx9FHP8A8FBvhjBKoZH%2BC/j1WU9wdW8IZp37GX7VGrftX%2BEtR8b3Oj%2BBLG0ge3FtZeEfiXH4hvbJpEMjWuqRxWsUdheRqYw8CS3ChmYCQhQzHjj/AJSF/C//ALIz48/9O3hCgE7M8z/4IhyyQ/8ABNvwR4fnctLo2p65YyE9cpq942PyYV9ZV8l/8Eb/APQP2bfGHhPp/YPxk8Uaft/u7bzfj/yJX1pXk5F/yJsOu0Evuuv0P0DxW18S83n/AD4ipP8A8GctT/3IFFFFesfn4UUUUAFFFFABRRRQAUUUUAFFFFABRRRQAUUUUAFFFFABRRRQAUUUUAFFFFABRRRQAUUUUAFFFFABRRRQAUUUUAFeM%2BOP%2BUhfwv8A%2ByM%2BPP8A07eEK9mrxnxx/wApC/hf/wBkZ8ef%2BnbwhQB7NRRRQAVx3x4%2BNnhr9n74dS/ETxNpGp6pu1Kx0zTNF0SGOS91TUL26itLS0gWWSOPzJJ5o13SOkaAl3dEVmHY15f%2B1v8ABvxn8Z/hhYWPw1vNMi8TeGvGGi%2BJdAj1ueSKyurjT7%2BG5NrPJFHI8STRpJD5qxyGIyCQJJs2MAZsP7bHwyX9nfVf2hdW8J%2BJdPXRNfbw/qvg%2B6s7dtYg1v8AtBNOj0zZFO8DTS3UsMcbrMYHE8cgl8tt9UtV/by%2BFvhf4DeNfjh458FeKdDuvh/q50bxL4FvLezm1uLVmhtp7bT41trmW2lmuIr2ykiKXBjK3UbO6AOU5zwd%2BzB8V1%2BBPxF8D/Fz4Z%2BAvE%2Bp/EbXNQ8Taroo8Z39vp6ajPcJ5Fil0mn%2BfFHBb29oV1BIxN9oRpFt4sLjzXQv%2BCTnia/%2BGHiK7vvjdr/gbxpr/jPV/FUdn4T8SJr9jb311oNtocUdxfeIdPurm/ZbS1Ja7aOKfde3ITapRQAfYHwy8faP8Vvht4e%2BKPh22uYdP8SaHaarYw3qKs0cNxCkyLIFZlDhXAIDEZzgnrXmv7B//JENc/7LN8R//U11utb4G/s%2B6n4I/ZF8I/s1/FDx3rGsXmj%2BDbHR9Y1zS9ak026lkhhRGMFzpy2kkSqV2o8Yicoq7ssWJ5v/AIJ0%2BHrDwl%2BzdfeFtKuL6W2074t/EO2t5dT1Se9uXRPGetKDLcXDvNO5A5kkdnY5LMSSaAPdKKKKAOW%2BNnxk8A/s%2BfCfXvjT8UNYWw0Lw5pz3moT8Fiq8LGgJG6R2Koi9WZlA61%2BUdtF%2B0t/wVZ/a1S4knm0XUo7MOzRN5lr8K/Ds/IVTwsmu3iDrw0Kn%2BFlxadR/wAFX/2m/GX7YP7RGkfsZ/s%2BouqaZoHiiPTIrdCDDr3iwj7j5yGtNOjYzTEhk8wqsi7WVx%2Bhf7Hv7KXgD9jv4J6f8JvBSm5u/wDj78Sa9cZNzrWpSAGe8mdiWZnboCTtUKo6V8ZiHPiXNJYaDth6LXM19qXZem1%2Bmslq4tfT8NYfB5Zg48V5hTVS05RwNGSThUrUnapjasXpOjhqlqeHg04VcVGc5c1PD2l0nwJ%2BBfwx/Zs%2BFWj/AAY%2BD/hqLStB0W2EVrbpy8jdXlkbrJI7ZZnPJJJrrqKK%2Bwp06dKmoQVklZJbJLoeBi8XiswxdTFYmo51KknKUpNuUpSbbbbu22222woooqznCiiigAooooAKKKKACiiigAooooAKKKKACiiigAooooAKKKKACiiigAooooAKKKKACiiigAooooAK8Z/Zf/5Lf%2B0d/wBlmsf/AFCvC9ezV4z%2By/8A8lv/AGjv%2ByzWP/qFeF6APZqKKKACiiigAooooAKKKKACiiigAooooAKKKKACiiigAooooAKKKKAOO/aE%2BDOh/tE/A3xZ8DPEmqXVhZ%2BK9AudNk1Cx2%2BfZtLGVS4j3Ar5kbFZF3AjcgyCMivNvAn7H3jeS3%2BIMn7QHxa0Txfd/FawfTfHcmj%2BDptJik09NPWytrWzja/uDbBVa6lkaRpzJJdNt8pVVB71RQB4V%2ByX%2Bx94n/Z58V6h438dfFPSfEmoy%2BBtA8HaWmgeDv7EtrfSNIa8a1M0X2q48%2B6Y30u%2BVWjiCqixwxDduzb/AOEfwo8Df8FNvBfj3wT8MfD2j674n%2BD3jiXxLrWlaLBb3erPHq3hLy2uZo0Dzld74LliNxx1NfQ9eM%2BOP%2BUhfwv/AOyM%2BPP/AE7eEKAPMf8AglL/AMSy5/aO8Jtx/Z/7T3ih4V/uwyi2dB/OvrSvkv8A4J3f8Sr9qP8Aas8J9PJ%2BLcGobf8Ar6skfP47a%2BtK8nJNMshHs5r7qlQ/QPFH3uN8RV/5%2BQw8/wDwPCYR/owooor1j8/CiiigAooooAKKKKACiiigAooooAKKKKACiiigAooooAKKKKACiiigAooooAKKKKACiiigAooooAKKKKACiiigArxnxx/ykL%2BF/wD2Rnx5/wCnbwhXs1eM%2BOP%2BUhfwv/7Iz48/9O3hCgD2aiiigAooooAKKKKACvGf2D/%2BSIa5/wBlm%2BI//qa63Xs1eM/sH/8AJENc/wCyzfEf/wBTXW6APZq%2BaP8AgqB%2B17qv7MnwOi8I/DHUYI/iL4%2Bkl0rwd50u1dPUR7rvVJTg7IbWHMrOQQrbCw27sfRmu65pHhjQ7zxL4g1CK0sNOtJLm%2Bu522pDDGpd3Y9gFBJPoK/Ifxc3jz/gpf8AtPaTqcxvLGb4xvLZeF7U8S%2BFfhpY3B%2B137L/AMsrjUZ0aNW7qsseSky18/xDmFXC4VUKH8WporbpOyb9btRXm2/ss6spyetxRn2HySlV9kqvNOtV39hhqS58RX9YU04019qtUpRWp7p/wRH/AGPdLstKf9srxFpc/wBmuLKXR/hbFqMW2cab5hN1q8qsSRcX0298kkpF8is0ZQD9D6o%2BGPDOgeC/DWn%2BDvCulQ2Ol6TYxWenWVuu2O3giQJHGo7KqqAPYVervyrLqWV4GGHh03feT3f6LskketxLnNHOsz58NS9jhqUY0qFJbUqFJctKmu7UfenLedWdWbu5XCiiivRPnwooooAKKKKACiiigAooooAKKKKACiiigAooooAKKKKACiiigAooooAKKKKACiiigAooooAKKKKACiiigArxn9l//kt/7R3/AGWax/8AUK8L17NXjP7L/wDyW/8AaO/7LNY/%2BoV4XoA9mooooAKKKKACiiigAooooAKKKKACiiigAooooAKKKKACiiigAooooAKK534ufFLwb8D/AIW%2BIvjH8Q797XQvC2i3OqatPFC0si28ETSPsRctI5CkKigszEAAkiud%2BAH7Rmk/Hg%2BIdIuPhx4m8GeIvCuoQ2niDwn4vjsxfWnn20dzBLusrm5gkikikBVo5WwySI2143VQD0SvDviJrmmWH/BSD4R6LeXKx3F/8GPiB9kVjjzCmq%2BD2ZR6nblseik9q3/2a/2uvhf%2B1Xqnjqx%2BF1hrAt/Afiv%2BwbvU9RtY47bVJPssNyt1ZMsjNLask67JWVPMwXQNGySP8r/8FUviZqnwL/4KLfshfG%2BBnXS9EfxbZeJZQfkg07ULnw7YSyv6qjXEZ/3ttc2MxKwmGlWlsrX9LpN/K9/kcePxccDhJV5bRtf0copv5KV/kejfsdf8Sj/gpt%2B1x4cPCS3HgrUIB/e8zSJRIf8AvoAV9aV8l/BH/iTf8FhvjjpvT%2B2vhp4a1DH97yd8Gf1xX1pXFk2mGnHtUqr/AMqN/qfpniT7%2Bd4Wt/Pg8DL/AMtKcH%2BNNhRRRXrH5%2BFFFFABRRRQAUUUUAFFFFABRRRQAUUUUAFFFFABRRRQAUUUUAFFFFABRRRQAUUUUAFFFFABRRRQAUUUUAFFFFABXjPjj/lIX8L/APsjPjz/ANO3hCvZq8Z8cf8AKQv4X/8AZGfHn/p28IUAezUUUUAFcd8ePjZ4a/Z%2B%2BHUvxE8TaRqeqbtSsdM0zRdEhjkvdU1C9uorS0tIFlkjj8ySeaNd0jpGgJd3RFZh2NeX/tb/AAb8Z/Gf4YWFj8NbzTIvE3hrxhoviXQI9bnkisrq40%2B/huTazyRRyPEk0aSQ%2BaschiMgkCSbNjAGbD%2B2x8Ml/Z31X9oXVvCfiXT10TX28P6r4PurO3bWINb/ALQTTo9M2RTvA00t1LDHG6zGBxPHIJfLbfUGmftj3niPwlqGreC/2WfiVrfiHQfE0mheLPAlg2hrqmg3a2kN6PtMk2qR2TK9tdWkyGG5lLrdR4GdwXlvB37MHxXX4E/EXwP8XPhn4C8T6n8Rtc1DxNquijxnf2%2BnpqM9wnkWKXSaf58UcFvb2hXUEjE32hGkW3iwuPNrb9hv9sD4Z/ALxT4H%2BBU/hGw1v4tfE86/8UIbz4q62ZrLSP7MtNPax0/XJ9Purye7mi0%2B3El9PCkifaLhohGwhaMA%2Bt/g58WPBnx4%2BEvhn42fDq9muNA8W6Daavo01xbtFI9tcRLLGXjb5kbawyp5ByD0rz39g/8A5Ihrn/ZZviP/AOprrddl4X%2BFum3HwF0r4Pa74Sg8JWcHh62019C8BeKLy2h0mKKNUW3sr63W0uEjjVAiSIsLbVHyr0rz/wD4J0%2BHrDwl%2BzdfeFtKuL6W2074t/EO2t5dT1Se9uXRPGetKDLcXDvNO5A5kkdnY5LMSSaAPMv%2BCxvxhm0v4IaN%2Byv4c8RjTNW%2BLupSafqeoqedL8O2sf2nV75h3RLZSrDukj45FU/%2BCQXwYW98Faz%2B2n4j8N/2Zd/EWK3sfA2jycnQfCFiot9Ns17AukayuV4k/duRnNfK37UvirXv25f2pvEEvg3UXMfjzxbF8HfhlPEc%2BRo1m63fiXV4x0ZfuRBwDuhuJFz8tfrN4S8K6D4F8KaZ4J8K6clnpej6fDY6baRD5YIIoxHGg9gqgfhXyGXL%2B1s%2Bq4x6wp%2B7HtfVJ/dzS/7ei%2Bx9TkreT8B18zWlfN6jpwfVYDCTs7dlicZzNv7VPDRWqNCiiivrz5YKKKKACiiigAooooAKKKKACiiigAooooAKKKKACiiigAooooAKKKKACiiigAooooAKKKKACiiigAooooAKKKKACvGf2X/%2BS3/tHf8AZZrH/wBQrwvXs1eM/sv/APJb/wBo7/ss1j/6hXhegD2aiiigAooooAKKKKACiiigAooooAKKKKACiiigAooooAKKKKACiiigDz/9qv4K3X7Rn7N3jb4Hadr0elXnifw5dWOnanNCZY7S6ZCYJnQEF0WUIzICCygjIzmvMfAv7Nv7QXjC5%2BKuu/Ha70TwtqXxg0ldG1K5%2BGnjK5mufDFlb6cbW2lsbm602Lz7ppri8nMjxRLBmBQs%2B1mP0dRQB88fsR/sXeO/2SviB8T9S1347at4t0DxXqmjt4VsdSstJt2sbWy0aysAHj07TLKONwbbylSPdGIIYDtWQylvHP8Agop%2Bx54c%2BMXxm1Lwl4fn8RXmteM/2efH11b2uqeLdRv7WPULTVvCNxaC1tbmeSCxBmRAwto4w3G4NtGPuqvGfHH/ACkL%2BF//AGRnx5/6dvCFY4ihDE4edGe0k0/Rpr9TDFYanjMLUoVPhnFxfo00/wAz5K%2BEP7Qs%2Bi/Gv9nr/gorr94tx4W%2BNnw5tfhz45v3%2B7pWvwzM0MzN2WW6imiJbhQjMT0Ffo3X59fAD9nDwz8UPAX7Un/BKvxg62sOgeNZNY8EzOv/ACDrLVEF9p0kWOognj3Nt67ypxuxX0L/AME2/wBo/wATftB/s5w6Z8U0a3%2BIfgLUpvCvxDsZm/epqdmfLaZvUSoEk3D5dzOB92vncir1KU1Sq/8ALxOX/cSHuVY/NxVReUmfcU68%2BL/DPAZw9cVl6jg8Su8IuosPVt/iVWhN9/ZN6y1%2BgKKKK%2BoPjgooooAKKKKACiiigAooooAKKKKACiiigAooooAKKKKACiiigAooooAKKKKACiiigAooooAKKKKACiiigAooooAK8Z8cf8pC/hf/ANkZ8ef%2BnbwhXs1eM%2BOP%2BUhfwv8A%2ByM%2BPP8A07eEKAPZqKKKACiiigAooooAK%2BY/hH8Rx8Hv2CPiv8V/P8tvDfjb4s6nG2f44PFmvyKB7llAHua%2BnK/Or9sPx8/gb/gjn8VrKzuRFeeJPjX430SzLHAY3HxB1USD/vys1cWZYj6pl1at/LGT%2Bdnb8bHBmleeFyytVgryjCVrbt2ail5uTil5tHJ/8EJ/hg3xO8T2fxpvLbd4f%2BEvgSDwn4U3J8raxqDNqWrz4PSWNrkW5PdGA7V%2BoNfMH/BGr4e2/wAPP%2BCcPw3i%2ByKl3rdhca1qE235riS7uZZVkY9z5TRLn0QV9P15/DeF%2BqZLRT3klJ%2BskvyXKvkff8cKGDzz%2Bx6OlHL6dPB00tuXDQVKUv8AuJWVeq31dRX2CiiivdPjwooooAKKKKACiiigAooooAKKKKACiiigAooooAKKKKACiiigAooooAKKKKACiiigAooooAKKKKACiiigAooooAK8Z/Zf/wCS3/tHf9lmsf8A1CvC9ezV4z%2By/wD8lv8A2jv%2ByzWP/qFeF6APZqKKKACiiigAooooAKKKKACiiigAooooAKKKKACiiigAooooAKKKKACis3xn4x8K/Dvwfq3xA8c6/a6VomhabPqGsapeyhIbO1hjaSWaRjwqIisxPYA1yPww/ag%2BC/xh8D678QfA%2Bu6o1j4Ylki8Q2mreFtR03UNPdLaO62y2F5bxXSFoJYpUBi/eJIjJuDAkA9Arxnxx/ykL%2BF//ZGfHn/p28IV1nwV/aQ%2BEv7QDavbfDjVNXW90GWFNZ0fxH4V1HRNQs/OQvC8lnqNvBOscihikmzY%2BxwrEowHJ%2BOP%2BUhfwv8A%2ByM%2BPP8A07eEKAPPf20P2c/jf4L%2BLVr%2B35%2Bxl/pnj3RNIXTvF/gW4kxbeM9GjcyG3H9y7TJMbjk4VecBW8l0vxj4r8Xa7e/8FS/%2BCbETeIm1yGCz%2BN/wR1FBDeXk1omwmMAFoNRhQkBcESr8y7922T9Aq%2BX/ANoP/gn94ok%2BKl/%2B1R%2BxD8XJPhn8Tb9VbXLZ4vO0HxSUzhdQtQD85yR56AsNzNtLncPnMyyyrGbrYdNpvmcYtKUZf8/Kd9ObpOD92a7Pe8izrNeCM3qY/L6UcRQrpwxOGnrCtCTi5W1VpNxjL3ZQkpxhVpyjUj7/AK1%2By/8AtUfBz9rz4YQfFL4N%2BITc2xfyNT026Ty73SroD57a5izmKVT25BGGUspBPo1flj8QvGmkaH8b28afFW51T9kL9ou4YRy%2BK442ufAvjsryDO/zQsrcktJho9wLtI6gD6M%2BGH/BUiT4bX%2BnfDf/AIKG%2BAE%2BHOr35VNH%2BIGlO154P8RAjKzW18m4Qbh82yU4QYLOpO0LBcQUX%2B7xbUWtObVRv/eT96nJ/wAs1y3%2BGclY%2B4pcO5NxlSnjeCazr8utTBz0xtDq17N8rxEI62qUYufKk6lFO8n9hUVV0XW9F8SaTb6/4d1e1v7C8hWW0vbK4WWGeMjIdHUlWUjoQcGrVfRppq6PhpRlCTjJWa0aejT7NOzT9UFFFFMkKKKKACiiigAooooAKKKKACiiigAooooAKKKKACiiigAooooAKKKKACiiigAooooAKKKKACiiigArxnxx/wApC/hf/wBkZ8ef%2BnbwhXs1eM%2BOP%2BUhfwv/AOyM%2BPP/AE7eEKAPZqKKKACuO%2BPHxs8Nfs/fDqX4ieJtI1PVN2pWOmaZouiQxyXuqahe3UVpaWkCyyRx%2BZJPNGu6R0jQEu7oisw7GvL/ANrf4N%2BM/jP8MLCx%2BGt5pkXibw14w0XxLoEetzyRWV1caffw3JtZ5Io5HiSaNJIfNWOQxGQSBJNmxgDNh/bY%2BGS/s76r%2B0Lq3hPxLp66Jr7eH9V8H3VnbtrEGt/2gmnR6ZsineBppbqWGON1mMDieOQS%2BW2%2Bse5/b98Hx6HDaWXwO8e3njmTxrN4Vl%2BFdqmknXLbUotNXVZFkdtQFgsY094brzftZQpcQqGMsixnH8HfswfFdfgT8RfA/wAXPhn4C8T6n8Rtc1DxNquijxnf2%2BnpqM9wnkWKXSaf58UcFvb2hXUEjE32hGkW3iwuPPvhl/wT7%2BOvwLnsvjx8MbLwjc/EOT4o6l4p1jwnr/j/AFe70yS1vNBt9FNr/bdzaXF9cTqljZXRuprYmSTz49kaOjRgH1f8Hvit4O%2BOnwr8PfGP4fXc02i%2BJtIg1HTWuYDFKscqBgkkbcxyLkq6HlWVlPINfkx/wVb8e29p%2Bwz4X%2BEct6YTrf7RfxW1j5XwW/s/xNr4UfTzLuP8cV%2Bm3wC/Zoi%2BGP7JXh39mnxr4ovb2ay0FbbXdX8O6rd6TJPduxluZbaa2ljuLZTM8hTZIHVCAWPJP48/tS6LpXj34zeCv2UtNe%2BvdN0vx74q0Wzk1PVJ764F5qXxQ1WMJLPcO808rW1nuMkjs78lmJJNfMcYVZQyCpCO83GC/wC3pL/I9fhnBUs04xyjA1fgq4zDKX%2BCFaNep91PDTb6Wvc/aL9mLwP/AMKx/Zt%2BH3w4MPlnQfBOlae6Y5DQ2kUZz75U5ruaAABgCivpKVONKlGEdkkvuSX6HFjsXVzDHVcVV%2BKpOU36zlKb/GTCiiirOUKKKKACiiigAooooAKKKKACiiigAooooAKKKKACiiigAooooAKKKKACiiigAooooAKKKKACiiigAooooAKKKKACvGf2X/8Akt/7R3/ZZrH/ANQrwvXs1eM/sv8A/Jb/ANo7/ss1j/6hXhegD2aiiigAooooAKKKKACiiigAooooAKKKKACiiigAooooAKKKKACiiigDzD9tT4Q%2BKvj5%2ByZ8Q/g74Fe1Gt%2BIPCl5a6PHfSlLea6MZMUUrAErE7hUdsHCsxwcYPA/AmP48aX8Tvip%2B0b4v/Ze8T6NceNLeyXQ/B0%2Bu6JLeKuladhftEkN%2B9uk13cTzQxbJZFVLeN5nh3bV%2BjaKAPnX9gTw/8AG68fxl8Z/wBqL4G%2BJfB/xJ8Z3NlNrw1jUdHuLGC1hSVbTStNOnX90zW1mrybpZxE8811NMEUSeVC%2B/8ABfiTw9/wU28F%2BItW%2BLniHXbPVvg944ew0HVbbTktNFC6t4Syls1taRTuH3DP2iWc/INpX5s/Q9eM%2BOP%2BUhfwv/7Iz48/9O3hCgD2aiiigDH8d/D7wJ8UfC914I%2BJPg3S9f0e9Tbd6XrFjHc28o/2kkBU%2BxxxXyR8Qf8AgkHpvhfS9Ts/2Mvj5rHw/wBN1Qs%2BofDrxFaJ4h8J3xJyyvp95u8vcergtt42qMCvs%2BiuHF5bgsdrWhdrZrSS9JKzt5arumceIwGFxNaFeScakNYzi5QqRa1TjODjOLT10lv0PyF1D4B/8FQf2ANUufEnwW%2BFuv6LYJM093D8JL8%2BJPDGoN1J/sO9b7VaM3V5UfCjhEUAY9J%2BA3/BxN4MtNRXwN%2B2L8IbnQtTt5hb3eu%2BEY5ZbfzcAsZLG6CXVuo6HHmnPSv0xrjPi1%2Bzr8BPjzY/2d8aPgz4Z8Ux7NqHXNEhuXjH%2Bw7qWQ%2B6kEV4S4fzDAO%2BW4pxX8k1zR/C1vkkfXz4y4jxlP2ecqlmSWiniIuGJS6f7Zh/Z1Z2/wCoiliNtZGZ8B/2u/2Zf2ndNTU/gN8bvD/iTdHvezsr9Vu4V9ZLZ9s0X/A0FejV8SfE7/ggJ%2BwL4y1H%2B3/h1p/iz4falHJ5tvdeEvEchWKUchgt0Jtoz2Qpjtiq2k/sN/8ABVv9nqKK2/Zu/wCCk1n4y02KYMmgfF3w%2B0yiMdIzeL9onIxxhPLHpjFdtPHZ3h1bFYXm/vUpJ/8Aks%2BWX3NnzeMx2F5uajha0PLmpVkvSUfYzf8A29Tvt5s%2B5KK%2BGNV/bf8A%2BCuHwHill%2BPX/BM2w8aWkUhU6v8ACnxKzq6j%2BNbXF1cEf7wT8KxtG/4OJP2UtM1Y%2BGPjT8Evid4J1WI4urbUdDgkWE%2B485Zf/IVN8SZRSfLXm6T7TjKH4uNvukzKnUr1KbqLD1uVbv2NVpesoQqxS7ttJdz9AKK%2BV/Bv/Bav/gmj4zKQxftK22mTsBut9c0K/symfV5IBH%2BTGvV/CP7b37Gvj3Yvg79qz4dahI/3YLfxlZGX8YzLuH4iu6jmmWYj%2BFXhL0lH/M5KOcZRiHaniIN9ueN/uck/la56jRVTSNe0PxDai%2B0DWbS%2BgPSazuFlQ/ipIq3Xcmmro9BNNXQUUUUxhRRRQAUUUUAFFFFABRRRQAUUUUAFFFFABRRRQAUUUUAFFFFABRRRQAV4z44/5SF/C/8A7Iz48/8ATt4Qr2avGfHH/KQv4X/9kZ8ef%2BnbwhQB7NRRRQAUUUUAFFFFABX4ifsx%2BGb74j/8FZ7/AE2/BnguP2vvF0umgjIhXQb7V76UZ/66X6N9a/buvyu/4J0/DN0/4Kra8k0K40/xR8XfGrkEHZLe%2BNr3R1yR0Yw2anHXFfO8RUHiI4WHT20P1/yZ9hwFhXLib%2B0Htg8Nja/pJYSrRpv/AMDxSsfqjRRRX0R8eFFFFABRRRQAUUUUAFFFFABRRRQAUUUUAFFFFABRRRQAUUUUAFFFFABRRRQAUUUUAFFFFABRRRQAUUUUAFFFFABRRRQAV4z%2By/8A8lv/AGjv%2ByzWP/qFeF69mrxn9l//AJLf%2B0d/2Wax/wDUK8L0AezUUUUAFFFFABRRRQAUUUUAFFFFABRRRQAUUUUAFFFFABRRRQAUUUUAFFFFABXjPjj/AJSF/C//ALIz48/9O3hCvZq8Z8cf8pC/hf8A9kZ8ef8Ap28IUAezUUUUAFFFFABRRRQAUUUUAFYfjv4Y/Db4paUdB%2BJvw90PxHYkEGz13SYbuLnr8kqsP0rcoqZRjOPLJXXnr%2BZrQr18NVVWjNwktU4txafdOLTXyaPlj4jf8EYf%2BCd/xAuZNU0/4Ht4V1GQEDUPBms3OnMgP92KN/JH/fuvDvGH/BvV4DtPNl%2BDn7Rtxal2LeX4%2B8AaT4gd/wDZM7RQygdsgkiv0YorxsRw5keJd5YeKfdLl/8ASbfkfWPj7iutD2eNrrFR25cVSo4pWXT/AGmjWlbyVRH5Pav/AMEUP2hPAl0dR0r9n/4H%2BM1j%2B7eaF4s8R%2BHNUf6KtybRP%2B%2BevtVX/hnP4%2B/C0bPFn7Kf7Xvg2OL/AJefg78f4NcBH95IvL3Af7JOa/WuiuB8I5dB3oylH/wF/pF/%2BTHI8z4Lxbvj%2BGsDNveVGFbCS9b4bEKF/P2fyR%2BSq/HjwZ4DITxf/wAFHP2wvhcy8Ffiz4CkvPKP%2B3shfNd34J%2BP3izxNsPw4/4OLPCDK2PLtPGfwu0e1ZvQF7p4nB/DNfpcyq6lHUEEYII61wvjb9lv9mb4lbz8Q/2ePA%2Bul/vPq/hSzuGJ9cyRk596X9gY2l/Dqp/OtD/0irJfgL%2BzvB3FfFl%2BOwz/AOnOO9ol6Rrwi/vmfMvhDTv%2BCnnihFf4Yf8ABR74G%2BNlIyjHwjGQ49f9Dlb9K6A6X/wXH0n/AI8/FP7MWrKOv2%2By16B2H/bLjNdB4v8A%2BCPf/BNjxqzSap%2Bynodq5OQ%2Bi3t3p5U%2BoFrNGB%2BVYH/DnL9nrQ/%2BSVfHP41%2BBdv%2Bq/4RL4oXcPl/TzhJR/Z%2Bb0%2Bkn/hxEl%2BFSm/zD/U/wtxH%2B755j6HlUo%2B0S/7eo15N/wDgCE/4Tb/gtlpn/H98Ev2fdUx1/s3xJqkGfp5wo/4Xp/wWF0//AI/P2EfhxqOOv2D4nrDn6ealL/w7o/aZ8MjHwx/4Kq/GG02/6v8A4SqGz1vH181U3Uf8M4f8FbfC3/Ivf8FIPCXiYL9xPE/witbTI9C1pIT%2BNHJmUPiWIXpOjP8ARP8AAP8AiG%2BQVv8AdOLIelWOJpP/AMmwlWK%2BchP%2BGqf%2BCr1j/wAfX/BKXSr7H/Pl8c9Liz/38io/4bS/4KU2v/IU/wCCQOqJjr9k%2BNWjz/yjFL5X/Bb/AMM/6u6/Zr8TwL18yPW7K5f8v3Yo/wCF9f8ABX7w5/yGf2Bvh94k29f%2BEe%2BKUdnu%2Bn2pDj8aPbYiPxVcTH1pQf8A6TGQf8Qnzip/uvEOFqemLwsfwrYejb5sT/hvD9uyD/j/AP8Agkl41X1%2Bz%2BP9Ml/kBR/w8G/a9h/4/P8Agk/8Tl/646/YSfyNL/w3P%2B31on/I7/8ABJDxZBt%2B%2BdB%2BJOl6n%2BXlquaP%2BHoPxB0b/kc/%2BCYn7R1vj750bwVFqIH4pOuaPrkV8WMqR/xUbf8AuIP%2BIO%2BIkv4GKjV/wYjLp/liIif8PFv2nI/%2BPj/glR8YB/1zuLJ/5PR/w8f/AGil/wBZ/wAErfjUP92K0P8A7PS/8Pg/gtp//I3/ALM/x68PY%2B//AGz8KrlNv12O9H/D7b/gnzY/8jX8QfE2g4%2B9/a/gDVU2/XZbtR9fw63zK3rGC/OMQ/4gx4vP%2BHh8TP8AwUaFT/03Op%2BAn/DyL9oX/pFf8bf/AAHtP/jlH/Dx/wDaLP3P%2BCVvxp/GO0H/ALPWtpX/AAWc/wCCZWs4%2Bx/tWaWmen2vRdRg/wDRtstdJpf/AAVI/wCCeGr4%2ByftgeB0z0%2B1ausH/owLWsMVSn8OZxf/AIJ/zOGv4UeK%2BF/jYXGR9cE//lTOF/4eNftKt9z/AIJVfGT/AIE9mP8A2el/4eL/ALTOM/8ADqn4xf8Af6y/%2BLr1nTf2%2Bf2GdXwNP/bI%2BFrseiHx7p6t/wB8mYGt7T/2qf2YNWx/ZX7R/gK6z0%2Bz%2BMLJ8/lKa6IqpP4cwT9FR/zPIrcEcdYf%2BMsTH1wjX50EeD/8PH/2io%2BZ/wDglb8aR6%2BXFaP/ACej/h5p8YLfnUP%2BCXP7QKgdfs3h23l/lKM19KWHxd%2BE%2Bq4/sz4n%2BHbnPTyNagfP5PWxZazpGpDOnarbXAPTyJ1f%2BRraOFx0vhxjf/blNnmVck4hw/8AExVSP%2BKjBfnGJ8p/8PVdbtf%2BQr/wTM/alT1Nr8Lln/lcil/4e4%2BEoeNT/YR/acsj3F18IZBj8pzX1pRV/VM1W2K/8pQ/%2BSOf6jnS2xv30af6SR8lf8PgfhAnF1%2Byv%2B0DAf7svwouAf0kNH/D4T4MtxF%2BzB8fZG7InwpuMn/x%2BvrWij6rm/8A0Er/AMFR/wDkw%2Bp57/0GL/wTH/5M%2BSv%2BHungmfjS/wBh79pe%2BJ6LafCOQk/nMKqfBP8Aaum/af8A%2BChXgx3/AGaPit8O49F%2BDPjLy2%2BJ/hL%2ByjqPnat4Vz9mHmv5nl%2BUN/Tb5sfXdx9gV4z44/5SF/C//sjPjz/07eEK1oYfMIVVKriOZdvZxjf5ptm%2BGwuaU6ylWxXPHrH2UI3%2Bak2u%2Bh7NRRRXoHqBXHfHj42eGv2fvh1L8RPE2kanqm7UrHTNM0XRIY5L3VNQvbqK0tLSBZZI4/MknmjXdI6RoCXd0RWYdjXl/wC1v8G/Gfxn%2BGFhY/DW80yLxN4a8YaL4l0CPW55IrK6uNPv4bk2s8kUcjxJNGkkPmrHIYjIJAkmzYwBmf8ADbnwutf2bNe/aV17wv4j0u28MancaTr/AIVvbW3/ALWstVhvBZmwZY52tzI07RqkgnMDLKkvm%2BW2%2Bub/AOHjHguW0h0ax%2BAPxDuPGsnji88KSfDlBoy6nDf2umJqsxa4fUl05o1spYZdyXbE%2BYEA8xXROa1H9kD9ozxP%2By/8SvhVr0vgq28RfE3xLP4m1uKDXLufTJZJdQhaTQZC1mkjWUum2sVnLeBRIxuJ3W2TCqfO5P8AgmV8Tf8AhCINGvfgJ8DdW8Kj4naj4kT9nPUdTuB4L022uNGt7CNLef8Asl8yJdRXV/s/s9ITLqU%2BFWRFnYA%2Byvgt8WvB/wAfPhB4W%2BOHw%2BluX0Lxh4fs9Z0d7y2MMptrmFZo96HlW2uMjse5618Hf8EgLO58W/t5/tV%2BNLuI7PCvxA1rw7YSHoyz%2BKtdvpQPoxXP1FfY/wADf2ftY8FfskeFP2bviv491TWr7SPCFnpGs69o2u32n3M8kUSqzQ3cMyXUYBXCyeaJSoG5iSxPzX/wQ/8AhdZ%2BAtD/AGj9WtWvXS6/ap8b6dZz6nqU97cy2tlqk0UbS3Fw7zTvuaXdJI7OxBZmJJNedjabq4rDLopuT%2BUJW/Fn2fDGNhgcjzqT%2BKph4Ul/3ExVDm%2B%2BNNp%2BTPuSiiivRPjAooooAKKKKACiiigAooooAKKKKACiiigAooooAKKKKACiiigAooooAKKKKACiiigAooooAKKKKACiiigAooooAKKKKACvGf2X/wDkt/7R3/ZZrH/1CvC9ezV4z%2By//wAlv/aO/wCyzWP/AKhXhegD2aiiigAooooAKKKKACiiigAooooAKKKKACiiigAooooAKKKKACiiigDx7/goOfHI/Yc%2BLB%2BG/wDaf9sf8IFqf2f%2BxN/27Z9nfzfs3l/P5/leZ5ez59%2B3b82K%2BbPhF4l%2BHmnfDH9p7w1/wTk1/wANQeHdS8LTP8FbDwLdW62F14li8O5vDpKQny3CSvpplMAKrctLvxKZa%2B9KKAPjf/gmWf2fD8Y/Hv8AwxadI/4VP/wrfwV5n/CObfsP/CVb9Z/tLzNnH9o/Y/7I%2B17v3u7yfM/eb69Bv9S%2BK93/AMFNvBdn428F%2BHtP0K3%2BD3jgeGtR0rxPPeXd%2Bh1bwl5jXNtJZQpaEYTASa4DbjkrtG76Hr5w/aP1f416P%2B3h8J5/gd8P/C3iLUm%2BEfjtbu08V%2BMLnRYI4P7U8JEuktvp96zvu2jYY1GCTvyApAPo%2BivGf%2BE4/wCChf8A0a/8Gf8Aw/Grf/MvR/wnH/BQv/o1/wCDP/h%2BNW/%2BZegD2aivGf8AhOP%2BChf/AEa/8Gf/AA/Grf8AzL0f8Jx/wUL/AOjX/gz/AOH41b/5l6APZqK%2BcdJ/aO/bt1j4z6/8Drf9lD4SLqnh3wvpGu3ly/x11TyJINRudSt4UQjwxuLq2lzlgVAAePBYlgvUf8Jx/wAFC/8Ao1/4M/8Ah%2BNW/wDmXoA9morxn/hOP%2BChf/Rr/wAGf/D8at/8y9H/AAnH/BQv/o1/4M/%2BH41b/wCZegD2aivGf%2BE4/wCChf8A0a/8Gf8Aw/Grf/MvXL%2BAf2jv27fiJ4r8b%2BENH/ZQ%2BEkNx4D8URaFqslz8ddUCTzyaVp%2Bph4tvhgkp5OowqSwU70cYwAzAH0dRXjP/Ccf8FC/%2BjX/AIM/%2BH41b/5l6P8AhOP%2BChf/AEa/8Gf/AA/Grf8AzL0AezUV4z/wnH/BQv8A6Nf%2BDP8A4fjVv/mXo/4Tj/goX/0a/wDBn/w/Grf/ADL0AezUV84/CL9o79u34y%2BFLvxf4c/ZQ%2BEltb2fijW9CkjvfjrqiuZ9L1W60ydxt8MMNjTWkjIc5KMpIU5UdR/wnH/BQv8A6Nf%2BDP8A4fjVv/mXoA9morxn/hOP%2BChf/Rr/AMGf/D8at/8AMvR/wnH/AAUL/wCjX/gz/wCH41b/AOZegD2aivGf%2BE4/4KF/9Gv/AAZ/8Pxq3/zL1y/wR/aO/bt%2BPHwY8IfHHwr%2Byh8JLXS/GfhfT9d0221D466os8MF3bR3EaSBPDDKHCyAMFZhkHBI5oA%2BjqK8Z/4Tj/goX/0a/wDBn/w/Grf/ADL0f8Jx/wAFC/8Ao1/4M/8Ah%2BNW/wDmXoA9morxn/hOP%2BChf/Rr/wAGf/D8at/8y9cv8bv2jv27fgP8GPF/xx8VfsofCS60vwZ4X1DXdSttP%2BOuqNPNBaW0lxIkYfwwqlysZChmUZIyQOaAPo6ivGf%2BE4/4KF/9Gv8AwZ/8Pxq3/wAy9H/Ccf8ABQv/AKNf%2BDP/AIfjVv8A5l6APUtW8DeCtez/AG54P0u93fe%2B16fHJn/vpTXN6p%2BzH%2BzZrmf7a/Z78D3mev2rwnZyZ/76jNcj/wAJx/wUL/6Nf%2BDP/h%2BNW/8AmXo/4Tj/AIKF/wDRr/wZ/wDD8at/8y9ZSoUZ/FBP1Sf5pndQzPM8L/Ar1If4Zzj/AOkziXdS/YK/Yc1fJ1H9jj4WyMernwDpwb/voQ5rB1D/AIJhf8E9dTz9p/Y98Brn/n30GOH/ANF4rI%2BLv7R37dvwa8KWni/xH%2Byh8JLm3vPFGiaFHHZfHXVGcT6pqtrpkDnd4YUbFmu42c5yEViAxwp6j/hOP%2BChf/Rr/wAGf/D8at/8y9c8sty6fxUYP/tyP/yJ69HjTjLD/wALM8TH0xFf/wCXHJ3/APwSC/4Jsaln7R%2ByZ4eXP/PvcXUX/oEwrGvf%2BCJH/BL6/OZv2W7dD6weKtXix/3xdivRf%2BE4/wCChf8A0a/8Gf8Aw/Grf/MvR/wnH/BQv/o1/wCDP/h%2BNW/%2BZesZZLk0t8NT/wDAI/5Hp0vE7xJofw86xa9MTW/%2BWM8y/wCHIn/BOiD/AJBHwm1zT/T7H491dcf99XJo/wCHLv7GkHGlaj8RbDHT7J8R9RXH5yGvTf8AhOP%2BChf/AEa/8Gf/AA/Grf8AzL1y/j79o79u34d%2BK/BHhDWP2UPhJNcePPFEuhaVJbfHXVCkE8elahqZeXd4YBCeTp0ygqGO90GMEssf2FkvTDwXpG35NHR/xFbxMfxZxiX/AIqrl/6VGRzX/DnP9niH/kGfG/41WXp9l%2BKN2MfmDR/w6H%2BG0X/IO/bF/aMs/T7N8WZhj84jXpv/AAnH/BQv/o1/4M/%2BH41b/wCZej/hOP8AgoX/ANGv/Bn/AMPxq3/zL0f2FlH/AD5X/ky/KaD/AIip4iPfMqj9VRl/6Vh5HmP/AA6a06L/AI8P%2BCiX7VNr6CD4wED9bY1T%2BCv7Kt5%2BzJ/wUL8Frc/tMfFP4irrXwZ8ZbB8TPFQ1M6f5OreFc/ZyI08vzPNG/ru8qPpt59a/wCE4/4KF/8ARr/wZ/8AD8at/wDMvVDwP4H/AGrPGP7Vnhz43fG74cfD3wzo3hn4e%2BIdDhh8K/EO%2B1q6u7rUr7RLhGZLjSLFIo0TS5QWDuxaVAFxkjahlWX4aqqlKFpLzn%2BTm1%2BB5%2BacfcX53gZ4PHYr2lOdrp08Or2aa96GGpzWqW012d1dP3WiiivQPjwooooAKKKKACvBv%2BCdnhXS/DHwV8XTacG36r8efiVfXbNj5pW8Z6wnbsFRR%2BFe818lfsleLP2ztP8Ah74os/hj8A/hhq%2BhJ8afiL/Z%2Bo698XdR027mX/hM9ZLGS2i0C5SIhtwAEz5AByCdoTim030LjUqQhKCekrXXezuvuep9a0V4z/wnH/BQv/o1/wCDP/h%2BNW/%2BZej/AITj/goX/wBGv/Bn/wAPxq3/AMy9Mg9morxn/hOP%2BChf/Rr/AMGf/D8at/8AMvR/wnH/AAUL/wCjX/gz/wCH41b/AOZegD2aivnH4I/tHft2/Hj4MeEPjj4V/ZQ%2BElrpfjPwvp%2Bu6bbah8ddUWeGC7to7iNJAnhhlDhZAGCswyDgkc11H/Ccf8FC/wDo1/4M/wDh%2BNW/%2BZegD2aivGf%2BE4/4KF/9Gv8AwZ/8Pxq3/wAy9H/Ccf8ABQv/AKNf%2BDP/AIfjVv8A5l6APZqK%2Bcfjd%2B0d%2B3b8B/gx4v8Ajj4q/ZQ%2BEl1pfgzwvqGu6lbaf8ddUaeaC0tpLiRIw/hhVLlYyFDMoyRkgc11H/Ccf8FC/wDo1/4M/wDh%2BNW/%2BZegD2aivGf%2BE4/4KF/9Gv8AwZ/8Pxq3/wAy9H/Ccf8ABQv/AKNf%2BDP/AIfjVv8A5l6APZqK8Z/4Tj/goX/0a/8ABn/w/Grf/MvXL/F39o79u34NeFLTxf4j/ZQ%2BElzb3nijRNCjjsvjrqjOJ9U1W10yBzu8MKNizXcbOc5CKxAY4UgH0dRXjP8AwnH/AAUL/wCjX/gz/wCH41b/AOZej/hOP%2BChf/Rr/wAGf/D8at/8y9AHs1FeM/8ACcf8FC/%2BjX/gz/4fjVv/AJl6P%2BE4/wCChf8A0a/8Gf8Aw/Grf/MvQB7NRXzj4%2B/aO/bt%2BHfivwR4Q1j9lD4STXHjzxRLoWlSW3x11QpBPHpWoamXl3eGAQnk6dMoKhjvdBjBLL1H/Ccf8FC/%2BjX/AIM/%2BH41b/5l6APZqK8Z/wCE4/4KF/8ARr/wZ/8AD8at/wDMvR/wnH/BQv8A6Nf%2BDP8A4fjVv/mXoA9morxn/hOP%2BChf/Rr/AMGf/D8at/8AMvXL6t%2B0d%2B3bo/xn0D4HXH7KHwkbVPEXhfV9ds7lPjrqnkRwadc6bbzI5PhjcHZtUgKgKQQkmSpChgD6Oorxn/hOP%2BChf/Rr/wAGf/D8at/8y9H/AAnH/BQv/o1/4M/%2BH41b/wCZegD2aivGf%2BE4/wCChf8A0a/8Gf8Aw/Grf/MvR/wnH/BQv/o1/wCDP/h%2BNW/%2BZegD2aivnHSf2jv27dY%2BM%2Bv/AAOt/wBlD4SLqnh3wvpGu3ly/wAddU8iSDUbnUreFEI8Mbi6tpc5YFQAHjwWJYL1H/Ccf8FC/wDo1/4M/wDh%2BNW/%2BZegD2aivGf%2BE4/4KF/9Gv8AwZ/8Pxq3/wAy9H/Ccf8ABQv/AKNf%2BDP/AIfjVv8A5l6APZqK8Z/4Tj/goX/0a/8ABn/w/Grf/MvXL%2BAf2jv27fiJ4r8b%2BENH/ZQ%2BEkNx4D8URaFqslz8ddUCTzyaVp%2Bph4tvhgkp5OowqSwU70cYwAzAH0dRXjP/AAnH/BQv/o1/4M/%2BH41b/wCZej/hOP8AgoX/ANGv/Bn/AMPxq3/zL0AezV4z%2By//AMlv/aO/7LNY/wDqFeF6P%2BE4/wCChf8A0a/8Gf8Aw/Grf/MvVv8AZW%2BHPxp8H6x8UPHfx00DwvpOqePviFFrlnpXhPxLc6tb2trFoOj6YqvcXFlZs0jSadK5URbQsiDcxzgA9booooAKKKKACiiigAooooAKKKKACiiigAooooAKKKKACiiigAooooAKKKKACvlf9p79rT4ufDD4x%2BLNa8A%2BHfB8nhj4P%2BH/AA/e%2BNTrWkXE2q6pb6vfypcwWFxHcRpZeRbWcdxmSKcXMhSMiHy/NP1RXjPxn/Yh%2BHHxu%2BKR%2BJmueOfFWlxaja6Ra%2BL/AA1o11app3imDS72S9sYr5ZbeSYLHNNLn7PLAZY5DFMZYwqAA9mooooAKKKKAPmPw5%2B0r8TIf2//ABR8H/iNrHh7wn4bXxBaaJ4Mi1H4Rayl14xgGgQajiDxG12unNLHd3OoAWgheTy7SYBQWaRfpyvK/Fn7LUHj/wCMmkfFPx78b/Gur6V4e12PWtA8AXB0yLRrHUI7d4I5w0Nkl7Ls8ySRUmupIxI%2B7Z8iBfVKACiiigDxf/goL8Xfjh%2Bz9%2ByP40%2BPXwCvfCkeseCdCu9cuoPGGi3N9bXdpa20sz26JbXVsySuyIokLlUBYlH4Fef%2BPP2tPi54L%2BPHi3U/Cnh3whF8PPCHxj8I/D7xlZzaRcHW9V1XXYNFSPUIbtLhYY44P7c0mMxSW8ryJDPiWPagr2H9rH9nGy/a0%2BBGvfs%2B618VfFPhHSfE9lLY65f%2BEF077Xc2UsTxTW26/tLqNEdX5ZEWQFRtdec8XB%2BwD4On%2BItn8RfFXxx8fa6x1nSdc8TaNqEulRWPifXNMSNLHVr2O2sImW4iEFphbZoIGNjbF4mMeSAe90UUUAFeL/tk/F344fBK18A%2BMfhZe%2BFP7G1D4meHPD3i%2Bx8QaLc3N1c2uq6zY6aDZyw3UKW0ka3Msm%2BRJ1JRF2ck17RXlX7V37Lb/tVeG9C8Lz/H3xv4Gt9C8SWGuo3guHR2e7vbG8gvLNpTqWn3g2xXFvG4WMIG5WTep2gA84/Z5/aV%2BJmt/tVeLfgj8UNX8PeE9Oh8U63b%2BCfCUnwi1nTLnXraF0lN/b61cXf2DUHYyTSyxW0BfkuxXDE/TleS6T%2ByiH%2BMmi/GX4j/ALQHjvxrN4Xu7y78J6F4hGkw2Gj3VzbyWslxEthp9tLK/wBnmnhXz5JVRZ32gEgj1qgAooooA8P/AG7vi58eP2fvg1q/x1%2BFHjHwLY6f4W0W5vL3RfFnhm9v7nxDe5RbPTLOS2vYPs81xKRbo3lXTNLPEFhY/K3n/wAEf2vvjPrnxL8Ff2t4M8JaR8NPG/xP8UfDbwr4a07S5o9X0S/0CHVt889yLhreaCRvD%2BposMdvEY1a2PmSZYD0/wDaV/ZBg/aS8eeCPiBN%2B0D478IXPgG7ub3RbHwxFo09nJeyoI1vJoNT068R54Y/MWGQBTGJ5SPmbIq%2BA/2Gvh74D%2BMtv8XYfiL4u1KDTtd1PXtE8Ialc2X9k6VreoxvHqGqQJFapP584nuyyvM8KNfXJjij8zgA9rooooAK%2BX/2ufjx%2B0v8FviJp/hTSofAHjXR/HMOtW2i/DmLwffSawlraaHdXcl/cTi9eK6thdRW9tJCLWIH7fCgmMjIkn1BXh037E1xH%2B0f4r/aa0T9qv4l6dq/i3TYdOudLhg8Pz2mn2cMDRw21m1zpMtzbxLK73WxZtrzuXcODtoAZ%2Bwh%2B0H43%2BPfw9vLr4r%2BPtGvvF2nCzbX/Ddl8LtX8I3mgPPbLKILmy1e6nuHBbf5dwAkciodobaTXuleb/A79m7Tvgz4n8SfEPWPil4p8ceKvFcVjb6x4n8XNYLcvaWYm%2By2qRafa2ttHFG1zcuNsIZmuJCzNkY9IoAKKKKAPjn/AIKCftx/FT9jDxz/AGnrmi6B4x8Ivo2o63b%2BFZfhzqdlLbppujX2pJJ/wkU10%2BmT3f2vTRssVgS6EcyygbYWkb179mj4u/HPVvip43/Z6/aOufCmoeJ/COk6HrUeteCtIubCxubHVBeRpEYLm5uXWWK4067Uv5uJEMTbIySorfHX9hLwR%2B05rV1a/H/4t%2BNfFHgu5kuJF%2BGV5JpsOixSTWM1kzb7eyjvpAI7iZgkt06B33bfkQL0/wCz5%2BzNpHwDvNe8RXfxQ8WeOPEfiQ2cereKvGtxZvfS21pEYrW1H2O2t4ViiDysMR72eeV3Z2cmgD0qiiigAr4j/an/AGyv2s/g38avEHwo8HeG/DnjXU7DRbjXfDAT4H%2BII5NFA1HTLVDC325x4mkFjqlx539l%2BU8LQlZRGJhHX25Xh%2BvfsW6n4l8en4na1%2B1z8UZtb0%2BC8i8G3hTQAPCq3U0Mk/2SMaTsnZo4Ft916t0yxM4Uq7s5AOq/ZY%2BLD/GT4RweLL34maN4qv4dRurLVL7RvBl94dFtcRSsrWs2m6hcT3VnPGMK8czh8/NtUMBXo1cN8A/gL4e%2BAHhnU9G0rxTrfiDUdf1641vxJ4k8RzQNe6rfzBEaeUW8UMCYjihiVIYo41SJAFGCT3NABRRRQAUUUUAFFFFABRRRQBR8UeIbDwl4a1HxXqoc2umWM13ciJct5caF2wO5wpr5z/Ym/aT%2BNfj/AMU6P4M%2BNnh7wZZjx18LbL4jeGYfBmlXFoNMjvLgm70%2B7M1xKLuaN7m2f7YggE7SzEwR7QX%2Blru0tb%2B1lsb23SaGaNo5opVDK6kYKkHggjjFeQ/szfsV%2BAv2YNVfV9A%2BIPi3xLLbeGLHwz4dHiy9tZhoGhWbyPb6bam3t4S0amT5pZzNcSCOLzJn8tcAHsVFFFABXC/tQePPiL8LP2aPiJ8Tvg/4UXXvFvhzwLq%2BqeFtDaxmuhqOo29nLLbWxhgZZZhJKiJ5cbB23YUgkGu6rO8W6Jf%2BJfDGoeH9L8V6joVze2kkNvrWkLA11YuykCaIXEUsRdTyBJG6ZHzKwyCAeXfsU/Fqf4ofDO%2BstW%2BIXh/WdT8O6qunXmmaJ8MNT8HPoaC2gkis7jStUuZ7mFwjiRXby0eKWLYmBvf2KvPPgP8As7aT8DrzxL4jufiJ4k8Y%2BJPF%2Bow3niLxT4rezF3dGG3S3giEdjbW1tFFHGgCrHCmSzsxZmZj6HQAUUUUAfLn7VH7WPxQ/Zw%2BL3jiy%2BJWjeEvEXwvsP2d/F/j220K30S4TVXbRBpaz21xcyXL280U6304CC2QqETLvlhXb/sz/F/4%2Bap8XPGX7Ov7Sz%2BErzxR4Y8MeHvEseq%2BCtJubGykstWfUrdbYw3NzcuZYbjSLsGUSBZEeJvLjO5ag%2BMf7Cvh346fHVvjL48%2BO3jmXTZvBWp%2BEb74ewwaL/Yl3o2pLbfb7SQvprXpE7WkDs4ug6lCEZEZkPSfs7/su6H%2Bz7fa14jn%2BKHi3xv4h1%2B1sLK/8T%2BNrm0kvTYWKSLZ2Y%2ByW1vH5URnuHBKGR3uZXd3Zs0Aen0UUUAFfInxr/aX/a28Ga7%2B0B4Et/CvgzxZe%2BAvD/hTxJ8NrHSfh/qd/Oseo6rqUIS8tYrx5dRngXTY51NsLclyQq/KrV9d14XL%2BxR4hi%2BOnjb4/wChftofFbStW8b6RY6Zc2NlZ%2BGGtNNtrK4uZ7NLYS6K8n7o3l0oMzyl1nIk8wqhUA6v9lT4tzfGX4UjxNqPxO0bxTqNrqtzY6tdaP4Iv/DZs7iJvmtZ9M1G4nurSdFK7kmYMQyttVWFek1wnwD%2BAegfAHQtZsdP8W654j1XxN4gl1zxP4m8SS27Xuq38kMMHmyC2hhgjCwW9vCqRRRoqQoAuck93QAUUUUAfG37S37Xf7S37PHxmg%2BG2sp8M/Gt9rcEE3hGHTvC17aS%2BC7zUvEOmeHtIm1OV76YXUU7avOC0S2cjixuljDL5hi9x/ZV%2BL/xI%2BIw8f8Aw%2B%2BMR0SfxV8NPHjeGtZ1Xw1p01nYan5ml6dq1vcQ28088lvm11S3R42mlxJHJhiCMcLbf8E1fCTXXxDfxD%2B0v8TtZt/iTrx1zWLfUjoXmWepRXEM%2Bn3NtdRaWl0psHt7cWkbzSRRLCgZH5z6x8A/gLofwD8Patptl4v1zxJq3iLXpta8T%2BKPEr2xv9XvpI4ofOmFrBBAuyCC3gRIoo0WOCNQvBJAO6ooooAZc/afs0n2PZ52w%2BV5udu7HGcc4zXxB8Vv2uf20/hp8RNc%2BG1vbeA/GeveGL3w1b6t468EfBXX9Wj8OW%2BrNePe2EulWepT3dzNHDZWN0TFOn7u6haWBAYmk%2B3ruGS4tZbeG6kgeSNlWeIKXjJGAy7gVyOoyCPUGvnv4MfsBeIPgJ8Nrj4afDv9ur4xRR3WrPqc2s3ll4Tn1CW7leWS5nmmfQj9pkneXdJJOJHzGmwoBggHrPwE%2BIdl8Vvg74f%2BIVh8QNG8VJqeniR9f8P6TNYWl3ICVkKWs800tsVdWRoZJHeNlZWO5SB19cl8C/gv4S/Z9%2BF%2BnfCnwVc39xZWEt1cTX2q3Imur67urmW6urqZwqhpZrieaV9qqu6Q7VVcKOtoAKo%2BJ4fElz4b1C38G6nY2WryWUq6XeanYPdW0FwUIjklhjliaaNWwWRZIywBAdSdwvVm%2BMdBv/FHha/8O6X4t1LQbm8tXig1rRxAbqxcjiaIXEUsRdTyBJG6HHzKwyKAPh74b/t2fta/GD4p638EvhZpvw%2BTxnptrrt9J4z8V/C7WtDXVNM0i10WVLGXRLy%2BTUNPle78Q7EmnmePyoZLhIXWdAfsb4BfFrTfj58CfBXx10bTZbOz8a%2BEtN160s5n3PBFeWsdwsbEAZKiQAn1FeLav/wTI8D61rl98Rbv9pT4pp8QNWS8tda%2BJNte6RDq1/pl1bWttNphRNNFnDbFLK0YeRbRSrJAsqyhyzH6D8F%2BD/DXw88HaT4A8GaTFp%2Bj6HpkGn6TYQ52W1tDGscUa55wqKqj6UAadFFFAHL/ABp1Hxxo3wt1rW/hz4hsdL1awszdQ32oeD73xAiRxkPKBp1jPBc3kjRK6pFDIHLsuFc/I3xb8Jf%2BCiPx%2B8SeNND1PxvceEfAngzUp518QeOLz4GeIprbWL%2BHX7rSES5lW%2BjTwzPJa2lr%2B41RpJYHlWN87AlfbfxM8Ga7498JTeHPDfxS1/wbeSSxvFr/AIZisXu4NrAlVW/trmBgwBUh4m4Jxg4I8Vuv%2BCc3hTUPB9x8NtW/aQ%2BJt34Y1zUJr/x5oE1xo4i8YXc9411cTX0q6aLiLzSywtHZy2sQhiSNUUbtwB9E0UUUAFFFFABRRRQAUUUUAFFFFABRRRQAUUUUAFFFFABRRRQAUUUUAFFFFABRRRQAUUUUAFFFFABRRRQAUUUUAFFFFABRRRQAUUUUAFFFFABRRRQAUUUUAFFFFABRRRQAUUUUAFFFFABRRRQAUUUUAFFFFABRRRQAUUUUAFFFFABRRRQAUUUUAFFFFABRRRQAUUUUAFFFFABRRRQAUUUUAFFFFABRRRQAUUUUAFFFFABRRRQAUUUUAFFFFABRRRQAUUUUAFFFFABRRRQAUUUUAFFFFABRRRQAUUUUAFFFFABRRRQAUUUUAFFFFABRRRQAUUUUAf/Z\">"
            ]
          },
          "metadata": {
            "tags": []
          }
        }
      ]
    },
    {
      "cell_type": "markdown",
      "metadata": {
        "id": "x5NBdZSRkuSu",
        "colab_type": "text"
      },
      "source": [
        "# Submit the MLP with 2 hidden layers\n",
        "Run these cells after training the MLP with 2 hidden layers"
      ]
    },
    {
      "cell_type": "code",
      "metadata": {
        "id": "3iRMqYxLkuSx",
        "colab_type": "code",
        "colab": {}
      },
      "source": [
        "## GRADED PART, DO NOT CHANGE!\n",
        "# Validation loss for MLP\n",
        "grader.set_answer(\"i8bgs\", s.run(loss, {input_X: X_val_flat, input_y: y_val_oh}))\n",
        "# Validation accuracy for MLP\n",
        "grader.set_answer(\"rE763\", accuracy_score(y_val, s.run(classes, {input_X: X_val_flat})))"
      ],
      "execution_count": 0,
      "outputs": []
    },
    {
      "cell_type": "code",
      "metadata": {
        "id": "1J2mxtRIkuS2",
        "colab_type": "code",
        "colab": {
          "base_uri": "https://localhost:8080/",
          "height": 36
        },
        "outputId": "68930bb7-2777-47a6-d076-9f4ef86b9bf8"
      },
      "source": [
        "# you can make submission with answers so far to check yourself at this stage\n",
        "grader.submit(COURSERA_EMAIL, COURSERA_TOKEN)"
      ],
      "execution_count": 127,
      "outputs": [
        {
          "output_type": "stream",
          "text": [
            "Submitted to Coursera platform. See results on assignment page!\n"
          ],
          "name": "stdout"
        }
      ]
    },
    {
      "cell_type": "code",
      "metadata": {
        "id": "PFz8aMH3kuS6",
        "colab_type": "code",
        "colab": {}
      },
      "source": [
        ""
      ],
      "execution_count": 0,
      "outputs": []
    }
  ]
}